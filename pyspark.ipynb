{
 "cells": [
  {
   "cell_type": "code",
   "execution_count": 1,
   "id": "6d12302f",
   "metadata": {
    "execution": {
     "iopub.execute_input": "2024-05-14T09:40:14.094245Z",
     "iopub.status.busy": "2024-05-14T09:40:14.093294Z",
     "iopub.status.idle": "2024-05-14T09:41:09.394108Z",
     "shell.execute_reply": "2024-05-14T09:41:09.392575Z"
    },
    "papermill": {
     "duration": 55.309218,
     "end_time": "2024-05-14T09:41:09.396992",
     "exception": false,
     "start_time": "2024-05-14T09:40:14.087774",
     "status": "completed"
    },
    "tags": []
   },
   "outputs": [
    {
     "name": "stdout",
     "output_type": "stream",
     "text": [
      "Collecting pyspark==3.5.0\r\n",
      "  Downloading pyspark-3.5.0.tar.gz (316.9 MB)\r\n",
      "\u001b[2K     \u001b[90m━━━━━━━━━━━━━━━━━━━━━━━━━━━━━━━━━━━━━━━\u001b[0m \u001b[32m316.9/316.9 MB\u001b[0m \u001b[31m4.7 MB/s\u001b[0m eta \u001b[36m0:00:00\u001b[0m\r\n",
      "\u001b[?25h  Preparing metadata (setup.py) ... \u001b[?25l-\b \b\\\b \bdone\r\n",
      "\u001b[?25hRequirement already satisfied: py4j==0.10.9.7 in /opt/conda/lib/python3.10/site-packages (from pyspark==3.5.0) (0.10.9.7)\r\n",
      "Building wheels for collected packages: pyspark\r\n",
      "  Building wheel for pyspark (setup.py) ... \u001b[?25l-\b \b\\\b \b|\b \bdone\r\n",
      "\u001b[?25h  Created wheel for pyspark: filename=pyspark-3.5.0-py2.py3-none-any.whl size=317425345 sha256=ef5a63a080da63f28d6a5f79f43e7989f14a745522ed2de71c8872d3a3b2b71c\r\n",
      "  Stored in directory: /root/.cache/pip/wheels/41/4e/10/c2cf2467f71c678cfc8a6b9ac9241e5e44a01940da8fbb17fc\r\n",
      "Successfully built pyspark\r\n",
      "Installing collected packages: pyspark\r\n",
      "Successfully installed pyspark-3.5.0\r\n"
     ]
    }
   ],
   "source": [
    " !pip install pyspark==3.5.0"
   ]
  },
  {
   "cell_type": "code",
   "execution_count": 2,
   "id": "c958689a",
   "metadata": {
    "execution": {
     "iopub.execute_input": "2024-05-14T09:41:09.426732Z",
     "iopub.status.busy": "2024-05-14T09:41:09.426275Z",
     "iopub.status.idle": "2024-05-14T09:41:24.326748Z",
     "shell.execute_reply": "2024-05-14T09:41:24.325428Z"
    },
    "papermill": {
     "duration": 14.91936,
     "end_time": "2024-05-14T09:41:24.329776",
     "exception": false,
     "start_time": "2024-05-14T09:41:09.410416",
     "status": "completed"
    },
    "tags": []
   },
   "outputs": [
    {
     "name": "stdout",
     "output_type": "stream",
     "text": [
      "Collecting findspark\r\n",
      "  Downloading findspark-2.0.1-py2.py3-none-any.whl.metadata (352 bytes)\r\n",
      "Downloading findspark-2.0.1-py2.py3-none-any.whl (4.4 kB)\r\n",
      "Installing collected packages: findspark\r\n",
      "Successfully installed findspark-2.0.1\r\n"
     ]
    }
   ],
   "source": [
    "!pip install findspark"
   ]
  },
  {
   "cell_type": "code",
   "execution_count": 3,
   "id": "abdbadc7",
   "metadata": {
    "_cell_guid": "b1076dfc-b9ad-4769-8c92-a6c4dae69d19",
    "_uuid": "8f2839f25d086af736a60e9eeb907d3b93b6e0e5",
    "execution": {
     "iopub.execute_input": "2024-05-14T09:41:24.360510Z",
     "iopub.status.busy": "2024-05-14T09:41:24.360075Z",
     "iopub.status.idle": "2024-05-14T09:41:24.466606Z",
     "shell.execute_reply": "2024-05-14T09:41:24.465516Z"
    },
    "papermill": {
     "duration": 0.126054,
     "end_time": "2024-05-14T09:41:24.469850",
     "exception": false,
     "start_time": "2024-05-14T09:41:24.343796",
     "status": "completed"
    },
    "tags": []
   },
   "outputs": [],
   "source": [
    "import findspark\n",
    "findspark.init()\n",
    "\n",
    "import pyspark\n",
    "from pyspark.sql import SparkSession"
   ]
  },
  {
   "cell_type": "code",
   "execution_count": 4,
   "id": "e6525fc8",
   "metadata": {
    "execution": {
     "iopub.execute_input": "2024-05-14T09:41:24.498770Z",
     "iopub.status.busy": "2024-05-14T09:41:24.498106Z",
     "iopub.status.idle": "2024-05-14T09:41:38.648820Z",
     "shell.execute_reply": "2024-05-14T09:41:38.647341Z"
    },
    "papermill": {
     "duration": 14.168932,
     "end_time": "2024-05-14T09:41:38.652255",
     "exception": false,
     "start_time": "2024-05-14T09:41:24.483323",
     "status": "completed"
    },
    "tags": []
   },
   "outputs": [
    {
     "name": "stderr",
     "output_type": "stream",
     "text": [
      "Setting default log level to \"WARN\".\n",
      "To adjust logging level use sc.setLogLevel(newLevel). For SparkR, use setLogLevel(newLevel).\n",
      "24/05/14 09:41:28 WARN NativeCodeLoader: Unable to load native-hadoop library for your platform... using builtin-java classes where applicable\n",
      "                                                                                \r"
     ]
    },
    {
     "name": "stdout",
     "output_type": "stream",
     "text": [
      "+-----------+--------+------+--------------------+------+---+-----+-----+----------------+-------+-----+--------+\n",
      "|PassengerId|Survived|Pclass|                Name|   Sex|Age|SibSp|Parch|          Ticket|   Fare|Cabin|Embarked|\n",
      "+-----------+--------+------+--------------------+------+---+-----+-----+----------------+-------+-----+--------+\n",
      "|          1|       0|     3|Braund, Mr. Owen ...|  male| 22|    1|    0|       A/5 21171|   7.25| NULL|       S|\n",
      "|          2|       1|     1|Cumings, Mrs. Joh...|female| 38|    1|    0|        PC 17599|71.2833|  C85|       C|\n",
      "|          3|       1|     3|Heikkinen, Miss. ...|female| 26|    0|    0|STON/O2. 3101282|  7.925| NULL|       S|\n",
      "|          4|       1|     1|Futrelle, Mrs. Ja...|female| 35|    1|    0|          113803|   53.1| C123|       S|\n",
      "|          5|       0|     3|Allen, Mr. Willia...|  male| 35|    0|    0|          373450|   8.05| NULL|       S|\n",
      "+-----------+--------+------+--------------------+------+---+-----+-----+----------------+-------+-----+--------+\n",
      "only showing top 5 rows\n",
      "\n"
     ]
    }
   ],
   "source": [
    "from pyspark.sql.functions import to_timestamp, col, lit\n",
    "spark = SparkSession.builder.getOrCreate()\n",
    "file_path = '/kaggle/input/titanic/train.csv'\n",
    "\n",
    "df = ( spark.read\n",
    "    .option(\"header\", \"true\")\n",
    "    .csv(file_path)\n",
    "   )\n",
    "df.show(5)"
   ]
  },
  {
   "cell_type": "code",
   "execution_count": 5,
   "id": "a3272f29",
   "metadata": {
    "execution": {
     "iopub.execute_input": "2024-05-14T09:41:38.694172Z",
     "iopub.status.busy": "2024-05-14T09:41:38.693658Z",
     "iopub.status.idle": "2024-05-14T09:41:38.935948Z",
     "shell.execute_reply": "2024-05-14T09:41:38.934701Z"
    },
    "papermill": {
     "duration": 0.267128,
     "end_time": "2024-05-14T09:41:38.939086",
     "exception": false,
     "start_time": "2024-05-14T09:41:38.671958",
     "status": "completed"
    },
    "tags": []
   },
   "outputs": [
    {
     "data": {
      "text/plain": [
       "[Row(PassengerId='1', Survived='0', Pclass='3', Name='Braund, Mr. Owen Harris', Sex='male', Age='22', SibSp='1', Parch='0', Ticket='A/5 21171', Fare='7.25', Cabin=None, Embarked='S'),\n",
       " Row(PassengerId='2', Survived='1', Pclass='1', Name='Cumings, Mrs. John Bradley (Florence Briggs Thayer)', Sex='female', Age='38', SibSp='1', Parch='0', Ticket='PC 17599', Fare='71.2833', Cabin='C85', Embarked='C'),\n",
       " Row(PassengerId='3', Survived='1', Pclass='3', Name='Heikkinen, Miss. Laina', Sex='female', Age='26', SibSp='0', Parch='0', Ticket='STON/O2. 3101282', Fare='7.925', Cabin=None, Embarked='S')]"
      ]
     },
     "execution_count": 5,
     "metadata": {},
     "output_type": "execute_result"
    }
   ],
   "source": [
    "df.take(3)"
   ]
  },
  {
   "cell_type": "code",
   "execution_count": null,
   "id": "c18b9e4e",
   "metadata": {
    "papermill": {
     "duration": 0.015399,
     "end_time": "2024-05-14T09:41:38.971152",
     "exception": false,
     "start_time": "2024-05-14T09:41:38.955753",
     "status": "completed"
    },
    "tags": []
   },
   "outputs": [],
   "source": []
  }
 ],
 "metadata": {
  "kaggle": {
   "accelerator": "none",
   "dataSources": [
    {
     "databundleVersionId": 26502,
     "sourceId": 3136,
     "sourceType": "competition"
    }
   ],
   "dockerImageVersionId": 30698,
   "isGpuEnabled": false,
   "isInternetEnabled": true,
   "language": "python",
   "sourceType": "notebook"
  },
  "kernelspec": {
   "display_name": "Python 3",
   "language": "python",
   "name": "python3"
  },
  "language_info": {
   "codemirror_mode": {
    "name": "ipython",
    "version": 3
   },
   "file_extension": ".py",
   "mimetype": "text/x-python",
   "name": "python",
   "nbconvert_exporter": "python",
   "pygments_lexer": "ipython3",
   "version": "3.10.13"
  },
  "papermill": {
   "default_parameters": {},
   "duration": 90.945539,
   "end_time": "2024-05-14T09:41:41.620373",
   "environment_variables": {},
   "exception": null,
   "input_path": "__notebook__.ipynb",
   "output_path": "__notebook__.ipynb",
   "parameters": {},
   "start_time": "2024-05-14T09:40:10.674834",
   "version": "2.5.0"
  }
 },
 "nbformat": 4,
 "nbformat_minor": 5
}
