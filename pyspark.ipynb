{
 "cells": [
  {
   "cell_type": "code",
   "execution_count": 1,
   "id": "0dbe1fdd",
   "metadata": {
    "execution": {
     "iopub.execute_input": "2024-05-21T09:29:57.631225Z",
     "iopub.status.busy": "2024-05-21T09:29:57.630814Z",
     "iopub.status.idle": "2024-05-21T09:30:53.190052Z",
     "shell.execute_reply": "2024-05-21T09:30:53.188565Z"
    },
    "papermill": {
     "duration": 55.580573,
     "end_time": "2024-05-21T09:30:53.193265",
     "exception": false,
     "start_time": "2024-05-21T09:29:57.612692",
     "status": "completed"
    },
    "tags": []
   },
   "outputs": [
    {
     "name": "stdout",
     "output_type": "stream",
     "text": [
      "Collecting pyspark==3.5.0\r\n",
      "  Downloading pyspark-3.5.0.tar.gz (316.9 MB)\r\n",
      "\u001b[2K     \u001b[90m━━━━━━━━━━━━━━━━━━━━━━━━━━━━━━━━━━━━━━━\u001b[0m \u001b[32m316.9/316.9 MB\u001b[0m \u001b[31m4.2 MB/s\u001b[0m eta \u001b[36m0:00:00\u001b[0m\r\n",
      "\u001b[?25h  Preparing metadata (setup.py) ... \u001b[?25l-\b \b\\\b \bdone\r\n",
      "\u001b[?25hRequirement already satisfied: py4j==0.10.9.7 in /opt/conda/lib/python3.10/site-packages (from pyspark==3.5.0) (0.10.9.7)\r\n",
      "Building wheels for collected packages: pyspark\r\n",
      "  Building wheel for pyspark (setup.py) ... \u001b[?25l-\b \b\\\b \b|\b \bdone\r\n",
      "\u001b[?25h  Created wheel for pyspark: filename=pyspark-3.5.0-py2.py3-none-any.whl size=317425345 sha256=0316d597f5c8921d5e30bd232f242de4613c80f9fc3de4486713b059c3171fac\r\n",
      "  Stored in directory: /root/.cache/pip/wheels/41/4e/10/c2cf2467f71c678cfc8a6b9ac9241e5e44a01940da8fbb17fc\r\n",
      "Successfully built pyspark\r\n",
      "Installing collected packages: pyspark\r\n",
      "Successfully installed pyspark-3.5.0\r\n"
     ]
    }
   ],
   "source": [
    " !pip install pyspark==3.5.0"
   ]
  },
  {
   "cell_type": "code",
   "execution_count": 2,
   "id": "f3499e3a",
   "metadata": {
    "execution": {
     "iopub.execute_input": "2024-05-21T09:30:53.238332Z",
     "iopub.status.busy": "2024-05-21T09:30:53.237534Z",
     "iopub.status.idle": "2024-05-21T09:31:08.382572Z",
     "shell.execute_reply": "2024-05-21T09:31:08.381186Z"
    },
    "papermill": {
     "duration": 15.170814,
     "end_time": "2024-05-21T09:31:08.385537",
     "exception": false,
     "start_time": "2024-05-21T09:30:53.214723",
     "status": "completed"
    },
    "tags": []
   },
   "outputs": [
    {
     "name": "stdout",
     "output_type": "stream",
     "text": [
      "Collecting findspark\r\n",
      "  Downloading findspark-2.0.1-py2.py3-none-any.whl.metadata (352 bytes)\r\n",
      "Downloading findspark-2.0.1-py2.py3-none-any.whl (4.4 kB)\r\n",
      "Installing collected packages: findspark\r\n",
      "Successfully installed findspark-2.0.1\r\n"
     ]
    }
   ],
   "source": [
    "!pip install findspark"
   ]
  },
  {
   "cell_type": "code",
   "execution_count": 3,
   "id": "e6ba16d6",
   "metadata": {
    "_cell_guid": "b1076dfc-b9ad-4769-8c92-a6c4dae69d19",
    "_uuid": "8f2839f25d086af736a60e9eeb907d3b93b6e0e5",
    "execution": {
     "iopub.execute_input": "2024-05-21T09:31:08.432841Z",
     "iopub.status.busy": "2024-05-21T09:31:08.432372Z",
     "iopub.status.idle": "2024-05-21T09:31:08.532384Z",
     "shell.execute_reply": "2024-05-21T09:31:08.531171Z"
    },
    "papermill": {
     "duration": 0.12806,
     "end_time": "2024-05-21T09:31:08.535422",
     "exception": false,
     "start_time": "2024-05-21T09:31:08.407362",
     "status": "completed"
    },
    "tags": []
   },
   "outputs": [],
   "source": [
    "import findspark\n",
    "findspark.init()\n",
    "\n",
    "import pyspark\n",
    "from pyspark.sql import SparkSession\n",
    "from pyspark.sql.functions import col, when, sum, avg, min, max, mean, count, to_timestamp, lit, lower, upper, substring, expr, date_add, date_sub\n",
    "from pyspark.sql.types import StructType, StructField, IntegerType, StringType, FloatType\n",
    "from pyspark.sql import Row"
   ]
  },
  {
   "cell_type": "code",
   "execution_count": 4,
   "id": "1f2d9136",
   "metadata": {
    "collapsed": true,
    "execution": {
     "iopub.execute_input": "2024-05-21T09:31:08.580090Z",
     "iopub.status.busy": "2024-05-21T09:31:08.579276Z",
     "iopub.status.idle": "2024-05-21T09:31:08.586014Z",
     "shell.execute_reply": "2024-05-21T09:31:08.584928Z"
    },
    "jupyter": {
     "outputs_hidden": true
    },
    "papermill": {
     "duration": 0.031785,
     "end_time": "2024-05-21T09:31:08.588646",
     "exception": false,
     "start_time": "2024-05-21T09:31:08.556861",
     "status": "completed"
    },
    "tags": []
   },
   "outputs": [
    {
     "name": "stdout",
     "output_type": "stream",
     "text": [
      "Help on function substring in module pyspark.sql.functions:\n",
      "\n",
      "substring(str: 'ColumnOrName', pos: int, len: int) -> pyspark.sql.column.Column\n",
      "    Substring starts at `pos` and is of length `len` when str is String type or\n",
      "    returns the slice of byte array that starts at `pos` in byte and is of length `len`\n",
      "    when str is Binary type.\n",
      "    \n",
      "    .. versionadded:: 1.5.0\n",
      "    \n",
      "    .. versionchanged:: 3.4.0\n",
      "        Supports Spark Connect.\n",
      "    \n",
      "    Notes\n",
      "    -----\n",
      "    The position is not zero based, but 1 based index.\n",
      "    \n",
      "    Parameters\n",
      "    ----------\n",
      "    str : :class:`~pyspark.sql.Column` or str\n",
      "        target column to work on.\n",
      "    pos : int\n",
      "        starting position in str.\n",
      "    len : int\n",
      "        length of chars.\n",
      "    \n",
      "    Returns\n",
      "    -------\n",
      "    :class:`~pyspark.sql.Column`\n",
      "        substring of given value.\n",
      "    \n",
      "    Examples\n",
      "    --------\n",
      "    >>> df = spark.createDataFrame([('abcd',)], ['s',])\n",
      "    >>> df.select(substring(df.s, 1, 2).alias('s')).collect()\n",
      "    [Row(s='ab')]\n",
      "\n"
     ]
    }
   ],
   "source": [
    "# help to see how to use a functions\n",
    "help(substring)"
   ]
  },
  {
   "cell_type": "code",
   "execution_count": 5,
   "id": "64cbd362",
   "metadata": {
    "execution": {
     "iopub.execute_input": "2024-05-21T09:31:08.634374Z",
     "iopub.status.busy": "2024-05-21T09:31:08.633920Z",
     "iopub.status.idle": "2024-05-21T09:31:14.820350Z",
     "shell.execute_reply": "2024-05-21T09:31:14.818863Z"
    },
    "papermill": {
     "duration": 6.212145,
     "end_time": "2024-05-21T09:31:14.823236",
     "exception": false,
     "start_time": "2024-05-21T09:31:08.611091",
     "status": "completed"
    },
    "tags": []
   },
   "outputs": [
    {
     "name": "stderr",
     "output_type": "stream",
     "text": [
      "Setting default log level to \"WARN\".\n",
      "To adjust logging level use sc.setLogLevel(newLevel). For SparkR, use setLogLevel(newLevel).\n",
      "24/05/21 09:31:12 WARN NativeCodeLoader: Unable to load native-hadoop library for your platform... using builtin-java classes where applicable\n"
     ]
    }
   ],
   "source": [
    "spark = SparkSession.builder.appName(\"TitanicData\").getOrCreate()\n",
    "file_path = '/kaggle/input/titanic/train.csv'"
   ]
  },
  {
   "cell_type": "code",
   "execution_count": 6,
   "id": "9af762e2",
   "metadata": {
    "execution": {
     "iopub.execute_input": "2024-05-21T09:31:14.869389Z",
     "iopub.status.busy": "2024-05-21T09:31:14.868566Z",
     "iopub.status.idle": "2024-05-21T09:31:17.700621Z",
     "shell.execute_reply": "2024-05-21T09:31:17.699243Z"
    },
    "papermill": {
     "duration": 2.859506,
     "end_time": "2024-05-21T09:31:17.704464",
     "exception": false,
     "start_time": "2024-05-21T09:31:14.844958",
     "status": "completed"
    },
    "tags": []
   },
   "outputs": [],
   "source": [
    "# Define schema\n",
    "schema = StructType([\n",
    "    StructField(\"PassengerId\", IntegerType(), True),\n",
    "    StructField(\"Survived\", IntegerType(), True),\n",
    "    StructField(\"Pclass\", IntegerType(), True),\n",
    "    StructField(\"Name\", StringType(), True),\n",
    "    StructField(\"Sex\", StringType(), True),\n",
    "    StructField(\"Age\", FloatType(), True),\n",
    "    StructField(\"SibSp\", IntegerType(), True),\n",
    "    StructField(\"Parch\", IntegerType(), True),\n",
    "    StructField(\"Ticket\", StringType(), True),\n",
    "    StructField(\"Fare\", FloatType(), True),\n",
    "    StructField(\"Cabin\", StringType(), True),\n",
    "    StructField(\"Embarked\", StringType(), True)\n",
    "])\n",
    "\n",
    "df = ( spark.read\n",
    "    .option(\"header\", \"true\")\n",
    "    .schema(schema)\n",
    "    .csv(file_path)\n",
    "   )"
   ]
  },
  {
   "cell_type": "code",
   "execution_count": 7,
   "id": "a5efe645",
   "metadata": {
    "execution": {
     "iopub.execute_input": "2024-05-21T09:31:17.757041Z",
     "iopub.status.busy": "2024-05-21T09:31:17.756528Z",
     "iopub.status.idle": "2024-05-21T09:31:17.793742Z",
     "shell.execute_reply": "2024-05-21T09:31:17.792853Z"
    },
    "papermill": {
     "duration": 0.065799,
     "end_time": "2024-05-21T09:31:17.798285",
     "exception": false,
     "start_time": "2024-05-21T09:31:17.732486",
     "status": "completed"
    },
    "tags": []
   },
   "outputs": [
    {
     "name": "stdout",
     "output_type": "stream",
     "text": [
      "root\n",
      " |-- PassengerId: integer (nullable = true)\n",
      " |-- Survived: integer (nullable = true)\n",
      " |-- Pclass: integer (nullable = true)\n",
      " |-- Name: string (nullable = true)\n",
      " |-- Sex: string (nullable = true)\n",
      " |-- Age: float (nullable = true)\n",
      " |-- SibSp: integer (nullable = true)\n",
      " |-- Parch: integer (nullable = true)\n",
      " |-- Ticket: string (nullable = true)\n",
      " |-- Fare: float (nullable = true)\n",
      " |-- Cabin: string (nullable = true)\n",
      " |-- Embarked: string (nullable = true)\n",
      "\n"
     ]
    }
   ],
   "source": [
    "#print schema\n",
    "df.printSchema()"
   ]
  },
  {
   "cell_type": "code",
   "execution_count": 8,
   "id": "b7ae331f",
   "metadata": {
    "execution": {
     "iopub.execute_input": "2024-05-21T09:31:17.855629Z",
     "iopub.status.busy": "2024-05-21T09:31:17.855145Z",
     "iopub.status.idle": "2024-05-21T09:31:22.879476Z",
     "shell.execute_reply": "2024-05-21T09:31:22.878223Z"
    },
    "papermill": {
     "duration": 5.053881,
     "end_time": "2024-05-21T09:31:22.883697",
     "exception": false,
     "start_time": "2024-05-21T09:31:17.829816",
     "status": "completed"
    },
    "tags": []
   },
   "outputs": [
    {
     "name": "stderr",
     "output_type": "stream",
     "text": [
      "                                                                                \r"
     ]
    },
    {
     "name": "stdout",
     "output_type": "stream",
     "text": [
      "+-----------+----+-----------+\n",
      "|PassengerId| Age|DateOfBirth|\n",
      "+-----------+----+-----------+\n",
      "|          1|22.0| 1891-02-09|\n",
      "|          2|38.0| 1875-01-08|\n",
      "|          3|26.0| 1887-04-12|\n",
      "|          4|35.0| 1878-04-17|\n",
      "|          5|35.0| 1877-09-10|\n",
      "|          6|NULL|       NULL|\n",
      "|          7|54.0| 1858-05-07|\n",
      "|          8| 2.0| 1910-11-16|\n",
      "|          9|27.0| 1885-10-11|\n",
      "|         10|14.0| 1898-10-31|\n",
      "|         11| 4.0| 1908-06-04|\n",
      "|         12|58.0| 1854-09-17|\n",
      "|         13|20.0| 1892-08-12|\n",
      "|         14|39.0| 1873-11-19|\n",
      "|         15|14.0| 1898-04-20|\n",
      "|         16|55.0| 1857-05-30|\n",
      "|         17| 2.0| 1910-06-07|\n",
      "|         18|NULL|       NULL|\n",
      "|         19|31.0| 1882-04-10|\n",
      "|         20|NULL|       NULL|\n",
      "+-----------+----+-----------+\n",
      "only showing top 20 rows\n",
      "\n"
     ]
    }
   ],
   "source": [
    "# Add column with date of birth to work with dates later\n",
    "# expr function in PySpark is used to execute SQL expressions and return a new column\n",
    "df = df.withColumn(\n",
    "    \"DateOfBirth\",\n",
    "    expr(\"date_add(to_date('1912-04-15', 'yyyy-MM-dd'), -cast(Age * 365 as int)) + cast(rand() * 365 as int)\")\n",
    ")\n",
    "\n",
    "# Show a few rows to verify\n",
    "df.select(\"PassengerId\", \"Age\", \"DateOfBirth\").show()"
   ]
  },
  {
   "cell_type": "code",
   "execution_count": 9,
   "id": "6facc29a",
   "metadata": {
    "execution": {
     "iopub.execute_input": "2024-05-21T09:31:22.942561Z",
     "iopub.status.busy": "2024-05-21T09:31:22.942042Z",
     "iopub.status.idle": "2024-05-21T09:31:24.096914Z",
     "shell.execute_reply": "2024-05-21T09:31:24.095475Z"
    },
    "papermill": {
     "duration": 1.189274,
     "end_time": "2024-05-21T09:31:24.100797",
     "exception": false,
     "start_time": "2024-05-21T09:31:22.911523",
     "status": "completed"
    },
    "tags": []
   },
   "outputs": [
    {
     "name": "stdout",
     "output_type": "stream",
     "text": [
      "+----------------+----------------+\n",
      "|min(DateOfBirth)|max(DateOfBirth)|\n",
      "+----------------+----------------+\n",
      "|      1832-07-10|      1912-09-27|\n",
      "+----------------+----------------+\n",
      "\n"
     ]
    }
   ],
   "source": [
    "# find the earliest and latest dates\n",
    "df.select(min('DateOfBirth'),max('DateOfBirth')).show()"
   ]
  },
  {
   "cell_type": "code",
   "execution_count": 10,
   "id": "4b6cc5d4",
   "metadata": {
    "execution": {
     "iopub.execute_input": "2024-05-21T09:31:24.160111Z",
     "iopub.status.busy": "2024-05-21T09:31:24.159531Z",
     "iopub.status.idle": "2024-05-21T09:31:24.618496Z",
     "shell.execute_reply": "2024-05-21T09:31:24.617362Z"
    },
    "papermill": {
     "duration": 0.48808,
     "end_time": "2024-05-21T09:31:24.623818",
     "exception": false,
     "start_time": "2024-05-21T09:31:24.135738",
     "status": "completed"
    },
    "tags": []
   },
   "outputs": [
    {
     "name": "stdout",
     "output_type": "stream",
     "text": [
      "+-----------------------------+-----------------------------+\n",
      "|date_sub(min(DateOfBirth), 3)|date_add(max(DateOfBirth), 3)|\n",
      "+-----------------------------+-----------------------------+\n",
      "|                   1832-07-07|                   1912-09-30|\n",
      "+-----------------------------+-----------------------------+\n",
      "\n"
     ]
    }
   ],
   "source": [
    "# +3 and -3\n",
    "df.select(date_sub(min('DateOfBirth'),3),date_add(max('DateOfBirth'),3)).show()"
   ]
  },
  {
   "cell_type": "code",
   "execution_count": 11,
   "id": "5daff162",
   "metadata": {
    "collapsed": true,
    "execution": {
     "iopub.execute_input": "2024-05-21T09:31:24.689855Z",
     "iopub.status.busy": "2024-05-21T09:31:24.689330Z",
     "iopub.status.idle": "2024-05-21T09:31:24.955831Z",
     "shell.execute_reply": "2024-05-21T09:31:24.954653Z"
    },
    "jupyter": {
     "outputs_hidden": true
    },
    "papermill": {
     "duration": 0.303006,
     "end_time": "2024-05-21T09:31:24.958855",
     "exception": false,
     "start_time": "2024-05-21T09:31:24.655849",
     "status": "completed"
    },
    "tags": []
   },
   "outputs": [
    {
     "name": "stdout",
     "output_type": "stream",
     "text": [
      "+---------------------------------------------------+\n",
      "|Name                                               |\n",
      "+---------------------------------------------------+\n",
      "|Braund, Mr. Owen Harris                            |\n",
      "|Cumings, Mrs. John Bradley (Florence Briggs Thayer)|\n",
      "|Heikkinen, Miss. Laina                             |\n",
      "|Futrelle, Mrs. Jacques Heath (Lily May Peel)       |\n",
      "|Allen, Mr. William Henry                           |\n",
      "|Moran, Mr. James                                   |\n",
      "|McCarthy, Mr. Timothy J                            |\n",
      "|Palsson, Master. Gosta Leonard                     |\n",
      "|Johnson, Mrs. Oscar W (Elisabeth Vilhelmina Berg)  |\n",
      "|Nasser, Mrs. Nicholas (Adele Achem)                |\n",
      "+---------------------------------------------------+\n",
      "only showing top 10 rows\n",
      "\n"
     ]
    }
   ],
   "source": [
    "# showing n rows\n",
    "df.select(\"Name\").show(n=10, truncate=False)"
   ]
  },
  {
   "cell_type": "code",
   "execution_count": 12,
   "id": "76712601",
   "metadata": {
    "execution": {
     "iopub.execute_input": "2024-05-21T09:31:25.010472Z",
     "iopub.status.busy": "2024-05-21T09:31:25.009937Z",
     "iopub.status.idle": "2024-05-21T09:31:25.302061Z",
     "shell.execute_reply": "2024-05-21T09:31:25.300877Z"
    },
    "papermill": {
     "duration": 0.323949,
     "end_time": "2024-05-21T09:31:25.305095",
     "exception": false,
     "start_time": "2024-05-21T09:31:24.981146",
     "status": "completed"
    },
    "tags": []
   },
   "outputs": [
    {
     "name": "stdout",
     "output_type": "stream",
     "text": [
      "+--------------------+--------------------+---------------------+\n",
      "|         upper(Name)|         lower(Name)|substring(Name, 0, 3)|\n",
      "+--------------------+--------------------+---------------------+\n",
      "|BRAUND, MR. OWEN ...|braund, mr. owen ...|                  Bra|\n",
      "|CUMINGS, MRS. JOH...|cumings, mrs. joh...|                  Cum|\n",
      "|HEIKKINEN, MISS. ...|heikkinen, miss. ...|                  Hei|\n",
      "|FUTRELLE, MRS. JA...|futrelle, mrs. ja...|                  Fut|\n",
      "|ALLEN, MR. WILLIA...|allen, mr. willia...|                  All|\n",
      "|    MORAN, MR. JAMES|    moran, mr. james|                  Mor|\n",
      "|MCCARTHY, MR. TIM...|mccarthy, mr. tim...|                  McC|\n",
      "|PALSSON, MASTER. ...|palsson, master. ...|                  Pal|\n",
      "|JOHNSON, MRS. OSC...|johnson, mrs. osc...|                  Joh|\n",
      "|NASSER, MRS. NICH...|nasser, mrs. nich...|                  Nas|\n",
      "+--------------------+--------------------+---------------------+\n",
      "only showing top 10 rows\n",
      "\n"
     ]
    }
   ],
   "source": [
    "# upper, lower and substring functions\n",
    "df.select(upper('Name'), lower('Name'),substring('Name',0,3)).show(10)"
   ]
  },
  {
   "cell_type": "code",
   "execution_count": 13,
   "id": "e2c70ed7",
   "metadata": {
    "execution": {
     "iopub.execute_input": "2024-05-21T09:31:25.371777Z",
     "iopub.status.busy": "2024-05-21T09:31:25.370571Z",
     "iopub.status.idle": "2024-05-21T09:31:26.158297Z",
     "shell.execute_reply": "2024-05-21T09:31:26.157084Z"
    },
    "papermill": {
     "duration": 0.824711,
     "end_time": "2024-05-21T09:31:26.162551",
     "exception": false,
     "start_time": "2024-05-21T09:31:25.337840",
     "status": "completed"
    },
    "tags": []
   },
   "outputs": [
    {
     "name": "stdout",
     "output_type": "stream",
     "text": [
      "+--------+\n",
      "|Survived|\n",
      "+--------+\n",
      "|       1|\n",
      "|       0|\n",
      "+--------+\n",
      "\n"
     ]
    }
   ],
   "source": [
    "# check unique values\n",
    "df.select('Survived').distinct().show()"
   ]
  },
  {
   "cell_type": "code",
   "execution_count": 14,
   "id": "93906e02",
   "metadata": {
    "execution": {
     "iopub.execute_input": "2024-05-21T09:31:26.212848Z",
     "iopub.status.busy": "2024-05-21T09:31:26.211525Z",
     "iopub.status.idle": "2024-05-21T09:31:27.087204Z",
     "shell.execute_reply": "2024-05-21T09:31:27.086055Z"
    },
    "papermill": {
     "duration": 0.903023,
     "end_time": "2024-05-21T09:31:27.090570",
     "exception": false,
     "start_time": "2024-05-21T09:31:26.187547",
     "status": "completed"
    },
    "tags": []
   },
   "outputs": [
    {
     "data": {
      "text/plain": [
       "0.3838383838383838"
      ]
     },
     "execution_count": 14,
     "metadata": {},
     "output_type": "execute_result"
    }
   ],
   "source": [
    "# find percentage of survived\n",
    "survived = df.filter(col('Survived') == 1).count() / df.count()\n",
    "survived"
   ]
  },
  {
   "cell_type": "code",
   "execution_count": 15,
   "id": "3a32563a",
   "metadata": {
    "execution": {
     "iopub.execute_input": "2024-05-21T09:31:27.162174Z",
     "iopub.status.busy": "2024-05-21T09:31:27.161267Z",
     "iopub.status.idle": "2024-05-21T09:31:27.987682Z",
     "shell.execute_reply": "2024-05-21T09:31:27.985940Z"
    },
    "papermill": {
     "duration": 0.865696,
     "end_time": "2024-05-21T09:31:27.991330",
     "exception": false,
     "start_time": "2024-05-21T09:31:27.125634",
     "status": "completed"
    },
    "tags": []
   },
   "outputs": [
    {
     "name": "stdout",
     "output_type": "stream",
     "text": [
      "+----+\n",
      "| Age|\n",
      "+----+\n",
      "|NULL|\n",
      "|24.0|\n",
      "|22.0|\n",
      "+----+\n",
      "only showing top 3 rows\n",
      "\n"
     ]
    }
   ],
   "source": [
    "#find the top 3 ages\n",
    "grouped_df = df.groupBy('Age').agg(count('PassengerId').alias('Passengers_count')).orderBy(col('Passengers_count').desc())\n",
    "grouped_df.select('Age').show(3)"
   ]
  },
  {
   "cell_type": "code",
   "execution_count": 16,
   "id": "b42d8d54",
   "metadata": {
    "execution": {
     "iopub.execute_input": "2024-05-21T09:31:28.061998Z",
     "iopub.status.busy": "2024-05-21T09:31:28.061439Z",
     "iopub.status.idle": "2024-05-21T09:31:28.335803Z",
     "shell.execute_reply": "2024-05-21T09:31:28.334623Z"
    },
    "papermill": {
     "duration": 0.311841,
     "end_time": "2024-05-21T09:31:28.338700",
     "exception": false,
     "start_time": "2024-05-21T09:31:28.026859",
     "status": "completed"
    },
    "tags": []
   },
   "outputs": [
    {
     "data": {
      "text/plain": [
       "[Row(PassengerId=1, Survived=0, Pclass=3, Name='Braund, Mr. Owen Harris', Sex='male', Age=22.0, SibSp=1, Parch=0, Ticket='A/5 21171', Fare=7.25, Cabin=None, Embarked='S', DateOfBirth=datetime.date(1891, 2, 9)),\n",
       " Row(PassengerId=2, Survived=1, Pclass=1, Name='Cumings, Mrs. John Bradley (Florence Briggs Thayer)', Sex='female', Age=38.0, SibSp=1, Parch=0, Ticket='PC 17599', Fare=71.2833023071289, Cabin='C85', Embarked='C', DateOfBirth=datetime.date(1875, 1, 8)),\n",
       " Row(PassengerId=3, Survived=1, Pclass=3, Name='Heikkinen, Miss. Laina', Sex='female', Age=26.0, SibSp=0, Parch=0, Ticket='STON/O2. 3101282', Fare=7.925000190734863, Cabin=None, Embarked='S', DateOfBirth=datetime.date(1887, 4, 12))]"
      ]
     },
     "execution_count": 16,
     "metadata": {},
     "output_type": "execute_result"
    }
   ],
   "source": [
    "#collecting rows\n",
    "df.take(3)"
   ]
  },
  {
   "cell_type": "code",
   "execution_count": 17,
   "id": "4df062c8",
   "metadata": {
    "execution": {
     "iopub.execute_input": "2024-05-21T09:31:28.406313Z",
     "iopub.status.busy": "2024-05-21T09:31:28.405339Z",
     "iopub.status.idle": "2024-05-21T09:31:28.735033Z",
     "shell.execute_reply": "2024-05-21T09:31:28.733802Z"
    },
    "papermill": {
     "duration": 0.3668,
     "end_time": "2024-05-21T09:31:28.737601",
     "exception": false,
     "start_time": "2024-05-21T09:31:28.370801",
     "status": "completed"
    },
    "tags": []
   },
   "outputs": [
    {
     "name": "stdout",
     "output_type": "stream",
     "text": [
      "+-----------+--------+------+--------------------+------+----+-----+-----+----------------+-------+-----+--------+-----------+-----------+\n",
      "|PassengerId|Survived|Pclass|                Name|   Sex| Age|SibSp|Parch|          Ticket|   Fare|Cabin|Embarked|DateOfBirth|not_married|\n",
      "+-----------+--------+------+--------------------+------+----+-----+-----+----------------+-------+-----+--------+-----------+-----------+\n",
      "|          1|       0|     3|Braund, Mr. Owen ...|  male|22.0|    1|    0|       A/5 21171|   7.25| NULL|       S| 1891-02-09|          0|\n",
      "|          2|       1|     1|Cumings, Mrs. Joh...|female|38.0|    1|    0|        PC 17599|71.2833|  C85|       C| 1875-01-08|          0|\n",
      "|          3|       1|     3|Heikkinen, Miss. ...|female|26.0|    0|    0|STON/O2. 3101282|  7.925| NULL|       S| 1887-04-12|          1|\n",
      "|          4|       1|     1|Futrelle, Mrs. Ja...|female|35.0|    1|    0|          113803|   53.1| C123|       S| 1878-04-17|          0|\n",
      "|          5|       0|     3|Allen, Mr. Willia...|  male|35.0|    0|    0|          373450|   8.05| NULL|       S| 1877-09-10|          0|\n",
      "+-----------+--------+------+--------------------+------+----+-----+-----+----------------+-------+-----+--------+-----------+-----------+\n",
      "only showing top 5 rows\n",
      "\n"
     ]
    }
   ],
   "source": [
    "# Create a new column 'not_married' with 1 if 'Name' contains 'miss' or 'Miss', and 0 otherwise\n",
    "df = df.withColumn(\n",
    "    'not_married',\n",
    "    when(col('Name').contains('miss') | col('Name').contains('Miss'), 1).otherwise(0)\n",
    ")\n",
    "df.show(5)"
   ]
  },
  {
   "cell_type": "code",
   "execution_count": 18,
   "id": "b2765500",
   "metadata": {
    "execution": {
     "iopub.execute_input": "2024-05-21T09:31:28.787197Z",
     "iopub.status.busy": "2024-05-21T09:31:28.785695Z",
     "iopub.status.idle": "2024-05-21T09:31:29.014009Z",
     "shell.execute_reply": "2024-05-21T09:31:29.012575Z"
    },
    "papermill": {
     "duration": 0.256092,
     "end_time": "2024-05-21T09:31:29.016970",
     "exception": false,
     "start_time": "2024-05-21T09:31:28.760878",
     "status": "completed"
    },
    "tags": []
   },
   "outputs": [
    {
     "data": {
      "text/plain": [
       "'Heikkinen, Miss. Laina'"
      ]
     },
     "execution_count": 18,
     "metadata": {},
     "output_type": "execute_result"
    }
   ],
   "source": [
    "# Select a specific row and column value\n",
    "value = df.filter(col('PassengerId') == 3).select('Name').collect()[0]['Name']\n",
    "value"
   ]
  },
  {
   "cell_type": "code",
   "execution_count": 19,
   "id": "e00c5057",
   "metadata": {
    "execution": {
     "iopub.execute_input": "2024-05-21T09:31:29.066108Z",
     "iopub.status.busy": "2024-05-21T09:31:29.065656Z",
     "iopub.status.idle": "2024-05-21T09:31:29.292863Z",
     "shell.execute_reply": "2024-05-21T09:31:29.290158Z"
    },
    "papermill": {
     "duration": 0.255474,
     "end_time": "2024-05-21T09:31:29.296147",
     "exception": false,
     "start_time": "2024-05-21T09:31:29.040673",
     "status": "completed"
    },
    "tags": []
   },
   "outputs": [
    {
     "name": "stdout",
     "output_type": "stream",
     "text": [
      "+-----------+--------+------+--------------------+\n",
      "|PassengerId|Survived|Pclass|                Name|\n",
      "+-----------+--------+------+--------------------+\n",
      "|          1|       0|     3|Braund, Mr. Owen ...|\n",
      "|          2|       1|     1|Cumings, Mrs. Joh...|\n",
      "|          3|       1|     3|Heikkinen, Miss. ...|\n",
      "|          4|       1|     1|Futrelle, Mrs. Ja...|\n",
      "|          5|       0|     3|Allen, Mr. Willia...|\n",
      "+-----------+--------+------+--------------------+\n",
      "only showing top 5 rows\n",
      "\n"
     ]
    }
   ],
   "source": [
    "# Select columns by position\n",
    "df_selected = df.select(df.columns[0:4])\n",
    "df_selected.show(5)"
   ]
  },
  {
   "cell_type": "code",
   "execution_count": 20,
   "id": "7481b3a7",
   "metadata": {
    "execution": {
     "iopub.execute_input": "2024-05-21T09:31:29.369286Z",
     "iopub.status.busy": "2024-05-21T09:31:29.368589Z",
     "iopub.status.idle": "2024-05-21T09:31:29.580297Z",
     "shell.execute_reply": "2024-05-21T09:31:29.578851Z"
    },
    "papermill": {
     "duration": 0.251115,
     "end_time": "2024-05-21T09:31:29.583702",
     "exception": false,
     "start_time": "2024-05-21T09:31:29.332587",
     "status": "completed"
    },
    "tags": []
   },
   "outputs": [
    {
     "data": {
      "text/plain": [
       "(891, 4)"
      ]
     },
     "execution_count": 20,
     "metadata": {},
     "output_type": "execute_result"
    }
   ],
   "source": [
    "#getting shape\n",
    "def get_shape(df):\n",
    "    num_rows = df.count()\n",
    "    num_cols = len(df.columns)\n",
    "    return (num_rows, num_cols)\n",
    "\n",
    "# Get the shape of the DataFrame\n",
    "shape = get_shape(df_selected)\n",
    "shape"
   ]
  },
  {
   "cell_type": "code",
   "execution_count": 21,
   "id": "30c4f71f",
   "metadata": {
    "execution": {
     "iopub.execute_input": "2024-05-21T09:31:29.654339Z",
     "iopub.status.busy": "2024-05-21T09:31:29.653050Z",
     "iopub.status.idle": "2024-05-21T09:31:33.263066Z",
     "shell.execute_reply": "2024-05-21T09:31:33.261842Z"
    },
    "papermill": {
     "duration": 3.651513,
     "end_time": "2024-05-21T09:31:33.269374",
     "exception": false,
     "start_time": "2024-05-21T09:31:29.617861",
     "status": "completed"
    },
    "tags": []
   },
   "outputs": [
    {
     "name": "stderr",
     "output_type": "stream",
     "text": [
      "[Stage 28:>                                                         (0 + 4) / 5]\r"
     ]
    },
    {
     "name": "stdout",
     "output_type": "stream",
     "text": [
      "+-----------+--------+------+--------------------+\n",
      "|PassengerId|Survived|Pclass|                Name|\n",
      "+-----------+--------+------+--------------------+\n",
      "|          1|       0|     3|Braund, Mr. Owen ...|\n",
      "|          2|       1|     1|Cumings, Mrs. Joh...|\n",
      "|          3|       1|     3|Heikkinen, Miss. ...|\n",
      "|          4|       1|     1|Futrelle, Mrs. Ja...|\n",
      "|          5|       0|     3|Allen, Mr. Willia...|\n",
      "+-----------+--------+------+--------------------+\n",
      "only showing top 5 rows\n",
      "\n"
     ]
    },
    {
     "name": "stderr",
     "output_type": "stream",
     "text": [
      "                                                                                \r"
     ]
    }
   ],
   "source": [
    "# Concatenate DataFrames: add a new row\n",
    "new_row = spark.createDataFrame([Row(PassengerId=1000, Survived=1, Pclass=3, Name='JJ')])\n",
    "df_new = new_row.union(df_selected)\n",
    "df_new.orderBy(\"PassengerId\", ascending=True).show(5)\n"
   ]
  },
  {
   "cell_type": "code",
   "execution_count": 22,
   "id": "ba6ef84b",
   "metadata": {
    "execution": {
     "iopub.execute_input": "2024-05-21T09:31:33.398990Z",
     "iopub.status.busy": "2024-05-21T09:31:33.398252Z",
     "iopub.status.idle": "2024-05-21T09:31:33.939470Z",
     "shell.execute_reply": "2024-05-21T09:31:33.938229Z"
    },
    "papermill": {
     "duration": 0.569605,
     "end_time": "2024-05-21T09:31:33.942283",
     "exception": false,
     "start_time": "2024-05-21T09:31:33.372678",
     "status": "completed"
    },
    "tags": []
   },
   "outputs": [
    {
     "name": "stdout",
     "output_type": "stream",
     "text": [
      "+-----------+--------+------+--------------------+------+----+-----+-----+--------+-------+-----+--------+-----------+-----------+\n",
      "|PassengerId|Survived|Pclass|                Name|   Sex| Age|SibSp|Parch|  Ticket|   Fare|Cabin|Embarked|DateOfBirth|not_married|\n",
      "+-----------+--------+------+--------------------+------+----+-----+-----+--------+-------+-----+--------+-----------+-----------+\n",
      "|         53|       1|     1|Harper, Mrs. Henr...|female|49.0|    1|    0|PC 17572|76.7292|  D33|       C| 1863-08-09|          0|\n",
      "|        137|       1|     1|Newsom, Miss. Hel...|female|19.0|    0|    2|   11752|26.2833|  D47|       S| 1893-06-26|          1|\n",
      "|         56|       1|     1|   Woolner, Mr. Hugh|  male|NULL|    0|    0|   19947|   35.5|  C52|       S|       NULL|          0|\n",
      "|          4|       1|     1|Futrelle, Mrs. Ja...|female|35.0|    1|    0|  113803|   53.1| C123|       S| 1878-04-17|          0|\n",
      "|         62|       1|     1| Icard, Miss. Amelie|female|38.0|    0|    0|  113572|   80.0|  B28|    NULL| 1874-09-08|          1|\n",
      "+-----------+--------+------+--------------------+------+----+-----+-----+--------+-------+-----+--------+-----------+-----------+\n",
      "only showing top 5 rows\n",
      "\n"
     ]
    }
   ],
   "source": [
    "# Sort values\n",
    "df = df.orderBy(col('Pclass').asc(), col('Survived').desc())\n",
    "df.show(5)"
   ]
  },
  {
   "cell_type": "code",
   "execution_count": 23,
   "id": "a56ac304",
   "metadata": {
    "execution": {
     "iopub.execute_input": "2024-05-21T09:31:33.993002Z",
     "iopub.status.busy": "2024-05-21T09:31:33.992301Z",
     "iopub.status.idle": "2024-05-21T09:31:34.005382Z",
     "shell.execute_reply": "2024-05-21T09:31:34.004418Z"
    },
    "papermill": {
     "duration": 0.042413,
     "end_time": "2024-05-21T09:31:34.008935",
     "exception": false,
     "start_time": "2024-05-21T09:31:33.966522",
     "status": "completed"
    },
    "tags": []
   },
   "outputs": [],
   "source": [
    "# Drop duplicates\n",
    "df = df.dropDuplicates(['PassengerId'])"
   ]
  },
  {
   "cell_type": "code",
   "execution_count": 24,
   "id": "3389a0a1",
   "metadata": {
    "execution": {
     "iopub.execute_input": "2024-05-21T09:31:34.080859Z",
     "iopub.status.busy": "2024-05-21T09:31:34.080323Z",
     "iopub.status.idle": "2024-05-21T09:31:35.345189Z",
     "shell.execute_reply": "2024-05-21T09:31:35.343971Z"
    },
    "papermill": {
     "duration": 1.306694,
     "end_time": "2024-05-21T09:31:35.350441",
     "exception": false,
     "start_time": "2024-05-21T09:31:34.043747",
     "status": "completed"
    },
    "tags": []
   },
   "outputs": [
    {
     "name": "stdout",
     "output_type": "stream",
     "text": [
      "+-----------+--------+------+------+----+-----+-----+-------+-----+--------+-----------+-----------+\n",
      "|PassengerId|Survived|Pclass|   Sex| Age|SibSp|Parch|   Fare|Cabin|Embarked|DateOfBirth|not_married|\n",
      "+-----------+--------+------+------+----+-----+-----+-------+-----+--------+-----------+-----------+\n",
      "|          1|       0|     3|  male|22.0|    1|    0|   7.25| NULL|       S| 1891-02-09|          0|\n",
      "|          2|       1|     1|female|38.0|    1|    0|71.2833|  C85|       C| 1875-01-08|          0|\n",
      "|          3|       1|     3|female|26.0|    0|    0|  7.925| NULL|       S| 1887-04-12|          1|\n",
      "|          4|       1|     1|female|35.0|    1|    0|   53.1| C123|       S| 1878-04-17|          0|\n",
      "|          5|       0|     3|  male|35.0|    0|    0|   8.05| NULL|       S| 1877-09-10|          0|\n",
      "+-----------+--------+------+------+----+-----+-----+-------+-----+--------+-----------+-----------+\n",
      "only showing top 5 rows\n",
      "\n"
     ]
    }
   ],
   "source": [
    "# Drop columns\n",
    "# Remove columns 'a' and 'b'\n",
    "df = df.drop('Name', 'Ticket')\n",
    "df.show(5)"
   ]
  },
  {
   "cell_type": "code",
   "execution_count": 25,
   "id": "cf27edf6",
   "metadata": {
    "execution": {
     "iopub.execute_input": "2024-05-21T09:31:35.421398Z",
     "iopub.status.busy": "2024-05-21T09:31:35.420909Z",
     "iopub.status.idle": "2024-05-21T09:31:36.070400Z",
     "shell.execute_reply": "2024-05-21T09:31:36.069296Z"
    },
    "papermill": {
     "duration": 0.688585,
     "end_time": "2024-05-21T09:31:36.073884",
     "exception": false,
     "start_time": "2024-05-21T09:31:35.385299",
     "status": "completed"
    },
    "tags": []
   },
   "outputs": [
    {
     "name": "stdout",
     "output_type": "stream",
     "text": [
      "+-----------+--------+-----+------+----+-----+-----+-------+-----+--------+-----------+-----------+\n",
      "|PassengerId|Survived|Class|   Sex| Age|SibSp|Parch|   Fare|Cabin|Embarked|DateOfBirth|not_married|\n",
      "+-----------+--------+-----+------+----+-----+-----+-------+-----+--------+-----------+-----------+\n",
      "|          1|       0|    3|  male|22.0|    1|    0|   7.25| NULL|       S| 1891-02-09|          0|\n",
      "|          2|       1|    1|female|38.0|    1|    0|71.2833|  C85|       C| 1875-01-08|          0|\n",
      "|          3|       1|    3|female|26.0|    0|    0|  7.925| NULL|       S| 1887-04-12|          1|\n",
      "|          4|       1|    1|female|35.0|    1|    0|   53.1| C123|       S| 1878-04-17|          0|\n",
      "|          5|       0|    3|  male|35.0|    0|    0|   8.05| NULL|       S| 1877-09-10|          0|\n",
      "+-----------+--------+-----+------+----+-----+-----+-------+-----+--------+-----------+-----------+\n",
      "only showing top 5 rows\n",
      "\n"
     ]
    }
   ],
   "source": [
    "# Rename columns\n",
    "df = df.withColumnRenamed('Pclass', 'Class')\n",
    "df.show(5)"
   ]
  },
  {
   "cell_type": "code",
   "execution_count": 26,
   "id": "37dac800",
   "metadata": {
    "execution": {
     "iopub.execute_input": "2024-05-21T09:31:36.147590Z",
     "iopub.status.busy": "2024-05-21T09:31:36.147061Z",
     "iopub.status.idle": "2024-05-21T09:31:37.095118Z",
     "shell.execute_reply": "2024-05-21T09:31:37.093969Z"
    },
    "papermill": {
     "duration": 0.989734,
     "end_time": "2024-05-21T09:31:37.099407",
     "exception": false,
     "start_time": "2024-05-21T09:31:36.109673",
     "status": "completed"
    },
    "tags": []
   },
   "outputs": [
    {
     "name": "stdout",
     "output_type": "stream",
     "text": [
      "+------+-----+--------+----------------+\n",
      "|   Sex|Class|Survived|Passengers_count|\n",
      "+------+-----+--------+----------------+\n",
      "|female|    1|       0|               3|\n",
      "|female|    2|       0|               6|\n",
      "|  male|    2|       0|              91|\n",
      "|  male|    1|       0|              77|\n",
      "|  male|    3|       0|             300|\n",
      "|female|    3|       0|              72|\n",
      "|  male|    2|       1|              17|\n",
      "|female|    2|       1|              70|\n",
      "|  male|    1|       1|              45|\n",
      "|female|    1|       1|              91|\n",
      "|  male|    3|       1|              47|\n",
      "|female|    3|       1|              72|\n",
      "+------+-----+--------+----------------+\n",
      "\n"
     ]
    }
   ],
   "source": [
    "# Group and aggregate\n",
    "grouped_df = df.groupBy('Sex', 'Class','Survived').agg(count('PassengerId').alias('Passengers_count'))\n",
    "grouped_df.show(50)"
   ]
  },
  {
   "cell_type": "code",
   "execution_count": 27,
   "id": "ca921130",
   "metadata": {
    "execution": {
     "iopub.execute_input": "2024-05-21T09:31:37.155092Z",
     "iopub.status.busy": "2024-05-21T09:31:37.154553Z",
     "iopub.status.idle": "2024-05-21T09:31:42.829129Z",
     "shell.execute_reply": "2024-05-21T09:31:42.827863Z"
    },
    "papermill": {
     "duration": 5.704668,
     "end_time": "2024-05-21T09:31:42.832485",
     "exception": false,
     "start_time": "2024-05-21T09:31:37.127817",
     "status": "completed"
    },
    "tags": []
   },
   "outputs": [
    {
     "name": "stdout",
     "output_type": "stream",
     "text": [
      "Column 'PassengerId': 0 null values\n",
      "Column 'Survived': 0 null values\n",
      "Column 'Class': 0 null values\n",
      "Column 'Sex': 0 null values\n",
      "Column 'Age': 177 null values\n",
      "Column 'SibSp': 0 null values\n",
      "Column 'Parch': 0 null values\n",
      "Column 'Fare': 0 null values\n",
      "Column 'Cabin': 687 null values\n",
      "Column 'Embarked': 2 null values\n",
      "Column 'DateOfBirth': 177 null values\n",
      "Column 'not_married': 0 null values\n"
     ]
    }
   ],
   "source": [
    "#check nulls\n",
    "# Initialize an empty dictionary to store the counts\n",
    "null_counts = {}\n",
    "\n",
    "# Iterate over each column in the DataFrame\n",
    "for col_name in df.columns:\n",
    "    # Count the number of null values in the column\n",
    "    null_count = df.filter(col(col_name).isNull()).count()\n",
    "    # Store the count in the dictionary\n",
    "    null_counts[col_name] = null_count\n",
    "\n",
    "# Print the null counts for each column\n",
    "for col_name, count in null_counts.items():\n",
    "    print(f\"Column '{col_name}': {count} null values\")"
   ]
  },
  {
   "cell_type": "code",
   "execution_count": 28,
   "id": "2e425777",
   "metadata": {
    "execution": {
     "iopub.execute_input": "2024-05-21T09:31:42.904920Z",
     "iopub.status.busy": "2024-05-21T09:31:42.904389Z",
     "iopub.status.idle": "2024-05-21T09:31:43.485199Z",
     "shell.execute_reply": "2024-05-21T09:31:43.484072Z"
    },
    "papermill": {
     "duration": 0.620179,
     "end_time": "2024-05-21T09:31:43.490975",
     "exception": false,
     "start_time": "2024-05-21T09:31:42.870796",
     "status": "completed"
    },
    "tags": []
   },
   "outputs": [
    {
     "name": "stdout",
     "output_type": "stream",
     "text": [
      "29.69911764704046\n"
     ]
    }
   ],
   "source": [
    "mean_value = df.select(mean(col('Age'))).collect()[0][0]\n",
    "print(mean_value)\n",
    "# Replace null values with the mean value\n",
    "df = df.withColumn('Age', when(col('Age').isNull(), mean_value).otherwise(col('Age')))"
   ]
  },
  {
   "cell_type": "code",
   "execution_count": 29,
   "id": "0aed94f8",
   "metadata": {
    "execution": {
     "iopub.execute_input": "2024-05-21T09:31:43.566506Z",
     "iopub.status.busy": "2024-05-21T09:31:43.565972Z",
     "iopub.status.idle": "2024-05-21T09:31:44.657593Z",
     "shell.execute_reply": "2024-05-21T09:31:44.656199Z"
    },
    "papermill": {
     "duration": 1.132947,
     "end_time": "2024-05-21T09:31:44.661214",
     "exception": false,
     "start_time": "2024-05-21T09:31:43.528267",
     "status": "completed"
    },
    "tags": []
   },
   "outputs": [
    {
     "name": "stdout",
     "output_type": "stream",
     "text": [
      "+-----------+--------+-----+------+---+-----+-----+--------+-------+--------+-----------+-----------+----+\n",
      "|PassengerId|Survived|Class|   Sex|Age|SibSp|Parch|    Fare|  Cabin|Embarked|DateOfBirth|not_married|rank|\n",
      "+-----------+--------+-----+------+---+-----+-----+--------+-------+--------+-----------+-----------+----+\n",
      "|        470|       1|    3|female|  0|    2|    1| 19.2583|   NULL|       C| 1912-04-07|          1|   1|\n",
      "|        645|       1|    3|female|  0|    2|    1| 19.2583|   NULL|       C| 1912-05-05|          1|   1|\n",
      "|        173|       1|    3|female|  1|    1|    1| 11.1333|   NULL|       S| 1911-08-01|          1|   3|\n",
      "|        382|       1|    3|female|  1|    0|    2| 15.7417|   NULL|       C| 1911-07-07|          1|   3|\n",
      "|        120|       0|    3|female|  2|    4|    2|  31.275|   NULL|       S| 1910-09-08|          1|   5|\n",
      "|        206|       0|    3|female|  2|    0|    1| 10.4625|     G6|       S| 1910-08-09|          1|   5|\n",
      "|        298|       0|    1|female|  2|    1|    2|  151.55|C22 C26|       S| 1910-07-28|          1|   5|\n",
      "|        480|       1|    3|female|  2|    0|    1| 12.2875|   NULL|       S| 1910-06-12|          1|   5|\n",
      "|        531|       1|    2|female|  2|    1|    1|    26.0|   NULL|       S| 1910-05-12|          1|   5|\n",
      "|        643|       0|    3|female|  2|    3|    2|    27.9|   NULL|       S| 1910-09-02|          1|   5|\n",
      "|         44|       1|    2|female|  3|    1|    2| 41.5792|   NULL|       C| 1909-04-27|          1|  11|\n",
      "|        375|       0|    3|female|  3|    3|    1|  21.075|   NULL|       S| 1910-01-16|          1|  11|\n",
      "|         11|       1|    3|female|  4|    1|    1|    16.7|     G6|       S| 1908-06-04|          1|  13|\n",
      "|        185|       1|    3|female|  4|    0|    2|  22.025|   NULL|       S| 1909-03-22|          1|  13|\n",
      "|        619|       1|    2|female|  4|    2|    1|    39.0|     F4|       S| 1908-04-24|          1|  13|\n",
      "|        692|       1|    3|female|  4|    0|    1| 13.4167|   NULL|       C| 1908-12-21|          1|  13|\n",
      "|        751|       1|    2|female|  4|    1|    1|    23.0|   NULL|       S| 1909-02-17|          1|  13|\n",
      "|         59|       1|    2|female|  5|    1|    2|   27.75|   NULL|       S| 1907-07-27|          1|  18|\n",
      "|        234|       1|    3|female|  5|    4|    2| 31.3875|   NULL|       S| 1907-12-08|          1|  18|\n",
      "|        449|       1|    3|female|  5|    2|    1| 19.2583|   NULL|       C| 1907-07-26|          1|  18|\n",
      "|        778|       1|    3|female|  5|    0|    0|  12.475|   NULL|       S| 1908-02-17|          1|  18|\n",
      "|        721|       1|    2|female|  6|    0|    1|    33.0|   NULL|       S| 1907-03-13|          1|  22|\n",
      "|        814|       0|    3|female|  6|    4|    2|  31.275|   NULL|       S| 1906-08-06|          1|  22|\n",
      "|        536|       1|    2|female|  7|    0|    2|   26.25|   NULL|       S| 1905-09-11|          1|  24|\n",
      "|         25|       0|    3|female|  8|    3|    1|  21.075|   NULL|       S| 1904-06-04|          1|  25|\n",
      "|        238|       1|    2|female|  8|    0|    2|   26.25|   NULL|       S| 1905-03-15|          1|  25|\n",
      "|        148|       0|    3|female|  9|    2|    2|  34.375|   NULL|       S| 1903-11-19|          1|  27|\n",
      "|        542|       0|    3|female|  9|    4|    2|  31.275|   NULL|       S| 1903-06-18|          1|  27|\n",
      "|        635|       0|    3|female|  9|    3|    2|    27.9|   NULL|       S| 1903-09-07|          1|  27|\n",
      "|        853|       0|    3|female|  9|    1|    1| 15.2458|   NULL|       C| 1903-11-25|          1|  27|\n",
      "|        420|       0|    3|female| 10|    0|    2|   24.15|   NULL|       S| 1902-07-10|          1|  31|\n",
      "|        543|       0|    3|female| 11|    4|    2|  31.275|   NULL|       S| 1902-03-03|          1|  32|\n",
      "|        447|       1|    2|female| 13|    0|    1|    19.5|   NULL|       S| 1899-05-14|          1|  33|\n",
      "|        781|       1|    3|female| 13|    0|    0|  7.2292|   NULL|       C| 1900-02-14|          1|  33|\n",
      "|         10|       1|    2|female| 14|    1|    0| 30.0708|   NULL|       C| 1898-10-31|          0|  35|\n",
      "|         15|       0|    3|female| 14|    0|    0|  7.8542|   NULL|       S| 1898-04-20|          1|  35|\n",
      "|         40|       1|    3|female| 14|    1|    0| 11.2417|   NULL|       C| 1898-05-09|          1|  35|\n",
      "|        112|       0|    3|female| 14|    1|    0| 14.4542|   NULL|       C| 1897-11-28|          1|  35|\n",
      "|        436|       1|    1|female| 14|    1|    2|   120.0|B96 B98|       S| 1898-05-04|          1|  35|\n",
      "|         23|       1|    3|female| 15|    0|    0|  8.0292|   NULL|       Q| 1897-12-01|          1|  40|\n",
      "|        690|       1|    1|female| 15|    0|    1|211.3375|     B5|       S| 1898-01-26|          1|  40|\n",
      "|        831|       1|    3|female| 15|    1|    0| 14.4542|   NULL|       C| 1897-08-12|          0|  40|\n",
      "|        876|       1|    3|female| 15|    0|    0|   7.225|   NULL|       C| 1897-05-09|          1|  40|\n",
      "|         72|       0|    3|female| 16|    5|    2|    46.9|   NULL|       S| 1897-03-10|          1|  44|\n",
      "|        157|       1|    3|female| 16|    0|    0|  7.7333|   NULL|       Q| 1896-11-12|          1|  44|\n",
      "|        209|       1|    3|female| 16|    0|    0|    7.75|   NULL|       Q| 1896-08-21|          1|  44|\n",
      "|        330|       1|    1|female| 16|    0|    1| 57.9792|    B18|       C| 1896-10-31|          1|  44|\n",
      "|        505|       1|    1|female| 16|    0|    0|    86.5|    B79|       S| 1896-08-13|          1|  44|\n",
      "|        854|       1|    1|female| 16|    0|    1|    39.4|    D28|       S| 1896-10-01|          1|  44|\n",
      "|         69|       1|    3|female| 17|    4|    2|   7.925|   NULL|       S| 1896-04-06|          1|  50|\n",
      "+-----------+--------+-----+------+---+-----+-----+--------+-------+--------+-----------+-----------+----+\n",
      "only showing top 50 rows\n",
      "\n"
     ]
    }
   ],
   "source": [
    "# Calculate ranks with partitions\n",
    "from pyspark.sql.window import Window\n",
    "from pyspark.sql.functions import rank\n",
    "df = df.withColumn('Age', col('Age').cast('integer'))\n",
    "windowSpec = Window.partitionBy(\"Sex\").orderBy(col('Age').asc())\n",
    "df = df.withColumn('rank', rank().over(windowSpec))\n",
    "df.show(50)"
   ]
  },
  {
   "cell_type": "code",
   "execution_count": 30,
   "id": "4ba33537",
   "metadata": {
    "execution": {
     "iopub.execute_input": "2024-05-21T09:31:44.730682Z",
     "iopub.status.busy": "2024-05-21T09:31:44.730300Z",
     "iopub.status.idle": "2024-05-21T09:31:45.519259Z",
     "shell.execute_reply": "2024-05-21T09:31:45.518021Z"
    },
    "papermill": {
     "duration": 0.82469,
     "end_time": "2024-05-21T09:31:45.523136",
     "exception": false,
     "start_time": "2024-05-21T09:31:44.698446",
     "status": "completed"
    },
    "tags": []
   },
   "outputs": [
    {
     "name": "stdout",
     "output_type": "stream",
     "text": [
      "+-----------+--------+-----+----+---+-----+-----+-------+-----+--------+-----------+-----------+----+---------+\n",
      "|PassengerId|Survived|Class| Sex|Age|SibSp|Parch|   Fare|Cabin|Embarked|DateOfBirth|not_married|rank| age_rank|\n",
      "+-----------+--------+-----+----+---+-----+-----+-------+-----+--------+-----------+-----------+----+---------+\n",
      "|        631|       1|    1|male| 80|    0|    0|   30.0|  A23|       S| 1832-07-10|          0| 577|not_child|\n",
      "|        852|       0|    3|male| 74|    0|    0|  7.775| NULL|       S| 1838-09-02|          0| 576|not_child|\n",
      "|         97|       0|    1|male| 71|    0|    0|34.6542|   A5|       C| 1841-12-03|          0| 574|not_child|\n",
      "|        494|       0|    1|male| 71|    0|    0|49.5042| NULL|       C| 1841-09-05|          0| 574|not_child|\n",
      "|        117|       0|    3|male| 70|    0|    0|   7.75| NULL|       Q| 1842-01-12|          0| 571|not_child|\n",
      "|        673|       0|    2|male| 70|    0|    0|   10.5| NULL|       S| 1843-03-02|          0| 571|not_child|\n",
      "|        746|       0|    1|male| 70|    1|    1|   71.0|  B22|       S| 1842-12-26|          0| 571|not_child|\n",
      "|         34|       0|    2|male| 66|    0|    0|   10.5| NULL|       S| 1847-03-20|          0| 570|not_child|\n",
      "|        457|       0|    1|male| 65|    0|    0|  26.55|  E38|       S| 1847-11-25|          0| 567|not_child|\n",
      "|         55|       0|    1|male| 65|    0|    1|61.9792|  B30|       C| 1847-09-27|          0| 567|not_child|\n",
      "+-----------+--------+-----+----+---+-----+-----+-------+-----+--------+-----------+-----------+----+---------+\n",
      "only showing top 10 rows\n",
      "\n"
     ]
    }
   ],
   "source": [
    "# Apply a condition\n",
    "df = df.withColumn('age_rank', when(col('Age') < 12, 'child').otherwise('not_child'))\n",
    "df.orderBy(col('Age').desc()).show(10)"
   ]
  },
  {
   "cell_type": "code",
   "execution_count": 31,
   "id": "be2539b9",
   "metadata": {
    "execution": {
     "iopub.execute_input": "2024-05-21T09:31:45.597844Z",
     "iopub.status.busy": "2024-05-21T09:31:45.597266Z",
     "iopub.status.idle": "2024-05-21T09:31:47.295040Z",
     "shell.execute_reply": "2024-05-21T09:31:47.293650Z"
    },
    "papermill": {
     "duration": 1.738672,
     "end_time": "2024-05-21T09:31:47.297984",
     "exception": false,
     "start_time": "2024-05-21T09:31:45.559312",
     "status": "completed"
    },
    "tags": []
   },
   "outputs": [
    {
     "name": "stdout",
     "output_type": "stream",
     "text": [
      "+-----+------+----+\n",
      "|Class|female|male|\n",
      "+-----+------+----+\n",
      "|    1|    91|  45|\n",
      "|    3|    72|  47|\n",
      "|    2|    70|  17|\n",
      "+-----+------+----+\n",
      "\n"
     ]
    }
   ],
   "source": [
    "# Create a pivot table\n",
    "pivot_df = df.groupBy('Class').pivot('Sex').agg(sum('Survived'))\n",
    "pivot_df.show(5)"
   ]
  },
  {
   "cell_type": "code",
   "execution_count": 32,
   "id": "c424a8a8",
   "metadata": {
    "execution": {
     "iopub.execute_input": "2024-05-21T09:31:47.350563Z",
     "iopub.status.busy": "2024-05-21T09:31:47.349906Z",
     "iopub.status.idle": "2024-05-21T09:31:47.354361Z",
     "shell.execute_reply": "2024-05-21T09:31:47.353208Z"
    },
    "papermill": {
     "duration": 0.033529,
     "end_time": "2024-05-21T09:31:47.356893",
     "exception": false,
     "start_time": "2024-05-21T09:31:47.323364",
     "status": "completed"
    },
    "tags": []
   },
   "outputs": [],
   "source": [
    "# working with dates\n",
    "\n"
   ]
  }
 ],
 "metadata": {
  "kaggle": {
   "accelerator": "none",
   "dataSources": [
    {
     "databundleVersionId": 26502,
     "sourceId": 3136,
     "sourceType": "competition"
    }
   ],
   "dockerImageVersionId": 30698,
   "isGpuEnabled": false,
   "isInternetEnabled": true,
   "language": "python",
   "sourceType": "notebook"
  },
  "kernelspec": {
   "display_name": "Python 3",
   "language": "python",
   "name": "python3"
  },
  "language_info": {
   "codemirror_mode": {
    "name": "ipython",
    "version": 3
   },
   "file_extension": ".py",
   "mimetype": "text/x-python",
   "name": "python",
   "nbconvert_exporter": "python",
   "pygments_lexer": "ipython3",
   "version": "3.10.13"
  },
  "papermill": {
   "default_parameters": {},
   "duration": 115.523269,
   "end_time": "2024-05-21T09:31:50.004257",
   "environment_variables": {},
   "exception": null,
   "input_path": "__notebook__.ipynb",
   "output_path": "__notebook__.ipynb",
   "parameters": {},
   "start_time": "2024-05-21T09:29:54.480988",
   "version": "2.5.0"
  }
 },
 "nbformat": 4,
 "nbformat_minor": 5
}
