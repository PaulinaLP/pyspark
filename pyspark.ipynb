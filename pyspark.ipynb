{
 "cells": [
  {
   "cell_type": "markdown",
   "id": "172ff923",
   "metadata": {
    "papermill": {
     "duration": 0.015307,
     "end_time": "2024-05-22T10:39:49.998227",
     "exception": false,
     "start_time": "2024-05-22T10:39:49.982920",
     "status": "completed"
    },
    "tags": []
   },
   "source": [
    "## Installation and imports"
   ]
  },
  {
   "cell_type": "code",
   "execution_count": 1,
   "id": "b3083990",
   "metadata": {
    "execution": {
     "iopub.execute_input": "2024-05-22T10:39:50.030637Z",
     "iopub.status.busy": "2024-05-22T10:39:50.029731Z",
     "iopub.status.idle": "2024-05-22T10:40:47.866324Z",
     "shell.execute_reply": "2024-05-22T10:40:47.864708Z"
    },
    "papermill": {
     "duration": 57.856032,
     "end_time": "2024-05-22T10:40:47.869490",
     "exception": false,
     "start_time": "2024-05-22T10:39:50.013458",
     "status": "completed"
    },
    "tags": []
   },
   "outputs": [
    {
     "name": "stdout",
     "output_type": "stream",
     "text": [
      "Collecting pyspark==3.5.0\r\n",
      "  Downloading pyspark-3.5.0.tar.gz (316.9 MB)\r\n",
      "\u001b[2K     \u001b[90m━━━━━━━━━━━━━━━━━━━━━━━━━━━━━━━━━━━━━━━\u001b[0m \u001b[32m316.9/316.9 MB\u001b[0m \u001b[31m4.4 MB/s\u001b[0m eta \u001b[36m0:00:00\u001b[0m\r\n",
      "\u001b[?25h  Preparing metadata (setup.py) ... \u001b[?25l-\b \b\\\b \bdone\r\n",
      "\u001b[?25hRequirement already satisfied: py4j==0.10.9.7 in /opt/conda/lib/python3.10/site-packages (from pyspark==3.5.0) (0.10.9.7)\r\n",
      "Building wheels for collected packages: pyspark\r\n",
      "  Building wheel for pyspark (setup.py) ... \u001b[?25l-\b \b\\\b \b|\b \bdone\r\n",
      "\u001b[?25h  Created wheel for pyspark: filename=pyspark-3.5.0-py2.py3-none-any.whl size=317425345 sha256=92fb7a61c1e74021b235065131104ae751e388fa6f9629c6d58a601b011b79a9\r\n",
      "  Stored in directory: /root/.cache/pip/wheels/41/4e/10/c2cf2467f71c678cfc8a6b9ac9241e5e44a01940da8fbb17fc\r\n",
      "Successfully built pyspark\r\n",
      "Installing collected packages: pyspark\r\n",
      "Successfully installed pyspark-3.5.0\r\n"
     ]
    }
   ],
   "source": [
    " !pip install pyspark==3.5.0"
   ]
  },
  {
   "cell_type": "code",
   "execution_count": 2,
   "id": "caedb81c",
   "metadata": {
    "execution": {
     "iopub.execute_input": "2024-05-22T10:40:47.923531Z",
     "iopub.status.busy": "2024-05-22T10:40:47.923121Z",
     "iopub.status.idle": "2024-05-22T10:41:03.654143Z",
     "shell.execute_reply": "2024-05-22T10:41:03.652938Z"
    },
    "papermill": {
     "duration": 15.760974,
     "end_time": "2024-05-22T10:41:03.657090",
     "exception": false,
     "start_time": "2024-05-22T10:40:47.896116",
     "status": "completed"
    },
    "tags": []
   },
   "outputs": [
    {
     "name": "stdout",
     "output_type": "stream",
     "text": [
      "Collecting findspark\r\n",
      "  Downloading findspark-2.0.1-py2.py3-none-any.whl.metadata (352 bytes)\r\n",
      "Downloading findspark-2.0.1-py2.py3-none-any.whl (4.4 kB)\r\n",
      "Installing collected packages: findspark\r\n",
      "Successfully installed findspark-2.0.1\r\n"
     ]
    }
   ],
   "source": [
    "!pip install findspark"
   ]
  },
  {
   "cell_type": "code",
   "execution_count": 3,
   "id": "b03be9d7",
   "metadata": {
    "_cell_guid": "b1076dfc-b9ad-4769-8c92-a6c4dae69d19",
    "_uuid": "8f2839f25d086af736a60e9eeb907d3b93b6e0e5",
    "execution": {
     "iopub.execute_input": "2024-05-22T10:41:03.713770Z",
     "iopub.status.busy": "2024-05-22T10:41:03.713296Z",
     "iopub.status.idle": "2024-05-22T10:41:03.823475Z",
     "shell.execute_reply": "2024-05-22T10:41:03.822114Z"
    },
    "papermill": {
     "duration": 0.14252,
     "end_time": "2024-05-22T10:41:03.826655",
     "exception": false,
     "start_time": "2024-05-22T10:41:03.684135",
     "status": "completed"
    },
    "tags": []
   },
   "outputs": [],
   "source": [
    "import findspark\n",
    "findspark.init()\n",
    "\n",
    "import pyspark\n",
    "from pyspark.sql import SparkSession\n",
    "from pyspark.sql.functions import col, when, sum, avg, min, max, mean, count, to_timestamp, lit, lower, upper, substring, expr, to_date, date_add, date_sub, lpad\n",
    "from pyspark.sql.types import StructType, StructField, IntegerType, StringType, FloatType\n",
    "from pyspark.sql import Row"
   ]
  },
  {
   "cell_type": "code",
   "execution_count": 4,
   "id": "866c90cf",
   "metadata": {
    "execution": {
     "iopub.execute_input": "2024-05-22T10:41:03.885804Z",
     "iopub.status.busy": "2024-05-22T10:41:03.884269Z",
     "iopub.status.idle": "2024-05-22T10:41:03.892180Z",
     "shell.execute_reply": "2024-05-22T10:41:03.891040Z"
    },
    "papermill": {
     "duration": 0.040276,
     "end_time": "2024-05-22T10:41:03.895652",
     "exception": false,
     "start_time": "2024-05-22T10:41:03.855376",
     "status": "completed"
    },
    "tags": []
   },
   "outputs": [
    {
     "name": "stdout",
     "output_type": "stream",
     "text": [
      "Help on function substring in module pyspark.sql.functions:\n",
      "\n",
      "substring(str: 'ColumnOrName', pos: int, len: int) -> pyspark.sql.column.Column\n",
      "    Substring starts at `pos` and is of length `len` when str is String type or\n",
      "    returns the slice of byte array that starts at `pos` in byte and is of length `len`\n",
      "    when str is Binary type.\n",
      "    \n",
      "    .. versionadded:: 1.5.0\n",
      "    \n",
      "    .. versionchanged:: 3.4.0\n",
      "        Supports Spark Connect.\n",
      "    \n",
      "    Notes\n",
      "    -----\n",
      "    The position is not zero based, but 1 based index.\n",
      "    \n",
      "    Parameters\n",
      "    ----------\n",
      "    str : :class:`~pyspark.sql.Column` or str\n",
      "        target column to work on.\n",
      "    pos : int\n",
      "        starting position in str.\n",
      "    len : int\n",
      "        length of chars.\n",
      "    \n",
      "    Returns\n",
      "    -------\n",
      "    :class:`~pyspark.sql.Column`\n",
      "        substring of given value.\n",
      "    \n",
      "    Examples\n",
      "    --------\n",
      "    >>> df = spark.createDataFrame([('abcd',)], ['s',])\n",
      "    >>> df.select(substring(df.s, 1, 2).alias('s')).collect()\n",
      "    [Row(s='ab')]\n",
      "\n"
     ]
    }
   ],
   "source": [
    "# help to see how to use a functions\n",
    "help(substring)"
   ]
  },
  {
   "cell_type": "markdown",
   "id": "8473385a",
   "metadata": {
    "papermill": {
     "duration": 0.025508,
     "end_time": "2024-05-22T10:41:03.947139",
     "exception": false,
     "start_time": "2024-05-22T10:41:03.921631",
     "status": "completed"
    },
    "tags": []
   },
   "source": [
    "## Session starts"
   ]
  },
  {
   "cell_type": "code",
   "execution_count": 5,
   "id": "629444c1",
   "metadata": {
    "execution": {
     "iopub.execute_input": "2024-05-22T10:41:04.001013Z",
     "iopub.status.busy": "2024-05-22T10:41:04.000491Z",
     "iopub.status.idle": "2024-05-22T10:41:10.575534Z",
     "shell.execute_reply": "2024-05-22T10:41:10.574003Z"
    },
    "papermill": {
     "duration": 6.605676,
     "end_time": "2024-05-22T10:41:10.578828",
     "exception": false,
     "start_time": "2024-05-22T10:41:03.973152",
     "status": "completed"
    },
    "tags": []
   },
   "outputs": [
    {
     "name": "stderr",
     "output_type": "stream",
     "text": [
      "Setting default log level to \"WARN\".\n",
      "To adjust logging level use sc.setLogLevel(newLevel). For SparkR, use setLogLevel(newLevel).\n",
      "24/05/22 10:41:08 WARN NativeCodeLoader: Unable to load native-hadoop library for your platform... using builtin-java classes where applicable\n"
     ]
    }
   ],
   "source": [
    "spark = SparkSession.builder.appName(\"TitanicData\").getOrCreate()\n",
    "file_path = '/kaggle/input/titanic/train.csv'"
   ]
  },
  {
   "cell_type": "markdown",
   "id": "9a062e7b",
   "metadata": {
    "papermill": {
     "duration": 0.025106,
     "end_time": "2024-05-22T10:41:10.629896",
     "exception": false,
     "start_time": "2024-05-22T10:41:10.604790",
     "status": "completed"
    },
    "tags": []
   },
   "source": [
    "## Schema"
   ]
  },
  {
   "cell_type": "code",
   "execution_count": 6,
   "id": "0460a267",
   "metadata": {
    "execution": {
     "iopub.execute_input": "2024-05-22T10:41:10.684018Z",
     "iopub.status.busy": "2024-05-22T10:41:10.683095Z",
     "iopub.status.idle": "2024-05-22T10:41:13.565978Z",
     "shell.execute_reply": "2024-05-22T10:41:13.564149Z"
    },
    "papermill": {
     "duration": 2.914116,
     "end_time": "2024-05-22T10:41:13.569408",
     "exception": false,
     "start_time": "2024-05-22T10:41:10.655292",
     "status": "completed"
    },
    "tags": []
   },
   "outputs": [],
   "source": [
    "# Define schema\n",
    "schema = StructType([\n",
    "    StructField(\"PassengerId\", IntegerType(), True),\n",
    "    StructField(\"Survived\", IntegerType(), True),\n",
    "    StructField(\"Pclass\", IntegerType(), True),\n",
    "    StructField(\"Name\", StringType(), True),\n",
    "    StructField(\"Sex\", StringType(), True),\n",
    "    StructField(\"Age\", FloatType(), True),\n",
    "    StructField(\"SibSp\", IntegerType(), True),\n",
    "    StructField(\"Parch\", IntegerType(), True),\n",
    "    StructField(\"Ticket\", StringType(), True),\n",
    "    StructField(\"Fare\", FloatType(), True),\n",
    "    StructField(\"Cabin\", StringType(), True),\n",
    "    StructField(\"Embarked\", StringType(), True)\n",
    "])\n",
    "\n",
    "# Define schema with list comprehension\n",
    "labels = [\n",
    "   (\"PassengerId\", IntegerType()),\n",
    "   (\"Survived\", IntegerType()),\n",
    "   (\"Pclass\", IntegerType()),\n",
    "   (\"Name\", StringType()),\n",
    "   (\"Sex\", StringType()),\n",
    "   (\"Age\", FloatType()),\n",
    "   (\"SibSp\", IntegerType()),\n",
    "   (\"Parch\", IntegerType()),\n",
    "   (\"Ticket\", StringType()),\n",
    "   (\"Fare\", FloatType()),\n",
    "   (\"Cabin\", StringType()),\n",
    "   (\"Embarked\", StringType())\n",
    "]\n",
    "\n",
    "schema=StructType([StructField(x[0],x[1],True) for x in labels])\n",
    "\n",
    "\n",
    "df = ( spark.read\n",
    "    .option(\"header\", \"true\")\n",
    "    .schema(schema)\n",
    "    .csv(file_path)\n",
    "   )"
   ]
  },
  {
   "cell_type": "code",
   "execution_count": 7,
   "id": "414984ca",
   "metadata": {
    "execution": {
     "iopub.execute_input": "2024-05-22T10:41:13.627842Z",
     "iopub.status.busy": "2024-05-22T10:41:13.627229Z",
     "iopub.status.idle": "2024-05-22T10:41:13.663224Z",
     "shell.execute_reply": "2024-05-22T10:41:13.661843Z"
    },
    "papermill": {
     "duration": 0.069566,
     "end_time": "2024-05-22T10:41:13.667347",
     "exception": false,
     "start_time": "2024-05-22T10:41:13.597781",
     "status": "completed"
    },
    "tags": []
   },
   "outputs": [
    {
     "name": "stdout",
     "output_type": "stream",
     "text": [
      "root\n",
      " |-- PassengerId: integer (nullable = true)\n",
      " |-- Survived: integer (nullable = true)\n",
      " |-- Pclass: integer (nullable = true)\n",
      " |-- Name: string (nullable = true)\n",
      " |-- Sex: string (nullable = true)\n",
      " |-- Age: float (nullable = true)\n",
      " |-- SibSp: integer (nullable = true)\n",
      " |-- Parch: integer (nullable = true)\n",
      " |-- Ticket: string (nullable = true)\n",
      " |-- Fare: float (nullable = true)\n",
      " |-- Cabin: string (nullable = true)\n",
      " |-- Embarked: string (nullable = true)\n",
      "\n"
     ]
    }
   ],
   "source": [
    "#print schema\n",
    "df.printSchema()"
   ]
  },
  {
   "cell_type": "markdown",
   "id": "9c43c5ae",
   "metadata": {
    "papermill": {
     "duration": 0.025817,
     "end_time": "2024-05-22T10:41:13.724312",
     "exception": false,
     "start_time": "2024-05-22T10:41:13.698495",
     "status": "completed"
    },
    "tags": []
   },
   "source": [
    "## Working with rows and columns"
   ]
  },
  {
   "cell_type": "code",
   "execution_count": 8,
   "id": "2bade2f9",
   "metadata": {
    "execution": {
     "iopub.execute_input": "2024-05-22T10:41:13.778519Z",
     "iopub.status.busy": "2024-05-22T10:41:13.777899Z",
     "iopub.status.idle": "2024-05-22T10:41:19.069237Z",
     "shell.execute_reply": "2024-05-22T10:41:19.067282Z"
    },
    "papermill": {
     "duration": 5.324508,
     "end_time": "2024-05-22T10:41:19.074687",
     "exception": false,
     "start_time": "2024-05-22T10:41:13.750179",
     "status": "completed"
    },
    "tags": []
   },
   "outputs": [
    {
     "name": "stderr",
     "output_type": "stream",
     "text": [
      "                                                                                \r"
     ]
    },
    {
     "name": "stdout",
     "output_type": "stream",
     "text": [
      "+-----------+----+-----------+\n",
      "|PassengerId| Age|DateOfBirth|\n",
      "+-----------+----+-----------+\n",
      "|          1|22.0| 1890-11-07|\n",
      "|          2|38.0| 1875-01-16|\n",
      "|          3|26.0| 1886-12-30|\n",
      "|          4|35.0| 1878-01-06|\n",
      "|          5|35.0| 1877-10-30|\n",
      "|          6|NULL|       NULL|\n",
      "|          7|54.0| 1859-01-23|\n",
      "|          8| 2.0| 1911-03-07|\n",
      "|          9|27.0| 1885-12-29|\n",
      "|         10|14.0| 1898-07-11|\n",
      "|         11| 4.0| 1908-06-10|\n",
      "|         12|58.0| 1855-02-12|\n",
      "|         13|20.0| 1892-08-03|\n",
      "|         14|39.0| 1873-12-14|\n",
      "|         15|14.0| 1899-03-10|\n",
      "|         16|55.0| 1858-01-24|\n",
      "|         17| 2.0| 1910-07-05|\n",
      "|         18|NULL|       NULL|\n",
      "|         19|31.0| 1881-11-06|\n",
      "|         20|NULL|       NULL|\n",
      "+-----------+----+-----------+\n",
      "only showing top 20 rows\n",
      "\n"
     ]
    }
   ],
   "source": [
    "# Add column with date of birth to work with dates later\n",
    "# expr function in PySpark is used to execute SQL expressions and return a new column\n",
    "df = df.withColumn(\n",
    "    \"DateOfBirth\",\n",
    "    expr(\"date_add(to_date('1912-04-15', 'yyyy-MM-dd'), -cast(Age * 365 as int)) + cast(rand() * 365 as int)\")\n",
    ")\n",
    "\n",
    "# Show a few rows to verify\n",
    "df.select(\"PassengerId\", \"Age\", \"DateOfBirth\").show()"
   ]
  },
  {
   "cell_type": "code",
   "execution_count": 9,
   "id": "52109c44",
   "metadata": {
    "execution": {
     "iopub.execute_input": "2024-05-22T10:41:19.152986Z",
     "iopub.status.busy": "2024-05-22T10:41:19.152441Z",
     "iopub.status.idle": "2024-05-22T10:41:20.304289Z",
     "shell.execute_reply": "2024-05-22T10:41:20.302952Z"
    },
    "papermill": {
     "duration": 1.194522,
     "end_time": "2024-05-22T10:41:20.308564",
     "exception": false,
     "start_time": "2024-05-22T10:41:19.114042",
     "status": "completed"
    },
    "tags": []
   },
   "outputs": [
    {
     "name": "stdout",
     "output_type": "stream",
     "text": [
      "+----------------+----------------+\n",
      "|min(DateOfBirth)|max(DateOfBirth)|\n",
      "+----------------+----------------+\n",
      "|      1832-09-14|      1912-08-24|\n",
      "+----------------+----------------+\n",
      "\n"
     ]
    }
   ],
   "source": [
    "# find the earliest and latest dates\n",
    "df.select(min('DateOfBirth'),max('DateOfBirth')).show()"
   ]
  },
  {
   "cell_type": "code",
   "execution_count": 10,
   "id": "9a3b4408",
   "metadata": {
    "execution": {
     "iopub.execute_input": "2024-05-22T10:41:20.387019Z",
     "iopub.status.busy": "2024-05-22T10:41:20.386421Z",
     "iopub.status.idle": "2024-05-22T10:41:21.045502Z",
     "shell.execute_reply": "2024-05-22T10:41:21.044385Z"
    },
    "papermill": {
     "duration": 0.703475,
     "end_time": "2024-05-22T10:41:21.049590",
     "exception": false,
     "start_time": "2024-05-22T10:41:20.346115",
     "status": "completed"
    },
    "tags": []
   },
   "outputs": [
    {
     "name": "stdout",
     "output_type": "stream",
     "text": [
      "+-----------------------------+-----------------------------+\n",
      "|date_sub(min(DateOfBirth), 3)|date_add(max(DateOfBirth), 3)|\n",
      "+-----------------------------+-----------------------------+\n",
      "|                   1832-09-11|                   1912-08-27|\n",
      "+-----------------------------+-----------------------------+\n",
      "\n"
     ]
    }
   ],
   "source": [
    "# +3 and -3\n",
    "df.select(date_sub(min('DateOfBirth'),3),date_add(max('DateOfBirth'),3)).show()"
   ]
  },
  {
   "cell_type": "code",
   "execution_count": 11,
   "id": "9c3e89b7",
   "metadata": {
    "execution": {
     "iopub.execute_input": "2024-05-22T10:41:21.132419Z",
     "iopub.status.busy": "2024-05-22T10:41:21.132032Z",
     "iopub.status.idle": "2024-05-22T10:41:21.422447Z",
     "shell.execute_reply": "2024-05-22T10:41:21.421244Z"
    },
    "papermill": {
     "duration": 0.332796,
     "end_time": "2024-05-22T10:41:21.425663",
     "exception": false,
     "start_time": "2024-05-22T10:41:21.092867",
     "status": "completed"
    },
    "tags": []
   },
   "outputs": [
    {
     "name": "stdout",
     "output_type": "stream",
     "text": [
      "+---------------------------------------------------+\n",
      "|Name                                               |\n",
      "+---------------------------------------------------+\n",
      "|Braund, Mr. Owen Harris                            |\n",
      "|Cumings, Mrs. John Bradley (Florence Briggs Thayer)|\n",
      "|Heikkinen, Miss. Laina                             |\n",
      "|Futrelle, Mrs. Jacques Heath (Lily May Peel)       |\n",
      "|Allen, Mr. William Henry                           |\n",
      "|Moran, Mr. James                                   |\n",
      "|McCarthy, Mr. Timothy J                            |\n",
      "|Palsson, Master. Gosta Leonard                     |\n",
      "|Johnson, Mrs. Oscar W (Elisabeth Vilhelmina Berg)  |\n",
      "|Nasser, Mrs. Nicholas (Adele Achem)                |\n",
      "+---------------------------------------------------+\n",
      "only showing top 10 rows\n",
      "\n"
     ]
    }
   ],
   "source": [
    "# showing n rows\n",
    "df.select(\"Name\").show(n=10, truncate=False)"
   ]
  },
  {
   "cell_type": "code",
   "execution_count": 12,
   "id": "877c6f06",
   "metadata": {
    "execution": {
     "iopub.execute_input": "2024-05-22T10:41:21.504926Z",
     "iopub.status.busy": "2024-05-22T10:41:21.504364Z",
     "iopub.status.idle": "2024-05-22T10:41:21.801464Z",
     "shell.execute_reply": "2024-05-22T10:41:21.800484Z"
    },
    "papermill": {
     "duration": 0.339125,
     "end_time": "2024-05-22T10:41:21.804360",
     "exception": false,
     "start_time": "2024-05-22T10:41:21.465235",
     "status": "completed"
    },
    "tags": []
   },
   "outputs": [
    {
     "name": "stdout",
     "output_type": "stream",
     "text": [
      "+--------------------+--------------------+---------------------+\n",
      "|         upper(Name)|         lower(Name)|substring(Name, 0, 3)|\n",
      "+--------------------+--------------------+---------------------+\n",
      "|BRAUND, MR. OWEN ...|braund, mr. owen ...|                  Bra|\n",
      "|CUMINGS, MRS. JOH...|cumings, mrs. joh...|                  Cum|\n",
      "|HEIKKINEN, MISS. ...|heikkinen, miss. ...|                  Hei|\n",
      "|FUTRELLE, MRS. JA...|futrelle, mrs. ja...|                  Fut|\n",
      "|ALLEN, MR. WILLIA...|allen, mr. willia...|                  All|\n",
      "|    MORAN, MR. JAMES|    moran, mr. james|                  Mor|\n",
      "|MCCARTHY, MR. TIM...|mccarthy, mr. tim...|                  McC|\n",
      "|PALSSON, MASTER. ...|palsson, master. ...|                  Pal|\n",
      "|JOHNSON, MRS. OSC...|johnson, mrs. osc...|                  Joh|\n",
      "|NASSER, MRS. NICH...|nasser, mrs. nich...|                  Nas|\n",
      "+--------------------+--------------------+---------------------+\n",
      "only showing top 10 rows\n",
      "\n"
     ]
    }
   ],
   "source": [
    "# upper, lower and substring functions\n",
    "df.select(upper('Name'), lower('Name'),substring('Name',0,3)).show(10)"
   ]
  },
  {
   "cell_type": "code",
   "execution_count": 13,
   "id": "72fe9218",
   "metadata": {
    "execution": {
     "iopub.execute_input": "2024-05-22T10:41:21.881490Z",
     "iopub.status.busy": "2024-05-22T10:41:21.880983Z",
     "iopub.status.idle": "2024-05-22T10:41:22.699727Z",
     "shell.execute_reply": "2024-05-22T10:41:22.698335Z"
    },
    "papermill": {
     "duration": 0.866132,
     "end_time": "2024-05-22T10:41:22.703919",
     "exception": false,
     "start_time": "2024-05-22T10:41:21.837787",
     "status": "completed"
    },
    "tags": []
   },
   "outputs": [
    {
     "name": "stdout",
     "output_type": "stream",
     "text": [
      "+--------+\n",
      "|Survived|\n",
      "+--------+\n",
      "|       1|\n",
      "|       0|\n",
      "+--------+\n",
      "\n"
     ]
    }
   ],
   "source": [
    "# check unique values\n",
    "df.select('Survived').distinct().show()"
   ]
  },
  {
   "cell_type": "code",
   "execution_count": 14,
   "id": "5f3003eb",
   "metadata": {
    "execution": {
     "iopub.execute_input": "2024-05-22T10:41:22.775665Z",
     "iopub.status.busy": "2024-05-22T10:41:22.775215Z",
     "iopub.status.idle": "2024-05-22T10:41:23.589856Z",
     "shell.execute_reply": "2024-05-22T10:41:23.588653Z"
    },
    "papermill": {
     "duration": 0.850219,
     "end_time": "2024-05-22T10:41:23.593151",
     "exception": false,
     "start_time": "2024-05-22T10:41:22.742932",
     "status": "completed"
    },
    "tags": []
   },
   "outputs": [
    {
     "data": {
      "text/plain": [
       "0.3838383838383838"
      ]
     },
     "execution_count": 14,
     "metadata": {},
     "output_type": "execute_result"
    }
   ],
   "source": [
    "# find percentage of survived\n",
    "survived = df.filter(col('Survived') == 1).count() / df.count()\n",
    "survived"
   ]
  },
  {
   "cell_type": "code",
   "execution_count": 15,
   "id": "d6b8d70b",
   "metadata": {
    "execution": {
     "iopub.execute_input": "2024-05-22T10:41:23.676092Z",
     "iopub.status.busy": "2024-05-22T10:41:23.674190Z",
     "iopub.status.idle": "2024-05-22T10:41:24.555587Z",
     "shell.execute_reply": "2024-05-22T10:41:24.554400Z"
    },
    "papermill": {
     "duration": 0.928268,
     "end_time": "2024-05-22T10:41:24.561587",
     "exception": false,
     "start_time": "2024-05-22T10:41:23.633319",
     "status": "completed"
    },
    "tags": []
   },
   "outputs": [
    {
     "name": "stdout",
     "output_type": "stream",
     "text": [
      "+----+\n",
      "| Age|\n",
      "+----+\n",
      "|NULL|\n",
      "|24.0|\n",
      "|22.0|\n",
      "+----+\n",
      "only showing top 3 rows\n",
      "\n"
     ]
    }
   ],
   "source": [
    "#find the top 3 ages\n",
    "grouped_df = df.groupBy('Age').agg(count('PassengerId').alias('Passengers_count')).orderBy(col('Passengers_count').desc())\n",
    "grouped_df.select('Age').show(3)"
   ]
  },
  {
   "cell_type": "code",
   "execution_count": 16,
   "id": "b4ab219a",
   "metadata": {
    "execution": {
     "iopub.execute_input": "2024-05-22T10:41:24.644039Z",
     "iopub.status.busy": "2024-05-22T10:41:24.643421Z",
     "iopub.status.idle": "2024-05-22T10:41:24.954141Z",
     "shell.execute_reply": "2024-05-22T10:41:24.952873Z"
    },
    "papermill": {
     "duration": 0.356241,
     "end_time": "2024-05-22T10:41:24.957535",
     "exception": false,
     "start_time": "2024-05-22T10:41:24.601294",
     "status": "completed"
    },
    "tags": []
   },
   "outputs": [
    {
     "data": {
      "text/plain": [
       "[Row(PassengerId=1, Survived=0, Pclass=3, Name='Braund, Mr. Owen Harris', Sex='male', Age=22.0, SibSp=1, Parch=0, Ticket='A/5 21171', Fare=7.25, Cabin=None, Embarked='S', DateOfBirth=datetime.date(1890, 11, 7)),\n",
       " Row(PassengerId=2, Survived=1, Pclass=1, Name='Cumings, Mrs. John Bradley (Florence Briggs Thayer)', Sex='female', Age=38.0, SibSp=1, Parch=0, Ticket='PC 17599', Fare=71.2833023071289, Cabin='C85', Embarked='C', DateOfBirth=datetime.date(1875, 1, 16)),\n",
       " Row(PassengerId=3, Survived=1, Pclass=3, Name='Heikkinen, Miss. Laina', Sex='female', Age=26.0, SibSp=0, Parch=0, Ticket='STON/O2. 3101282', Fare=7.925000190734863, Cabin=None, Embarked='S', DateOfBirth=datetime.date(1886, 12, 30))]"
      ]
     },
     "execution_count": 16,
     "metadata": {},
     "output_type": "execute_result"
    }
   ],
   "source": [
    "#collecting rows\n",
    "df.take(3)"
   ]
  },
  {
   "cell_type": "code",
   "execution_count": 17,
   "id": "80de5e4f",
   "metadata": {
    "execution": {
     "iopub.execute_input": "2024-05-22T10:41:25.126605Z",
     "iopub.status.busy": "2024-05-22T10:41:25.126098Z",
     "iopub.status.idle": "2024-05-22T10:41:25.614051Z",
     "shell.execute_reply": "2024-05-22T10:41:25.612616Z"
    },
    "papermill": {
     "duration": 0.621845,
     "end_time": "2024-05-22T10:41:25.617379",
     "exception": false,
     "start_time": "2024-05-22T10:41:24.995534",
     "status": "completed"
    },
    "tags": []
   },
   "outputs": [
    {
     "name": "stdout",
     "output_type": "stream",
     "text": [
      "+-----------+--------+------+--------------------+------+----+-----+-----+----------------+-------+-----+--------+-----------+-----------+\n",
      "|PassengerId|Survived|Pclass|                Name|   Sex| Age|SibSp|Parch|          Ticket|   Fare|Cabin|Embarked|DateOfBirth|not_married|\n",
      "+-----------+--------+------+--------------------+------+----+-----+-----+----------------+-------+-----+--------+-----------+-----------+\n",
      "|          1|       0|     3|Braund, Mr. Owen ...|  male|22.0|    1|    0|       A/5 21171|   7.25| NULL|       S| 1890-11-07|          0|\n",
      "|          2|       1|     1|Cumings, Mrs. Joh...|female|38.0|    1|    0|        PC 17599|71.2833|  C85|       C| 1875-01-16|          0|\n",
      "|          3|       1|     3|Heikkinen, Miss. ...|female|26.0|    0|    0|STON/O2. 3101282|  7.925| NULL|       S| 1886-12-30|          1|\n",
      "|          4|       1|     1|Futrelle, Mrs. Ja...|female|35.0|    1|    0|          113803|   53.1| C123|       S| 1878-01-06|          0|\n",
      "|          5|       0|     3|Allen, Mr. Willia...|  male|35.0|    0|    0|          373450|   8.05| NULL|       S| 1877-10-30|          0|\n",
      "+-----------+--------+------+--------------------+------+----+-----+-----+----------------+-------+-----+--------+-----------+-----------+\n",
      "only showing top 5 rows\n",
      "\n"
     ]
    }
   ],
   "source": [
    "# Create a new column 'not_married' with 1 if 'Name' contains 'miss' or 'Miss', and 0 otherwise\n",
    "df = df.withColumn(\n",
    "    'not_married',\n",
    "    when(col('Name').contains('miss') | col('Name').contains('Miss'), 1).otherwise(0)\n",
    ")\n",
    "df.show(5)"
   ]
  },
  {
   "cell_type": "code",
   "execution_count": 18,
   "id": "fa2f7fbd",
   "metadata": {
    "execution": {
     "iopub.execute_input": "2024-05-22T10:41:25.698277Z",
     "iopub.status.busy": "2024-05-22T10:41:25.697418Z",
     "iopub.status.idle": "2024-05-22T10:41:26.050309Z",
     "shell.execute_reply": "2024-05-22T10:41:26.049061Z"
    },
    "papermill": {
     "duration": 0.398443,
     "end_time": "2024-05-22T10:41:26.054795",
     "exception": false,
     "start_time": "2024-05-22T10:41:25.656352",
     "status": "completed"
    },
    "tags": []
   },
   "outputs": [
    {
     "name": "stdout",
     "output_type": "stream",
     "text": [
      "+-----------+--------+------+--------------------+------+----+-----+-----+----------------+-------+-----+--------+-----------+-----------+---+\n",
      "|PassengerId|Survived|Pclass|                Name|   Sex| Age|SibSp|Parch|          Ticket|   Fare|Cabin|Embarked|DateOfBirth|not_married|one|\n",
      "+-----------+--------+------+--------------------+------+----+-----+-----+----------------+-------+-----+--------+-----------+-----------+---+\n",
      "|          1|       0|     3|Braund, Mr. Owen ...|  male|22.0|    1|    0|       A/5 21171|   7.25| NULL|       S| 1890-11-07|          0|  1|\n",
      "|          2|       1|     1|Cumings, Mrs. Joh...|female|38.0|    1|    0|        PC 17599|71.2833|  C85|       C| 1875-01-16|          0|  1|\n",
      "|          3|       1|     3|Heikkinen, Miss. ...|female|26.0|    0|    0|STON/O2. 3101282|  7.925| NULL|       S| 1886-12-30|          1|  1|\n",
      "|          4|       1|     1|Futrelle, Mrs. Ja...|female|35.0|    1|    0|          113803|   53.1| C123|       S| 1878-01-06|          0|  1|\n",
      "|          5|       0|     3|Allen, Mr. Willia...|  male|35.0|    0|    0|          373450|   8.05| NULL|       S| 1877-10-30|          0|  1|\n",
      "+-----------+--------+------+--------------------+------+----+-----+-----+----------------+-------+-----+--------+-----------+-----------+---+\n",
      "only showing top 5 rows\n",
      "\n"
     ]
    }
   ],
   "source": [
    "# Create a new column with a constant value\n",
    "df = df.withColumn(\n",
    "    'one',\n",
    "    lit(1))\n",
    "df.show(5)"
   ]
  },
  {
   "cell_type": "code",
   "execution_count": 19,
   "id": "3b81a182",
   "metadata": {
    "execution": {
     "iopub.execute_input": "2024-05-22T10:41:26.135771Z",
     "iopub.status.busy": "2024-05-22T10:41:26.135117Z",
     "iopub.status.idle": "2024-05-22T10:41:26.473421Z",
     "shell.execute_reply": "2024-05-22T10:41:26.472282Z"
    },
    "papermill": {
     "duration": 0.382798,
     "end_time": "2024-05-22T10:41:26.476687",
     "exception": false,
     "start_time": "2024-05-22T10:41:26.093889",
     "status": "completed"
    },
    "tags": []
   },
   "outputs": [
    {
     "name": "stdout",
     "output_type": "stream",
     "text": [
      "+-----------+--------+------+--------------------+------+----+-----+-----+----------------+-------+-----+--------+-----------+-----------+---+---------+\n",
      "|PassengerId|Survived|Pclass|                Name|   Sex| Age|SibSp|Parch|          Ticket|   Fare|Cabin|Embarked|DateOfBirth|not_married|one|paddedOne|\n",
      "+-----------+--------+------+--------------------+------+----+-----+-----+----------------+-------+-----+--------+-----------+-----------+---+---------+\n",
      "|          1|       0|     3|Braund, Mr. Owen ...|  male|22.0|    1|    0|       A/5 21171|   7.25| NULL|       S| 1890-11-07|          0|  1|      001|\n",
      "|          2|       1|     1|Cumings, Mrs. Joh...|female|38.0|    1|    0|        PC 17599|71.2833|  C85|       C| 1875-01-16|          0|  1|      001|\n",
      "|          3|       1|     3|Heikkinen, Miss. ...|female|26.0|    0|    0|STON/O2. 3101282|  7.925| NULL|       S| 1886-12-30|          1|  1|      001|\n",
      "|          4|       1|     1|Futrelle, Mrs. Ja...|female|35.0|    1|    0|          113803|   53.1| C123|       S| 1878-01-06|          0|  1|      001|\n",
      "|          5|       0|     3|Allen, Mr. Willia...|  male|35.0|    0|    0|          373450|   8.05| NULL|       S| 1877-10-30|          0|  1|      001|\n",
      "|          6|       0|     3|    Moran, Mr. James|  male|NULL|    0|    0|          330877| 8.4583| NULL|       Q|       NULL|          0|  1|      001|\n",
      "|          7|       0|     1|McCarthy, Mr. Tim...|  male|54.0|    0|    0|           17463|51.8625|  E46|       S| 1859-01-23|          0|  1|      001|\n",
      "|          8|       0|     3|Palsson, Master. ...|  male| 2.0|    3|    1|          349909| 21.075| NULL|       S| 1911-03-07|          0|  1|      001|\n",
      "|          9|       1|     3|Johnson, Mrs. Osc...|female|27.0|    0|    2|          347742|11.1333| NULL|       S| 1885-12-29|          0|  1|      001|\n",
      "|         10|       1|     2|Nasser, Mrs. Nich...|female|14.0|    1|    0|          237736|30.0708| NULL|       C| 1898-07-11|          0|  1|      001|\n",
      "|         11|       1|     3|Sandstrom, Miss. ...|female| 4.0|    1|    1|         PP 9549|   16.7|   G6|       S| 1908-06-10|          1|  1|      001|\n",
      "|         12|       1|     1|Bonnell, Miss. El...|female|58.0|    0|    0|          113783|  26.55| C103|       S| 1855-02-12|          1|  1|      001|\n",
      "|         13|       0|     3|Saundercock, Mr. ...|  male|20.0|    0|    0|       A/5. 2151|   8.05| NULL|       S| 1892-08-03|          0|  1|      001|\n",
      "|         14|       0|     3|Andersson, Mr. An...|  male|39.0|    1|    5|          347082| 31.275| NULL|       S| 1873-12-14|          0|  1|      001|\n",
      "|         15|       0|     3|Vestrom, Miss. Hu...|female|14.0|    0|    0|          350406| 7.8542| NULL|       S| 1899-03-10|          1|  1|      001|\n",
      "|         16|       1|     2|Hewlett, Mrs. (Ma...|female|55.0|    0|    0|          248706|   16.0| NULL|       S| 1858-01-24|          0|  1|      001|\n",
      "|         17|       0|     3|Rice, Master. Eugene|  male| 2.0|    4|    1|          382652| 29.125| NULL|       Q| 1910-07-05|          0|  1|      001|\n",
      "|         18|       1|     2|Williams, Mr. Cha...|  male|NULL|    0|    0|          244373|   13.0| NULL|       S|       NULL|          0|  1|      001|\n",
      "|         19|       0|     3|Vander Planke, Mr...|female|31.0|    1|    0|          345763|   18.0| NULL|       S| 1881-11-06|          0|  1|      001|\n",
      "|         20|       1|     3|Masselmani, Mrs. ...|female|NULL|    0|    0|            2649|  7.225| NULL|       C|       NULL|          0|  1|      001|\n",
      "+-----------+--------+------+--------------------+------+----+-----+-----+----------------+-------+-----+--------+-----------+-----------+---+---------+\n",
      "only showing top 20 rows\n",
      "\n"
     ]
    }
   ],
   "source": [
    "#padding\n",
    "df=df.withColumn('paddedOne',lpad(col('One'),3,\"0\"))\n",
    "df.show()"
   ]
  },
  {
   "cell_type": "code",
   "execution_count": 20,
   "id": "54014683",
   "metadata": {
    "execution": {
     "iopub.execute_input": "2024-05-22T10:41:26.559010Z",
     "iopub.status.busy": "2024-05-22T10:41:26.558433Z",
     "iopub.status.idle": "2024-05-22T10:41:26.789403Z",
     "shell.execute_reply": "2024-05-22T10:41:26.788263Z"
    },
    "papermill": {
     "duration": 0.275849,
     "end_time": "2024-05-22T10:41:26.792552",
     "exception": false,
     "start_time": "2024-05-22T10:41:26.516703",
     "status": "completed"
    },
    "tags": []
   },
   "outputs": [
    {
     "data": {
      "text/plain": [
       "'Heikkinen, Miss. Laina'"
      ]
     },
     "execution_count": 20,
     "metadata": {},
     "output_type": "execute_result"
    }
   ],
   "source": [
    "# Select a specific row and column value\n",
    "value = df.filter(col('PassengerId') == 3).select('Name').collect()[0]['Name']\n",
    "value"
   ]
  },
  {
   "cell_type": "code",
   "execution_count": 21,
   "id": "d39fffa6",
   "metadata": {
    "execution": {
     "iopub.execute_input": "2024-05-22T10:41:26.875809Z",
     "iopub.status.busy": "2024-05-22T10:41:26.874735Z",
     "iopub.status.idle": "2024-05-22T10:41:27.095785Z",
     "shell.execute_reply": "2024-05-22T10:41:27.094578Z"
    },
    "papermill": {
     "duration": 0.26643,
     "end_time": "2024-05-22T10:41:27.098863",
     "exception": false,
     "start_time": "2024-05-22T10:41:26.832433",
     "status": "completed"
    },
    "tags": []
   },
   "outputs": [
    {
     "name": "stdout",
     "output_type": "stream",
     "text": [
      "+-----------+--------+------+--------------------+\n",
      "|PassengerId|Survived|Pclass|                Name|\n",
      "+-----------+--------+------+--------------------+\n",
      "|          1|       0|     3|Braund, Mr. Owen ...|\n",
      "|          2|       1|     1|Cumings, Mrs. Joh...|\n",
      "|          3|       1|     3|Heikkinen, Miss. ...|\n",
      "|          4|       1|     1|Futrelle, Mrs. Ja...|\n",
      "|          5|       0|     3|Allen, Mr. Willia...|\n",
      "+-----------+--------+------+--------------------+\n",
      "only showing top 5 rows\n",
      "\n"
     ]
    }
   ],
   "source": [
    "# Select columns by position\n",
    "df_selected = df.select(df.columns[0:4])\n",
    "df_selected.show(5)"
   ]
  },
  {
   "cell_type": "code",
   "execution_count": 22,
   "id": "4cb2c38e",
   "metadata": {
    "execution": {
     "iopub.execute_input": "2024-05-22T10:41:27.159245Z",
     "iopub.status.busy": "2024-05-22T10:41:27.158858Z",
     "iopub.status.idle": "2024-05-22T10:41:27.330967Z",
     "shell.execute_reply": "2024-05-22T10:41:27.329864Z"
    },
    "papermill": {
     "duration": 0.206055,
     "end_time": "2024-05-22T10:41:27.334264",
     "exception": false,
     "start_time": "2024-05-22T10:41:27.128209",
     "status": "completed"
    },
    "tags": []
   },
   "outputs": [
    {
     "data": {
      "text/plain": [
       "(891, 4)"
      ]
     },
     "execution_count": 22,
     "metadata": {},
     "output_type": "execute_result"
    }
   ],
   "source": [
    "#getting shape\n",
    "def get_shape(df):\n",
    "    num_rows = df.count()\n",
    "    num_cols = len(df.columns)\n",
    "    return (num_rows, num_cols)\n",
    "\n",
    "# Get the shape of the DataFrame\n",
    "shape = get_shape(df_selected)\n",
    "shape"
   ]
  },
  {
   "cell_type": "code",
   "execution_count": 23,
   "id": "a25e1a5d",
   "metadata": {
    "execution": {
     "iopub.execute_input": "2024-05-22T10:41:27.397939Z",
     "iopub.status.busy": "2024-05-22T10:41:27.397521Z",
     "iopub.status.idle": "2024-05-22T10:41:31.088633Z",
     "shell.execute_reply": "2024-05-22T10:41:31.087039Z"
    },
    "papermill": {
     "duration": 3.72814,
     "end_time": "2024-05-22T10:41:31.093263",
     "exception": false,
     "start_time": "2024-05-22T10:41:27.365123",
     "status": "completed"
    },
    "tags": []
   },
   "outputs": [
    {
     "name": "stderr",
     "output_type": "stream",
     "text": [
      "[Stage 30:>                                                         (0 + 4) / 5]\r"
     ]
    },
    {
     "name": "stdout",
     "output_type": "stream",
     "text": [
      "+-----------+--------+------+--------------------+\n",
      "|PassengerId|Survived|Pclass|                Name|\n",
      "+-----------+--------+------+--------------------+\n",
      "|       1000|       1|     3|                  JJ|\n",
      "|        891|       0|     3| Dooley, Mr. Patrick|\n",
      "|        890|       1|     1|Behr, Mr. Karl Ho...|\n",
      "|        889|       0|     3|\"Johnston, Miss. ...|\n",
      "|        888|       1|     1|Graham, Miss. Mar...|\n",
      "+-----------+--------+------+--------------------+\n",
      "only showing top 5 rows\n",
      "\n"
     ]
    },
    {
     "name": "stderr",
     "output_type": "stream",
     "text": [
      "                                                                                \r"
     ]
    }
   ],
   "source": [
    "# Concatenate DataFrames: add a new row\n",
    "new_row = spark.createDataFrame([Row(PassengerId=1000, Survived=1, Pclass=3, Name='JJ')])\n",
    "df_new = new_row.union(df_selected)\n",
    "df_new.orderBy(\"PassengerId\", ascending=False).show(5)\n"
   ]
  },
  {
   "cell_type": "code",
   "execution_count": 24,
   "id": "4d3a7b69",
   "metadata": {
    "execution": {
     "iopub.execute_input": "2024-05-22T10:41:31.157209Z",
     "iopub.status.busy": "2024-05-22T10:41:31.156505Z",
     "iopub.status.idle": "2024-05-22T10:41:31.522264Z",
     "shell.execute_reply": "2024-05-22T10:41:31.521060Z"
    },
    "papermill": {
     "duration": 0.401169,
     "end_time": "2024-05-22T10:41:31.526431",
     "exception": false,
     "start_time": "2024-05-22T10:41:31.125262",
     "status": "completed"
    },
    "tags": []
   },
   "outputs": [
    {
     "name": "stdout",
     "output_type": "stream",
     "text": [
      "+-----------+--------+------+--------------------+------+----+-----+-----+--------+-------+-----+--------+-----------+-----------+---+---------+\n",
      "|PassengerId|Survived|Pclass|                Name|   Sex| Age|SibSp|Parch|  Ticket|   Fare|Cabin|Embarked|DateOfBirth|not_married|one|paddedOne|\n",
      "+-----------+--------+------+--------------------+------+----+-----+-----+--------+-------+-----+--------+-----------+-----------+---+---------+\n",
      "|         53|       1|     1|Harper, Mrs. Henr...|female|49.0|    1|    0|PC 17572|76.7292|  D33|       C| 1863-12-13|          0|  1|      001|\n",
      "|        137|       1|     1|Newsom, Miss. Hel...|female|19.0|    0|    2|   11752|26.2833|  D47|       S| 1893-10-06|          1|  1|      001|\n",
      "|         56|       1|     1|   Woolner, Mr. Hugh|  male|NULL|    0|    0|   19947|   35.5|  C52|       S|       NULL|          0|  1|      001|\n",
      "|          4|       1|     1|Futrelle, Mrs. Ja...|female|35.0|    1|    0|  113803|   53.1| C123|       S| 1878-01-06|          0|  1|      001|\n",
      "|         62|       1|     1| Icard, Miss. Amelie|female|38.0|    0|    0|  113572|   80.0|  B28|    NULL| 1874-05-18|          1|  1|      001|\n",
      "+-----------+--------+------+--------------------+------+----+-----+-----+--------+-------+-----+--------+-----------+-----------+---+---------+\n",
      "only showing top 5 rows\n",
      "\n"
     ]
    }
   ],
   "source": [
    "# Sort values\n",
    "df = df.orderBy(col('Pclass').asc(), col('Survived').desc())\n",
    "df.show(5)"
   ]
  },
  {
   "cell_type": "code",
   "execution_count": 25,
   "id": "30a3163b",
   "metadata": {
    "execution": {
     "iopub.execute_input": "2024-05-22T10:41:31.611881Z",
     "iopub.status.busy": "2024-05-22T10:41:31.611397Z",
     "iopub.status.idle": "2024-05-22T10:41:31.628219Z",
     "shell.execute_reply": "2024-05-22T10:41:31.626751Z"
    },
    "papermill": {
     "duration": 0.062088,
     "end_time": "2024-05-22T10:41:31.632007",
     "exception": false,
     "start_time": "2024-05-22T10:41:31.569919",
     "status": "completed"
    },
    "tags": []
   },
   "outputs": [],
   "source": [
    "# Drop duplicates\n",
    "df = df.dropDuplicates(['PassengerId'])"
   ]
  },
  {
   "cell_type": "code",
   "execution_count": 26,
   "id": "c61e15f2",
   "metadata": {
    "execution": {
     "iopub.execute_input": "2024-05-22T10:41:31.716420Z",
     "iopub.status.busy": "2024-05-22T10:41:31.715837Z",
     "iopub.status.idle": "2024-05-22T10:41:33.233823Z",
     "shell.execute_reply": "2024-05-22T10:41:33.232601Z"
    },
    "papermill": {
     "duration": 1.572912,
     "end_time": "2024-05-22T10:41:33.245079",
     "exception": false,
     "start_time": "2024-05-22T10:41:31.672167",
     "status": "completed"
    },
    "tags": []
   },
   "outputs": [
    {
     "name": "stderr",
     "output_type": "stream",
     "text": [
      "24/05/22 10:41:31 WARN SparkStringUtils: Truncated the string representation of a plan since it was too large. This behavior can be adjusted by setting 'spark.sql.debug.maxToStringFields'.\n"
     ]
    },
    {
     "name": "stdout",
     "output_type": "stream",
     "text": [
      "+-----------+--------+------+------+----+-----+-----+-------+-----+--------+-----------+-----------+---+---------+\n",
      "|PassengerId|Survived|Pclass|   Sex| Age|SibSp|Parch|   Fare|Cabin|Embarked|DateOfBirth|not_married|one|paddedOne|\n",
      "+-----------+--------+------+------+----+-----+-----+-------+-----+--------+-----------+-----------+---+---------+\n",
      "|          1|       0|     3|  male|22.0|    1|    0|   7.25| NULL|       S| 1890-11-07|          0|  1|      001|\n",
      "|          2|       1|     1|female|38.0|    1|    0|71.2833|  C85|       C| 1875-01-16|          0|  1|      001|\n",
      "|          3|       1|     3|female|26.0|    0|    0|  7.925| NULL|       S| 1886-12-30|          1|  1|      001|\n",
      "|          4|       1|     1|female|35.0|    1|    0|   53.1| C123|       S| 1878-01-06|          0|  1|      001|\n",
      "|          5|       0|     3|  male|35.0|    0|    0|   8.05| NULL|       S| 1877-10-30|          0|  1|      001|\n",
      "+-----------+--------+------+------+----+-----+-----+-------+-----+--------+-----------+-----------+---+---------+\n",
      "only showing top 5 rows\n",
      "\n"
     ]
    }
   ],
   "source": [
    "# Drop columns\n",
    "# Remove columns 'a' and 'b'\n",
    "df_dropped = df.drop('Name', 'Ticket')\n",
    "df_dropped.show(5)"
   ]
  },
  {
   "cell_type": "code",
   "execution_count": 27,
   "id": "edfe9eb5",
   "metadata": {
    "execution": {
     "iopub.execute_input": "2024-05-22T10:41:33.332295Z",
     "iopub.status.busy": "2024-05-22T10:41:33.331916Z",
     "iopub.status.idle": "2024-05-22T10:41:34.333518Z",
     "shell.execute_reply": "2024-05-22T10:41:34.332389Z"
    },
    "papermill": {
     "duration": 1.046786,
     "end_time": "2024-05-22T10:41:34.338233",
     "exception": false,
     "start_time": "2024-05-22T10:41:33.291447",
     "status": "completed"
    },
    "tags": []
   },
   "outputs": [
    {
     "name": "stdout",
     "output_type": "stream",
     "text": [
      "+-----------+--------+-----+--------------------+------+----+-----+-----+----------------+-------+-----+--------+-----------+-----------+---+---------+\n",
      "|PassengerId|Survived|Class|                Name|   Sex| Age|SibSp|Parch|          Ticket|   Fare|Cabin|Embarked|DateOfBirth|not_married|one|paddedOne|\n",
      "+-----------+--------+-----+--------------------+------+----+-----+-----+----------------+-------+-----+--------+-----------+-----------+---+---------+\n",
      "|          1|       0|    3|Braund, Mr. Owen ...|  male|22.0|    1|    0|       A/5 21171|   7.25| NULL|       S| 1890-11-07|          0|  1|      001|\n",
      "|          2|       1|    1|Cumings, Mrs. Joh...|female|38.0|    1|    0|        PC 17599|71.2833|  C85|       C| 1875-01-16|          0|  1|      001|\n",
      "|          3|       1|    3|Heikkinen, Miss. ...|female|26.0|    0|    0|STON/O2. 3101282|  7.925| NULL|       S| 1886-12-30|          1|  1|      001|\n",
      "|          4|       1|    1|Futrelle, Mrs. Ja...|female|35.0|    1|    0|          113803|   53.1| C123|       S| 1878-01-06|          0|  1|      001|\n",
      "|          5|       0|    3|Allen, Mr. Willia...|  male|35.0|    0|    0|          373450|   8.05| NULL|       S| 1877-10-30|          0|  1|      001|\n",
      "+-----------+--------+-----+--------------------+------+----+-----+-----+----------------+-------+-----+--------+-----------+-----------+---+---------+\n",
      "only showing top 5 rows\n",
      "\n"
     ]
    }
   ],
   "source": [
    "# Rename columns\n",
    "df = df.withColumnRenamed('Pclass', 'Class')\n",
    "df.show(5)"
   ]
  },
  {
   "cell_type": "code",
   "execution_count": 28,
   "id": "4ebe570a",
   "metadata": {
    "execution": {
     "iopub.execute_input": "2024-05-22T10:41:34.424269Z",
     "iopub.status.busy": "2024-05-22T10:41:34.423735Z",
     "iopub.status.idle": "2024-05-22T10:41:35.338248Z",
     "shell.execute_reply": "2024-05-22T10:41:35.337070Z"
    },
    "papermill": {
     "duration": 0.959907,
     "end_time": "2024-05-22T10:41:35.342235",
     "exception": false,
     "start_time": "2024-05-22T10:41:34.382328",
     "status": "completed"
    },
    "tags": []
   },
   "outputs": [
    {
     "name": "stdout",
     "output_type": "stream",
     "text": [
      "+------+-----+--------+----------------+\n",
      "|   Sex|Class|Survived|Passengers_count|\n",
      "+------+-----+--------+----------------+\n",
      "|female|    1|       0|               3|\n",
      "|female|    2|       0|               6|\n",
      "|  male|    2|       0|              91|\n",
      "|  male|    1|       0|              77|\n",
      "|  male|    3|       0|             300|\n",
      "|female|    3|       0|              72|\n",
      "|  male|    2|       1|              17|\n",
      "|female|    2|       1|              70|\n",
      "|  male|    1|       1|              45|\n",
      "|female|    1|       1|              91|\n",
      "|  male|    3|       1|              47|\n",
      "|female|    3|       1|              72|\n",
      "+------+-----+--------+----------------+\n",
      "\n"
     ]
    }
   ],
   "source": [
    "# Group and aggregate\n",
    "grouped_df = df.groupBy('Sex', 'Class','Survived').agg(count('PassengerId').alias('Passengers_count'))\n",
    "grouped_df.show(50)"
   ]
  },
  {
   "cell_type": "code",
   "execution_count": 29,
   "id": "bc1d988d",
   "metadata": {
    "execution": {
     "iopub.execute_input": "2024-05-22T10:41:35.428676Z",
     "iopub.status.busy": "2024-05-22T10:41:35.428111Z",
     "iopub.status.idle": "2024-05-22T10:41:42.341007Z",
     "shell.execute_reply": "2024-05-22T10:41:42.339695Z"
    },
    "papermill": {
     "duration": 6.961453,
     "end_time": "2024-05-22T10:41:42.344794",
     "exception": false,
     "start_time": "2024-05-22T10:41:35.383341",
     "status": "completed"
    },
    "tags": []
   },
   "outputs": [
    {
     "name": "stdout",
     "output_type": "stream",
     "text": [
      "Column 'PassengerId': 0 null values\n",
      "Column 'Survived': 0 null values\n",
      "Column 'Class': 0 null values\n",
      "Column 'Name': 0 null values\n",
      "Column 'Sex': 0 null values\n",
      "Column 'Age': 177 null values\n",
      "Column 'SibSp': 0 null values\n",
      "Column 'Parch': 0 null values\n",
      "Column 'Ticket': 0 null values\n",
      "Column 'Fare': 0 null values\n",
      "Column 'Cabin': 687 null values\n",
      "Column 'Embarked': 2 null values\n",
      "Column 'DateOfBirth': 177 null values\n",
      "Column 'not_married': 0 null values\n",
      "Column 'one': 0 null values\n",
      "Column 'paddedOne': 0 null values\n"
     ]
    }
   ],
   "source": [
    "#check nulls\n",
    "# Initialize an empty dictionary to store the counts\n",
    "null_counts = {}\n",
    "\n",
    "# Iterate over each column in the DataFrame\n",
    "for col_name in df.columns:\n",
    "    # Count the number of null values in the column\n",
    "    null_count = df.filter(col(col_name).isNull()).count()\n",
    "    # Store the count in the dictionary\n",
    "    null_counts[col_name] = null_count\n",
    "\n",
    "# Print the null counts for each column\n",
    "for col_name, count in null_counts.items():\n",
    "    print(f\"Column '{col_name}': {count} null values\")"
   ]
  },
  {
   "cell_type": "code",
   "execution_count": 30,
   "id": "8818b374",
   "metadata": {
    "execution": {
     "iopub.execute_input": "2024-05-22T10:41:42.433334Z",
     "iopub.status.busy": "2024-05-22T10:41:42.432765Z",
     "iopub.status.idle": "2024-05-22T10:41:42.948170Z",
     "shell.execute_reply": "2024-05-22T10:41:42.946636Z"
    },
    "papermill": {
     "duration": 0.56349,
     "end_time": "2024-05-22T10:41:42.951784",
     "exception": false,
     "start_time": "2024-05-22T10:41:42.388294",
     "status": "completed"
    },
    "tags": []
   },
   "outputs": [
    {
     "name": "stdout",
     "output_type": "stream",
     "text": [
      "29.69911764704046\n"
     ]
    }
   ],
   "source": [
    "mean_value = df.select(mean(col('Age'))).collect()[0][0]\n",
    "print(mean_value)\n",
    "# Replace null values with the mean value\n",
    "df = df.withColumn('Age', when(col('Age').isNull(), mean_value).otherwise(col('Age')))"
   ]
  },
  {
   "cell_type": "code",
   "execution_count": 31,
   "id": "ad84bcf8",
   "metadata": {
    "execution": {
     "iopub.execute_input": "2024-05-22T10:41:43.013641Z",
     "iopub.status.busy": "2024-05-22T10:41:43.013236Z",
     "iopub.status.idle": "2024-05-22T10:41:44.368629Z",
     "shell.execute_reply": "2024-05-22T10:41:44.367479Z"
    },
    "papermill": {
     "duration": 1.389655,
     "end_time": "2024-05-22T10:41:44.372203",
     "exception": false,
     "start_time": "2024-05-22T10:41:42.982548",
     "status": "completed"
    },
    "tags": []
   },
   "outputs": [
    {
     "name": "stdout",
     "output_type": "stream",
     "text": [
      "+-----------+--------+-----+--------------------+------+---+-----+-----+-------------+--------+-------+--------+-----------+-----------+---+---------+----+\n",
      "|PassengerId|Survived|Class|                Name|   Sex|Age|SibSp|Parch|       Ticket|    Fare|  Cabin|Embarked|DateOfBirth|not_married|one|paddedOne|rank|\n",
      "+-----------+--------+-----+--------------------+------+---+-----+-----+-------------+--------+-------+--------+-----------+-----------+---+---------+----+\n",
      "|        470|       1|    3|Baclini, Miss. He...|female|  0|    2|    1|         2666| 19.2583|   NULL|       C| 1912-04-03|          1|  1|      001|   1|\n",
      "|        645|       1|    3|Baclini, Miss. Eu...|female|  0|    2|    1|         2666| 19.2583|   NULL|       C| 1911-07-22|          1|  1|      001|   1|\n",
      "|        173|       1|    3|Johnson, Miss. El...|female|  1|    1|    1|       347742| 11.1333|   NULL|       S| 1911-07-19|          1|  1|      001|   3|\n",
      "|        382|       1|    3|\"Nakid, Miss. Mar...|female|  1|    0|    2|         2653| 15.7417|   NULL|       C| 1911-06-16|          1|  1|      001|   3|\n",
      "|        120|       0|    3|Andersson, Miss. ...|female|  2|    4|    2|       347082|  31.275|   NULL|       S| 1911-02-27|          1|  1|      001|   5|\n",
      "|        206|       0|    3|Strom, Miss. Telm...|female|  2|    0|    1|       347054| 10.4625|     G6|       S| 1910-08-15|          1|  1|      001|   5|\n",
      "|        298|       0|    1|Allison, Miss. He...|female|  2|    1|    2|       113781|  151.55|C22 C26|       S| 1910-12-21|          1|  1|      001|   5|\n",
      "|        480|       1|    3|Hirvonen, Miss. H...|female|  2|    0|    1|      3101298| 12.2875|   NULL|       S| 1911-03-03|          1|  1|      001|   5|\n",
      "|        531|       1|    2|Quick, Miss. Phyl...|female|  2|    1|    1|        26360|    26.0|   NULL|       S| 1910-12-19|          1|  1|      001|   5|\n",
      "|        643|       0|    3|Skoog, Miss. Marg...|female|  2|    3|    2|       347088|    27.9|   NULL|       S| 1910-09-20|          1|  1|      001|   5|\n",
      "|         44|       1|    2|Laroche, Miss. Si...|female|  3|    1|    2|SC/Paris 2123| 41.5792|   NULL|       C| 1909-09-08|          1|  1|      001|  11|\n",
      "|        375|       0|    3|Palsson, Miss. St...|female|  3|    3|    1|       349909|  21.075|   NULL|       S| 1910-04-02|          1|  1|      001|  11|\n",
      "|         11|       1|    3|Sandstrom, Miss. ...|female|  4|    1|    1|      PP 9549|    16.7|     G6|       S| 1908-06-10|          1|  1|      001|  13|\n",
      "|        185|       1|    3|Kink-Heilmann, Mi...|female|  4|    0|    2|       315153|  22.025|   NULL|       S| 1908-09-12|          1|  1|      001|  13|\n",
      "|        619|       1|    2|Becker, Miss. Mar...|female|  4|    2|    1|       230136|    39.0|     F4|       S| 1908-05-20|          1|  1|      001|  13|\n",
      "|        692|       1|    3|  Karun, Miss. Manca|female|  4|    0|    1|       349256| 13.4167|   NULL|       C| 1908-07-16|          1|  1|      001|  13|\n",
      "|        751|       1|    2|   Wells, Miss. Joan|female|  4|    1|    1|        29103|    23.0|   NULL|       S| 1908-06-04|          1|  1|      001|  13|\n",
      "|         59|       1|    2|West, Miss. Const...|female|  5|    1|    2|   C.A. 34651|   27.75|   NULL|       S| 1908-01-29|          1|  1|      001|  18|\n",
      "|        234|       1|    3|Asplund, Miss. Li...|female|  5|    4|    2|       347077| 31.3875|   NULL|       S| 1907-06-07|          1|  1|      001|  18|\n",
      "|        449|       1|    3|Baclini, Miss. Ma...|female|  5|    2|    1|         2666| 19.2583|   NULL|       C| 1908-01-14|          1|  1|      001|  18|\n",
      "|        778|       1|    3|Emanuel, Miss. Vi...|female|  5|    0|    0|       364516|  12.475|   NULL|       S| 1907-04-17|          1|  1|      001|  18|\n",
      "|        721|       1|    2|\"Harper, Miss. An...|female|  6|    0|    1|       248727|    33.0|   NULL|       S| 1906-07-20|          1|  1|      001|  22|\n",
      "|        814|       0|    3|Andersson, Miss. ...|female|  6|    4|    2|       347082|  31.275|   NULL|       S| 1907-02-13|          1|  1|      001|  22|\n",
      "|        536|       1|    2|Hart, Miss. Eva M...|female|  7|    0|    2| F.C.C. 13529|   26.25|   NULL|       S| 1905-10-05|          1|  1|      001|  24|\n",
      "|         25|       0|    3|Palsson, Miss. To...|female|  8|    3|    1|       349909|  21.075|   NULL|       S| 1904-05-12|          1|  1|      001|  25|\n",
      "|        238|       1|    2|\"Collyer, Miss. M...|female|  8|    0|    2|   C.A. 31921|   26.25|   NULL|       S| 1905-02-01|          1|  1|      001|  25|\n",
      "|        148|       0|    3|\"Ford, Miss. Robi...|female|  9|    2|    2|   W./C. 6608|  34.375|   NULL|       S| 1903-05-19|          1|  1|      001|  27|\n",
      "|        542|       0|    3|Andersson, Miss. ...|female|  9|    4|    2|       347082|  31.275|   NULL|       S| 1903-06-30|          1|  1|      001|  27|\n",
      "|        635|       0|    3|  Skoog, Miss. Mabel|female|  9|    3|    2|       347088|    27.9|   NULL|       S| 1903-07-16|          1|  1|      001|  27|\n",
      "|        853|       0|    3|Boulos, Miss. Nou...|female|  9|    1|    1|         2678| 15.2458|   NULL|       C| 1903-06-16|          1|  1|      001|  27|\n",
      "|        420|       0|    3|Van Impe, Miss. C...|female| 10|    0|    2|       345773|   24.15|   NULL|       S| 1902-12-30|          1|  1|      001|  31|\n",
      "|        543|       0|    3|Andersson, Miss. ...|female| 11|    4|    2|       347082|  31.275|   NULL|       S| 1901-12-25|          1|  1|      001|  32|\n",
      "|        447|       1|    2|Mellinger, Miss. ...|female| 13|    0|    1|       250644|    19.5|   NULL|       S| 1899-09-08|          1|  1|      001|  33|\n",
      "|        781|       1|    3|Ayoub, Miss. Banoura|female| 13|    0|    0|         2687|  7.2292|   NULL|       C| 1899-09-14|          1|  1|      001|  33|\n",
      "|         10|       1|    2|Nasser, Mrs. Nich...|female| 14|    1|    0|       237736| 30.0708|   NULL|       C| 1898-07-11|          0|  1|      001|  35|\n",
      "|         15|       0|    3|Vestrom, Miss. Hu...|female| 14|    0|    0|       350406|  7.8542|   NULL|       S| 1899-03-10|          1|  1|      001|  35|\n",
      "|         40|       1|    3|Nicola-Yarred, Mi...|female| 14|    1|    0|         2651| 11.2417|   NULL|       C| 1898-06-25|          1|  1|      001|  35|\n",
      "|        112|       0|    3|Zabour, Miss. Hileni|female| 14|    1|    0|         2665| 14.4542|   NULL|       C| 1898-09-14|          1|  1|      001|  35|\n",
      "|        436|       1|    1|Carter, Miss. Luc...|female| 14|    1|    2|       113760|   120.0|B96 B98|       S| 1898-07-26|          1|  1|      001|  35|\n",
      "|         23|       1|    3|\"McGowan, Miss. A...|female| 15|    0|    0|       330923|  8.0292|   NULL|       Q| 1897-04-25|          1|  1|      001|  40|\n",
      "|        690|       1|    1|Madill, Miss. Geo...|female| 15|    0|    1|        24160|211.3375|     B5|       S| 1897-07-09|          1|  1|      001|  40|\n",
      "|        831|       1|    3|Yasbeck, Mrs. Ant...|female| 15|    1|    0|         2659| 14.4542|   NULL|       C| 1897-06-08|          0|  1|      001|  40|\n",
      "|        876|       1|    3|\"Najib, Miss. Ade...|female| 15|    0|    0|         2667|   7.225|   NULL|       C| 1898-02-23|          1|  1|      001|  40|\n",
      "|         72|       0|    3|Goodwin, Miss. Li...|female| 16|    5|    2|      CA 2144|    46.9|   NULL|       S| 1896-07-08|          1|  1|      001|  44|\n",
      "|        157|       1|    3|\"Gilnagh, Miss. K...|female| 16|    0|    0|        35851|  7.7333|   NULL|       Q| 1896-05-30|          1|  1|      001|  44|\n",
      "|        209|       1|    3|\"Carr, Miss. Hele...|female| 16|    0|    0|       367231|    7.75|   NULL|       Q| 1896-07-23|          1|  1|      001|  44|\n",
      "|        330|       1|    1|Hippach, Miss. Je...|female| 16|    0|    1|       111361| 57.9792|    B18|       C| 1896-12-12|          1|  1|      001|  44|\n",
      "|        505|       1|    1|Maioni, Miss. Rob...|female| 16|    0|    0|       110152|    86.5|    B79|       S| 1897-01-17|          1|  1|      001|  44|\n",
      "|        854|       1|    1|Lines, Miss. Mary...|female| 16|    0|    1|     PC 17592|    39.4|    D28|       S| 1896-07-24|          1|  1|      001|  44|\n",
      "|         69|       1|    3|Andersson, Miss. ...|female| 17|    4|    2|      3101281|   7.925|   NULL|       S| 1895-12-29|          1|  1|      001|  50|\n",
      "+-----------+--------+-----+--------------------+------+---+-----+-----+-------------+--------+-------+--------+-----------+-----------+---+---------+----+\n",
      "only showing top 50 rows\n",
      "\n"
     ]
    }
   ],
   "source": [
    "# Calculate ranks with partitions\n",
    "from pyspark.sql.window import Window\n",
    "from pyspark.sql.functions import rank\n",
    "df = df.withColumn('Age', col('Age').cast('integer'))\n",
    "windowSpec = Window.partitionBy(\"Sex\").orderBy(col('Age').asc())\n",
    "df = df.withColumn('rank', rank().over(windowSpec))\n",
    "df.show(50)"
   ]
  },
  {
   "cell_type": "code",
   "execution_count": 32,
   "id": "601df636",
   "metadata": {
    "execution": {
     "iopub.execute_input": "2024-05-22T10:41:44.449311Z",
     "iopub.status.busy": "2024-05-22T10:41:44.448905Z",
     "iopub.status.idle": "2024-05-22T10:41:45.304917Z",
     "shell.execute_reply": "2024-05-22T10:41:45.303713Z"
    },
    "papermill": {
     "duration": 0.893615,
     "end_time": "2024-05-22T10:41:45.308470",
     "exception": false,
     "start_time": "2024-05-22T10:41:44.414855",
     "status": "completed"
    },
    "tags": []
   },
   "outputs": [
    {
     "name": "stdout",
     "output_type": "stream",
     "text": [
      "+-----------+--------+-----+--------------------+----+---+-----+-----+----------+-------+-----+--------+-----------+-----------+---+---------+----+---------+\n",
      "|PassengerId|Survived|Class|                Name| Sex|Age|SibSp|Parch|    Ticket|   Fare|Cabin|Embarked|DateOfBirth|not_married|one|paddedOne|rank| age_rank|\n",
      "+-----------+--------+-----+--------------------+----+---+-----+-----+----------+-------+-----+--------+-----------+-----------+---+---------+----+---------+\n",
      "|        631|       1|    1|Barkworth, Mr. Al...|male| 80|    0|    0|     27042|   30.0|  A23|       S| 1832-09-14|          0|  1|      001| 577|not_child|\n",
      "|        852|       0|    3| Svensson, Mr. Johan|male| 74|    0|    0|    347060|  7.775| NULL|       S| 1838-12-27|          0|  1|      001| 576|not_child|\n",
      "|         97|       0|    1|Goldschmidt, Mr. ...|male| 71|    0|    0|  PC 17754|34.6542|   A5|       C| 1841-12-28|          0|  1|      001| 574|not_child|\n",
      "|        494|       0|    1|Artagaveytia, Mr....|male| 71|    0|    0|  PC 17609|49.5042| NULL|       C| 1841-06-20|          0|  1|      001| 574|not_child|\n",
      "|        117|       0|    3|Connors, Mr. Patrick|male| 70|    0|    0|    370369|   7.75| NULL|       Q| 1842-10-22|          0|  1|      001| 571|not_child|\n",
      "|        673|       0|    2|Mitchell, Mr. Hen...|male| 70|    0|    0|C.A. 24580|   10.5| NULL|       S| 1842-10-27|          0|  1|      001| 571|not_child|\n",
      "|        746|       0|    1|Crosby, Capt. Edw...|male| 70|    1|    1| WE/P 5735|   71.0|  B22|       S| 1842-11-12|          0|  1|      001| 571|not_child|\n",
      "|         34|       0|    2|Wheadon, Mr. Edwa...|male| 66|    0|    0|C.A. 24579|   10.5| NULL|       S| 1846-06-30|          0|  1|      001| 570|not_child|\n",
      "|        457|       0|    1|Millet, Mr. Franc...|male| 65|    0|    0|     13509|  26.55|  E38|       S| 1848-01-08|          0|  1|      001| 567|not_child|\n",
      "|         55|       0|    1|Ostby, Mr. Engelh...|male| 65|    0|    1|    113509|61.9792|  B30|       C| 1847-09-09|          0|  1|      001| 567|not_child|\n",
      "+-----------+--------+-----+--------------------+----+---+-----+-----+----------+-------+-----+--------+-----------+-----------+---+---------+----+---------+\n",
      "only showing top 10 rows\n",
      "\n"
     ]
    }
   ],
   "source": [
    "# Apply a condition\n",
    "df = df.withColumn('age_rank', when(col('Age') < 12, 'child').otherwise('not_child'))\n",
    "df.orderBy(col('Age').desc()).show(10)"
   ]
  },
  {
   "cell_type": "code",
   "execution_count": 33,
   "id": "0d136ccd",
   "metadata": {
    "execution": {
     "iopub.execute_input": "2024-05-22T10:41:45.371781Z",
     "iopub.status.busy": "2024-05-22T10:41:45.371334Z",
     "iopub.status.idle": "2024-05-22T10:41:47.318037Z",
     "shell.execute_reply": "2024-05-22T10:41:47.316843Z"
    },
    "papermill": {
     "duration": 1.982563,
     "end_time": "2024-05-22T10:41:47.321705",
     "exception": false,
     "start_time": "2024-05-22T10:41:45.339142",
     "status": "completed"
    },
    "tags": []
   },
   "outputs": [
    {
     "name": "stdout",
     "output_type": "stream",
     "text": [
      "+-----+------+----+\n",
      "|Class|female|male|\n",
      "+-----+------+----+\n",
      "|    1|    91|  45|\n",
      "|    3|    72|  47|\n",
      "|    2|    70|  17|\n",
      "+-----+------+----+\n",
      "\n"
     ]
    }
   ],
   "source": [
    "# Create a pivot table\n",
    "pivot_df = df.groupBy('Class').pivot('Sex').agg(sum('Survived'))\n",
    "pivot_df.show(5)"
   ]
  },
  {
   "cell_type": "markdown",
   "id": "34af935e",
   "metadata": {
    "papermill": {
     "duration": 0.045488,
     "end_time": "2024-05-22T10:41:47.413888",
     "exception": false,
     "start_time": "2024-05-22T10:41:47.368400",
     "status": "completed"
    },
    "tags": []
   },
   "source": [
    "## Joins"
   ]
  },
  {
   "cell_type": "code",
   "execution_count": 34,
   "id": "01570579",
   "metadata": {
    "execution": {
     "iopub.execute_input": "2024-05-22T10:41:47.509668Z",
     "iopub.status.busy": "2024-05-22T10:41:47.509167Z",
     "iopub.status.idle": "2024-05-22T10:41:49.408273Z",
     "shell.execute_reply": "2024-05-22T10:41:49.406965Z"
    },
    "papermill": {
     "duration": 1.953155,
     "end_time": "2024-05-22T10:41:49.411851",
     "exception": false,
     "start_time": "2024-05-22T10:41:47.458696",
     "status": "completed"
    },
    "tags": []
   },
   "outputs": [
    {
     "name": "stdout",
     "output_type": "stream",
     "text": [
      "+-----------+---+\n",
      "|PassengerId|Age|\n",
      "+-----------+---+\n",
      "|        463| 47|\n",
      "|        148|  9|\n",
      "|        471| 29|\n",
      "|        496| 29|\n",
      "|        833| 29|\n",
      "|        540| 22|\n",
      "|        858| 51|\n",
      "|        243| 29|\n",
      "|        392| 21|\n",
      "|        623| 20|\n",
      "+-----------+---+\n",
      "only showing top 10 rows\n",
      "\n",
      "+-----------+--------+-----+--------------------+------+-----+-----+-------+-------+-------+--------+-----------+-----------+---+---------+----+--------+\n",
      "|PassengerId|Survived|Class|                Name|   Sex|SibSp|Parch| Ticket|   Fare|  Cabin|Embarked|DateOfBirth|not_married|one|paddedOne|rank|age_rank|\n",
      "+-----------+--------+-----+--------------------+------+-----+-----+-------+-------+-------+--------+-----------+-----------+---+---------+----+--------+\n",
      "|        470|       1|    3|Baclini, Miss. He...|female|    2|    1|   2666|19.2583|   NULL|       C| 1912-04-03|          1|  1|      001|   1|   child|\n",
      "|        645|       1|    3|Baclini, Miss. Eu...|female|    2|    1|   2666|19.2583|   NULL|       C| 1911-07-22|          1|  1|      001|   1|   child|\n",
      "|        173|       1|    3|Johnson, Miss. El...|female|    1|    1| 347742|11.1333|   NULL|       S| 1911-07-19|          1|  1|      001|   3|   child|\n",
      "|        382|       1|    3|\"Nakid, Miss. Mar...|female|    0|    2|   2653|15.7417|   NULL|       C| 1911-06-16|          1|  1|      001|   3|   child|\n",
      "|        120|       0|    3|Andersson, Miss. ...|female|    4|    2| 347082| 31.275|   NULL|       S| 1911-02-27|          1|  1|      001|   5|   child|\n",
      "|        206|       0|    3|Strom, Miss. Telm...|female|    0|    1| 347054|10.4625|     G6|       S| 1910-08-15|          1|  1|      001|   5|   child|\n",
      "|        298|       0|    1|Allison, Miss. He...|female|    1|    2| 113781| 151.55|C22 C26|       S| 1910-12-21|          1|  1|      001|   5|   child|\n",
      "|        480|       1|    3|Hirvonen, Miss. H...|female|    0|    1|3101298|12.2875|   NULL|       S| 1911-03-03|          1|  1|      001|   5|   child|\n",
      "|        531|       1|    2|Quick, Miss. Phyl...|female|    1|    1|  26360|   26.0|   NULL|       S| 1910-12-19|          1|  1|      001|   5|   child|\n",
      "|        643|       0|    3|Skoog, Miss. Marg...|female|    3|    2| 347088|   27.9|   NULL|       S| 1910-09-20|          1|  1|      001|   5|   child|\n",
      "+-----------+--------+-----+--------------------+------+-----+-----+-------+-------+-------+--------+-----------+-----------+---+---------+----+--------+\n",
      "only showing top 10 rows\n",
      "\n",
      "+-----------+---+\n",
      "|PassengerId|Age|\n",
      "+-----------+---+\n",
      "|        463| 47|\n",
      "|        148|  9|\n",
      "|        471| 29|\n",
      "|        496| 29|\n",
      "|        833| 29|\n",
      "|        540| 22|\n",
      "|        858| 51|\n",
      "|        243| 29|\n",
      "|        392| 21|\n",
      "|        623| 20|\n",
      "+-----------+---+\n",
      "only showing top 10 rows\n",
      "\n"
     ]
    }
   ],
   "source": [
    "ages=df.select(col('PassengerId'),col('Age'))\n",
    "ages.show(10)\n",
    "no_ages=df.drop('Age')\n",
    "no_ages.show(10)\n",
    "ages_not_null=ages.filter(col('Age').isNotNull())\n",
    "ages_not_null.show(10)"
   ]
  },
  {
   "cell_type": "code",
   "execution_count": 35,
   "id": "79b9130c",
   "metadata": {
    "execution": {
     "iopub.execute_input": "2024-05-22T10:41:49.479534Z",
     "iopub.status.busy": "2024-05-22T10:41:49.478976Z",
     "iopub.status.idle": "2024-05-22T10:41:51.665783Z",
     "shell.execute_reply": "2024-05-22T10:41:51.664816Z"
    },
    "papermill": {
     "duration": 2.222371,
     "end_time": "2024-05-22T10:41:51.668507",
     "exception": false,
     "start_time": "2024-05-22T10:41:49.446136",
     "status": "completed"
    },
    "tags": []
   },
   "outputs": [
    {
     "name": "stdout",
     "output_type": "stream",
     "text": [
      "number of initial rows is 891\n",
      "number of rows for inner is 891\n",
      "number of rows for left is 891\n",
      "number of rows for right is 891\n"
     ]
    }
   ],
   "source": [
    "# pyspark syntax for joins\n",
    "print(f'number of initial rows is {no_ages.count()}')\n",
    "for type_of_join in ['inner', 'left', 'right']:\n",
    "    join=ages.join(ages_not_null, ages['PassengerId']==ages_not_null['PassengerId'], how=type_of_join)\n",
    "    print(f'number of rows for {type_of_join} is {join.count()}')"
   ]
  },
  {
   "cell_type": "markdown",
   "id": "53319252",
   "metadata": {
    "papermill": {
     "duration": 0.030079,
     "end_time": "2024-05-22T10:41:51.729265",
     "exception": false,
     "start_time": "2024-05-22T10:41:51.699186",
     "status": "completed"
    },
    "tags": []
   },
   "source": [
    "## Dates formatting"
   ]
  },
  {
   "cell_type": "code",
   "execution_count": 36,
   "id": "3b6fee4b",
   "metadata": {
    "execution": {
     "iopub.execute_input": "2024-05-22T10:41:51.792363Z",
     "iopub.status.busy": "2024-05-22T10:41:51.791676Z",
     "iopub.status.idle": "2024-05-22T10:41:52.438090Z",
     "shell.execute_reply": "2024-05-22T10:41:52.436846Z"
    },
    "papermill": {
     "duration": 0.68206,
     "end_time": "2024-05-22T10:41:52.442028",
     "exception": false,
     "start_time": "2024-05-22T10:41:51.759968",
     "status": "completed"
    },
    "tags": []
   },
   "outputs": [
    {
     "name": "stdout",
     "output_type": "stream",
     "text": [
      "+-------------------+\n",
      "|          Christmas|\n",
      "+-------------------+\n",
      "|2019-12-25 13:30:00|\n",
      "+-------------------+\n",
      "\n"
     ]
    }
   ],
   "source": [
    "# working with dates\n",
    "\n",
    "# Define data\n",
    "data = [('2019-12-25 13:30:00',)]\n",
    "columns = ['Christmas']\n",
    "\n",
    "# Create DataFrame directly from data\n",
    "df_dates = spark.createDataFrame(data, columns)\n",
    "df_dates.show()"
   ]
  },
  {
   "cell_type": "code",
   "execution_count": 37,
   "id": "96c318d0",
   "metadata": {
    "execution": {
     "iopub.execute_input": "2024-05-22T10:41:52.519624Z",
     "iopub.status.busy": "2024-05-22T10:41:52.519218Z",
     "iopub.status.idle": "2024-05-22T10:41:53.302036Z",
     "shell.execute_reply": "2024-05-22T10:41:53.300852Z"
    },
    "papermill": {
     "duration": 0.822675,
     "end_time": "2024-05-22T10:41:53.305251",
     "exception": false,
     "start_time": "2024-05-22T10:41:52.482576",
     "status": "completed"
    },
    "tags": []
   },
   "outputs": [
    {
     "name": "stdout",
     "output_type": "stream",
     "text": [
      "+-------------------+----------+-------------------+\n",
      "|          Christmas|      date|         time_stamp|\n",
      "+-------------------+----------+-------------------+\n",
      "|2019-12-25 13:30:00|2019-12-25|2019-12-25 13:30:00|\n",
      "+-------------------+----------+-------------------+\n",
      "\n"
     ]
    }
   ],
   "source": [
    "df_dates=df_dates.withColumn('date',to_date(col('Christmas'),'yyyy-MM-dd HH:mm:ss'))\n",
    "df_dates=df_dates.withColumn('time_stamp',to_timestamp(col('Christmas'),'yyyy-MM-dd HH:mm:ss'))\n",
    "df_dates.show()"
   ]
  },
  {
   "cell_type": "code",
   "execution_count": 38,
   "id": "b2e9d0f8",
   "metadata": {
    "execution": {
     "iopub.execute_input": "2024-05-22T10:41:53.381298Z",
     "iopub.status.busy": "2024-05-22T10:41:53.380899Z",
     "iopub.status.idle": "2024-05-22T10:41:54.055013Z",
     "shell.execute_reply": "2024-05-22T10:41:54.053813Z"
    },
    "papermill": {
     "duration": 0.711035,
     "end_time": "2024-05-22T10:41:54.058926",
     "exception": false,
     "start_time": "2024-05-22T10:41:53.347891",
     "status": "completed"
    },
    "tags": []
   },
   "outputs": [
    {
     "name": "stdout",
     "output_type": "stream",
     "text": [
      "+--------------------+\n",
      "|           Christmas|\n",
      "+--------------------+\n",
      "|25/Dec/2019 13:30:00|\n",
      "+--------------------+\n",
      "\n"
     ]
    }
   ],
   "source": [
    "# Define data\n",
    "data = [('25/Dec/2019 13:30:00',)]\n",
    "columns = ['Christmas']\n",
    "\n",
    "# Create DataFrame directly from data\n",
    "df_dates = spark.createDataFrame(data, columns)\n",
    "df_dates.show()"
   ]
  },
  {
   "cell_type": "code",
   "execution_count": 39,
   "id": "48bcb1a5",
   "metadata": {
    "execution": {
     "iopub.execute_input": "2024-05-22T10:41:54.139269Z",
     "iopub.status.busy": "2024-05-22T10:41:54.138867Z",
     "iopub.status.idle": "2024-05-22T10:41:54.734311Z",
     "shell.execute_reply": "2024-05-22T10:41:54.733156Z"
    },
    "papermill": {
     "duration": 0.634111,
     "end_time": "2024-05-22T10:41:54.738330",
     "exception": false,
     "start_time": "2024-05-22T10:41:54.104219",
     "status": "completed"
    },
    "tags": []
   },
   "outputs": [
    {
     "name": "stdout",
     "output_type": "stream",
     "text": [
      "+--------------------+----------+-------------------+\n",
      "|           Christmas|      date|         time_stamp|\n",
      "+--------------------+----------+-------------------+\n",
      "|25/Dec/2019 13:30:00|2019-12-25|2019-12-25 13:30:00|\n",
      "+--------------------+----------+-------------------+\n",
      "\n"
     ]
    }
   ],
   "source": [
    "df_dates=df_dates.withColumn('date',to_date(col('Christmas'),'dd/MMM/yyyy HH:mm:ss'))\n",
    "df_dates=df_dates.withColumn('time_stamp',to_timestamp(col('Christmas'),'dd/MMM/yyyy HH:mm:ss'))\n",
    "df_dates.show()"
   ]
  },
  {
   "cell_type": "code",
   "execution_count": 40,
   "id": "a2a50e79",
   "metadata": {
    "execution": {
     "iopub.execute_input": "2024-05-22T10:41:54.810926Z",
     "iopub.status.busy": "2024-05-22T10:41:54.810535Z",
     "iopub.status.idle": "2024-05-22T10:41:55.474444Z",
     "shell.execute_reply": "2024-05-22T10:41:55.472934Z"
    },
    "papermill": {
     "duration": 0.700257,
     "end_time": "2024-05-22T10:41:55.478039",
     "exception": false,
     "start_time": "2024-05-22T10:41:54.777782",
     "status": "completed"
    },
    "tags": []
   },
   "outputs": [
    {
     "name": "stdout",
     "output_type": "stream",
     "text": [
      "+----------------------+\n",
      "|Christmas             |\n",
      "+----------------------+\n",
      "|12/25/2019 01:30:00 PM|\n",
      "+----------------------+\n",
      "\n"
     ]
    }
   ],
   "source": [
    "# Define data\n",
    "data = [('12/25/2019 01:30:00 PM',)]\n",
    "columns = ['Christmas']\n",
    "\n",
    "# Create DataFrame directly from data\n",
    "df_dates = spark.createDataFrame(data, columns)\n",
    "df_dates.show(1, truncate=False)"
   ]
  },
  {
   "cell_type": "code",
   "execution_count": 41,
   "id": "419cb6dd",
   "metadata": {
    "execution": {
     "iopub.execute_input": "2024-05-22T10:41:55.555267Z",
     "iopub.status.busy": "2024-05-22T10:41:55.554880Z",
     "iopub.status.idle": "2024-05-22T10:41:56.185720Z",
     "shell.execute_reply": "2024-05-22T10:41:56.184482Z"
    },
    "papermill": {
     "duration": 0.668631,
     "end_time": "2024-05-22T10:41:56.189523",
     "exception": false,
     "start_time": "2024-05-22T10:41:55.520892",
     "status": "completed"
    },
    "tags": []
   },
   "outputs": [
    {
     "name": "stdout",
     "output_type": "stream",
     "text": [
      "+--------------------+----------+-------------------+\n",
      "|           Christmas|      date|         time_stamp|\n",
      "+--------------------+----------+-------------------+\n",
      "|12/25/2019 01:30:...|2019-12-25|2019-12-25 13:30:00|\n",
      "+--------------------+----------+-------------------+\n",
      "\n"
     ]
    }
   ],
   "source": [
    "df_dates=df_dates.withColumn('date',to_date(col('Christmas'),'MM/dd/yyyy hh:mm:ss a'))\n",
    "df_dates=df_dates.withColumn('time_stamp',to_timestamp(col('Christmas'),'MM/dd/yyyy hh:mm:ss a'))\n",
    "df_dates.show()"
   ]
  }
 ],
 "metadata": {
  "kaggle": {
   "accelerator": "none",
   "dataSources": [
    {
     "databundleVersionId": 26502,
     "sourceId": 3136,
     "sourceType": "competition"
    }
   ],
   "dockerImageVersionId": 30698,
   "isGpuEnabled": false,
   "isInternetEnabled": true,
   "language": "python",
   "sourceType": "notebook"
  },
  "kernelspec": {
   "display_name": "Python 3",
   "language": "python",
   "name": "python3"
  },
  "language_info": {
   "codemirror_mode": {
    "name": "ipython",
    "version": 3
   },
   "file_extension": ".py",
   "mimetype": "text/x-python",
   "name": "python",
   "nbconvert_exporter": "python",
   "pygments_lexer": "ipython3",
   "version": "3.10.13"
  },
  "papermill": {
   "default_parameters": {},
   "duration": 132.807395,
   "end_time": "2024-05-22T10:41:58.859691",
   "environment_variables": {},
   "exception": null,
   "input_path": "__notebook__.ipynb",
   "output_path": "__notebook__.ipynb",
   "parameters": {},
   "start_time": "2024-05-22T10:39:46.052296",
   "version": "2.5.0"
  }
 },
 "nbformat": 4,
 "nbformat_minor": 5
}
