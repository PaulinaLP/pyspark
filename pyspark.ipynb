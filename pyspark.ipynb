{
 "cells": [
  {
   "cell_type": "markdown",
   "id": "3e7faed0",
   "metadata": {
    "papermill": {
     "duration": 0.009689,
     "end_time": "2024-05-22T10:17:12.696401",
     "exception": false,
     "start_time": "2024-05-22T10:17:12.686712",
     "status": "completed"
    },
    "tags": []
   },
   "source": [
    "## Installation and imports"
   ]
  },
  {
   "cell_type": "code",
   "execution_count": 1,
   "id": "1e23468b",
   "metadata": {
    "execution": {
     "iopub.execute_input": "2024-05-22T10:17:12.718341Z",
     "iopub.status.busy": "2024-05-22T10:17:12.717542Z",
     "iopub.status.idle": "2024-05-22T10:18:02.405849Z",
     "shell.execute_reply": "2024-05-22T10:18:02.404501Z"
    },
    "papermill": {
     "duration": 49.701869,
     "end_time": "2024-05-22T10:18:02.408293",
     "exception": false,
     "start_time": "2024-05-22T10:17:12.706424",
     "status": "completed"
    },
    "tags": []
   },
   "outputs": [
    {
     "name": "stdout",
     "output_type": "stream",
     "text": [
      "Collecting pyspark==3.5.0\r\n",
      "  Downloading pyspark-3.5.0.tar.gz (316.9 MB)\r\n",
      "\u001b[2K     \u001b[90m━━━━━━━━━━━━━━━━━━━━━━━━━━━━━━━━━━━━━━━\u001b[0m \u001b[32m316.9/316.9 MB\u001b[0m \u001b[31m5.1 MB/s\u001b[0m eta \u001b[36m0:00:00\u001b[0m\r\n",
      "\u001b[?25h  Preparing metadata (setup.py) ... \u001b[?25l-\b \b\\\b \bdone\r\n",
      "\u001b[?25hRequirement already satisfied: py4j==0.10.9.7 in /opt/conda/lib/python3.10/site-packages (from pyspark==3.5.0) (0.10.9.7)\r\n",
      "Building wheels for collected packages: pyspark\r\n",
      "  Building wheel for pyspark (setup.py) ... \u001b[?25l-\b \b\\\b \b|\b \bdone\r\n",
      "\u001b[?25h  Created wheel for pyspark: filename=pyspark-3.5.0-py2.py3-none-any.whl size=317425345 sha256=e101abb71f7584ec2a721231b48caa6f77518d38422630624758be6b5e75a2a6\r\n",
      "  Stored in directory: /root/.cache/pip/wheels/41/4e/10/c2cf2467f71c678cfc8a6b9ac9241e5e44a01940da8fbb17fc\r\n",
      "Successfully built pyspark\r\n",
      "Installing collected packages: pyspark\r\n",
      "Successfully installed pyspark-3.5.0\r\n"
     ]
    }
   ],
   "source": [
    " !pip install pyspark==3.5.0"
   ]
  },
  {
   "cell_type": "code",
   "execution_count": 2,
   "id": "15aaac4c",
   "metadata": {
    "execution": {
     "iopub.execute_input": "2024-05-22T10:18:02.443476Z",
     "iopub.status.busy": "2024-05-22T10:18:02.442802Z",
     "iopub.status.idle": "2024-05-22T10:18:14.890594Z",
     "shell.execute_reply": "2024-05-22T10:18:14.889468Z"
    },
    "papermill": {
     "duration": 12.467867,
     "end_time": "2024-05-22T10:18:14.893186",
     "exception": false,
     "start_time": "2024-05-22T10:18:02.425319",
     "status": "completed"
    },
    "tags": []
   },
   "outputs": [
    {
     "name": "stdout",
     "output_type": "stream",
     "text": [
      "Collecting findspark\r\n",
      "  Downloading findspark-2.0.1-py2.py3-none-any.whl.metadata (352 bytes)\r\n",
      "Downloading findspark-2.0.1-py2.py3-none-any.whl (4.4 kB)\r\n",
      "Installing collected packages: findspark\r\n",
      "Successfully installed findspark-2.0.1\r\n"
     ]
    }
   ],
   "source": [
    "!pip install findspark"
   ]
  },
  {
   "cell_type": "code",
   "execution_count": 3,
   "id": "5dec81a2",
   "metadata": {
    "_cell_guid": "b1076dfc-b9ad-4769-8c92-a6c4dae69d19",
    "_uuid": "8f2839f25d086af736a60e9eeb907d3b93b6e0e5",
    "execution": {
     "iopub.execute_input": "2024-05-22T10:18:14.928255Z",
     "iopub.status.busy": "2024-05-22T10:18:14.927871Z",
     "iopub.status.idle": "2024-05-22T10:18:15.017203Z",
     "shell.execute_reply": "2024-05-22T10:18:15.016163Z"
    },
    "papermill": {
     "duration": 0.110143,
     "end_time": "2024-05-22T10:18:15.019690",
     "exception": false,
     "start_time": "2024-05-22T10:18:14.909547",
     "status": "completed"
    },
    "tags": []
   },
   "outputs": [],
   "source": [
    "import findspark\n",
    "findspark.init()\n",
    "\n",
    "import pyspark\n",
    "from pyspark.sql import SparkSession\n",
    "from pyspark.sql.functions import col, when, sum, avg, min, max, mean, count, to_timestamp, lit, lower, upper, substring, expr, to_date, date_add, date_sub\n",
    "from pyspark.sql.types import StructType, StructField, IntegerType, StringType, FloatType\n",
    "from pyspark.sql import Row"
   ]
  },
  {
   "cell_type": "code",
   "execution_count": 4,
   "id": "e7970894",
   "metadata": {
    "collapsed": true,
    "execution": {
     "iopub.execute_input": "2024-05-22T10:18:15.054316Z",
     "iopub.status.busy": "2024-05-22T10:18:15.053703Z",
     "iopub.status.idle": "2024-05-22T10:18:15.059673Z",
     "shell.execute_reply": "2024-05-22T10:18:15.058452Z"
    },
    "jupyter": {
     "outputs_hidden": true
    },
    "papermill": {
     "duration": 0.026616,
     "end_time": "2024-05-22T10:18:15.062453",
     "exception": false,
     "start_time": "2024-05-22T10:18:15.035837",
     "status": "completed"
    },
    "tags": []
   },
   "outputs": [
    {
     "name": "stdout",
     "output_type": "stream",
     "text": [
      "Help on function substring in module pyspark.sql.functions:\n",
      "\n",
      "substring(str: 'ColumnOrName', pos: int, len: int) -> pyspark.sql.column.Column\n",
      "    Substring starts at `pos` and is of length `len` when str is String type or\n",
      "    returns the slice of byte array that starts at `pos` in byte and is of length `len`\n",
      "    when str is Binary type.\n",
      "    \n",
      "    .. versionadded:: 1.5.0\n",
      "    \n",
      "    .. versionchanged:: 3.4.0\n",
      "        Supports Spark Connect.\n",
      "    \n",
      "    Notes\n",
      "    -----\n",
      "    The position is not zero based, but 1 based index.\n",
      "    \n",
      "    Parameters\n",
      "    ----------\n",
      "    str : :class:`~pyspark.sql.Column` or str\n",
      "        target column to work on.\n",
      "    pos : int\n",
      "        starting position in str.\n",
      "    len : int\n",
      "        length of chars.\n",
      "    \n",
      "    Returns\n",
      "    -------\n",
      "    :class:`~pyspark.sql.Column`\n",
      "        substring of given value.\n",
      "    \n",
      "    Examples\n",
      "    --------\n",
      "    >>> df = spark.createDataFrame([('abcd',)], ['s',])\n",
      "    >>> df.select(substring(df.s, 1, 2).alias('s')).collect()\n",
      "    [Row(s='ab')]\n",
      "\n"
     ]
    }
   ],
   "source": [
    "# help to see how to use a functions\n",
    "help(substring)"
   ]
  },
  {
   "cell_type": "markdown",
   "id": "89e2f500",
   "metadata": {
    "papermill": {
     "duration": 0.016509,
     "end_time": "2024-05-22T10:18:15.095297",
     "exception": false,
     "start_time": "2024-05-22T10:18:15.078788",
     "status": "completed"
    },
    "tags": []
   },
   "source": [
    "## Session starts"
   ]
  },
  {
   "cell_type": "code",
   "execution_count": 5,
   "id": "f451891f",
   "metadata": {
    "execution": {
     "iopub.execute_input": "2024-05-22T10:18:15.130316Z",
     "iopub.status.busy": "2024-05-22T10:18:15.129423Z",
     "iopub.status.idle": "2024-05-22T10:18:20.642794Z",
     "shell.execute_reply": "2024-05-22T10:18:20.641842Z"
    },
    "papermill": {
     "duration": 5.534097,
     "end_time": "2024-05-22T10:18:20.645586",
     "exception": false,
     "start_time": "2024-05-22T10:18:15.111489",
     "status": "completed"
    },
    "tags": []
   },
   "outputs": [
    {
     "name": "stderr",
     "output_type": "stream",
     "text": [
      "Setting default log level to \"WARN\".\n",
      "To adjust logging level use sc.setLogLevel(newLevel). For SparkR, use setLogLevel(newLevel).\n",
      "24/05/22 10:18:18 WARN NativeCodeLoader: Unable to load native-hadoop library for your platform... using builtin-java classes where applicable\n"
     ]
    }
   ],
   "source": [
    "spark = SparkSession.builder.appName(\"TitanicData\").getOrCreate()\n",
    "file_path = '/kaggle/input/titanic/train.csv'"
   ]
  },
  {
   "cell_type": "markdown",
   "id": "50991798",
   "metadata": {
    "papermill": {
     "duration": 0.015813,
     "end_time": "2024-05-22T10:18:20.677628",
     "exception": false,
     "start_time": "2024-05-22T10:18:20.661815",
     "status": "completed"
    },
    "tags": []
   },
   "source": [
    "## Schema"
   ]
  },
  {
   "cell_type": "code",
   "execution_count": 6,
   "id": "d757b139",
   "metadata": {
    "execution": {
     "iopub.execute_input": "2024-05-22T10:18:20.712121Z",
     "iopub.status.busy": "2024-05-22T10:18:20.711686Z",
     "iopub.status.idle": "2024-05-22T10:18:23.433317Z",
     "shell.execute_reply": "2024-05-22T10:18:23.432466Z"
    },
    "papermill": {
     "duration": 2.741937,
     "end_time": "2024-05-22T10:18:23.435846",
     "exception": false,
     "start_time": "2024-05-22T10:18:20.693909",
     "status": "completed"
    },
    "tags": []
   },
   "outputs": [],
   "source": [
    "# Define schema\n",
    "schema = StructType([\n",
    "    StructField(\"PassengerId\", IntegerType(), True),\n",
    "    StructField(\"Survived\", IntegerType(), True),\n",
    "    StructField(\"Pclass\", IntegerType(), True),\n",
    "    StructField(\"Name\", StringType(), True),\n",
    "    StructField(\"Sex\", StringType(), True),\n",
    "    StructField(\"Age\", FloatType(), True),\n",
    "    StructField(\"SibSp\", IntegerType(), True),\n",
    "    StructField(\"Parch\", IntegerType(), True),\n",
    "    StructField(\"Ticket\", StringType(), True),\n",
    "    StructField(\"Fare\", FloatType(), True),\n",
    "    StructField(\"Cabin\", StringType(), True),\n",
    "    StructField(\"Embarked\", StringType(), True)\n",
    "])\n",
    "\n",
    "# Define schema with list comprehension\n",
    "labels = [\n",
    "   (\"PassengerId\", IntegerType()),\n",
    "   (\"Survived\", IntegerType()),\n",
    "   (\"Pclass\", IntegerType()),\n",
    "   (\"Name\", StringType()),\n",
    "   (\"Sex\", StringType()),\n",
    "   (\"Age\", FloatType()),\n",
    "   (\"SibSp\", IntegerType()),\n",
    "   (\"Parch\", IntegerType()),\n",
    "   (\"Ticket\", StringType()),\n",
    "   (\"Fare\", FloatType()),\n",
    "   (\"Cabin\", StringType()),\n",
    "   (\"Embarked\", StringType())\n",
    "]\n",
    "\n",
    "schema=StructType([StructField(x[0],x[1],True) for x in labels])\n",
    "\n",
    "\n",
    "df = ( spark.read\n",
    "    .option(\"header\", \"true\")\n",
    "    .schema(schema)\n",
    "    .csv(file_path)\n",
    "   )"
   ]
  },
  {
   "cell_type": "code",
   "execution_count": 7,
   "id": "d0def288",
   "metadata": {
    "execution": {
     "iopub.execute_input": "2024-05-22T10:18:23.469864Z",
     "iopub.status.busy": "2024-05-22T10:18:23.469475Z",
     "iopub.status.idle": "2024-05-22T10:18:23.505523Z",
     "shell.execute_reply": "2024-05-22T10:18:23.504305Z"
    },
    "papermill": {
     "duration": 0.0565,
     "end_time": "2024-05-22T10:18:23.508600",
     "exception": false,
     "start_time": "2024-05-22T10:18:23.452100",
     "status": "completed"
    },
    "tags": []
   },
   "outputs": [
    {
     "name": "stdout",
     "output_type": "stream",
     "text": [
      "root\n",
      " |-- PassengerId: integer (nullable = true)\n",
      " |-- Survived: integer (nullable = true)\n",
      " |-- Pclass: integer (nullable = true)\n",
      " |-- Name: string (nullable = true)\n",
      " |-- Sex: string (nullable = true)\n",
      " |-- Age: float (nullable = true)\n",
      " |-- SibSp: integer (nullable = true)\n",
      " |-- Parch: integer (nullable = true)\n",
      " |-- Ticket: string (nullable = true)\n",
      " |-- Fare: float (nullable = true)\n",
      " |-- Cabin: string (nullable = true)\n",
      " |-- Embarked: string (nullable = true)\n",
      "\n"
     ]
    }
   ],
   "source": [
    "#print schema\n",
    "df.printSchema()"
   ]
  },
  {
   "cell_type": "markdown",
   "id": "c06a95b6",
   "metadata": {
    "papermill": {
     "duration": 0.018396,
     "end_time": "2024-05-22T10:18:23.553188",
     "exception": false,
     "start_time": "2024-05-22T10:18:23.534792",
     "status": "completed"
    },
    "tags": []
   },
   "source": [
    "## Working with rows and columns"
   ]
  },
  {
   "cell_type": "code",
   "execution_count": 8,
   "id": "a26e9ecb",
   "metadata": {
    "collapsed": true,
    "execution": {
     "iopub.execute_input": "2024-05-22T10:18:23.589143Z",
     "iopub.status.busy": "2024-05-22T10:18:23.588719Z",
     "iopub.status.idle": "2024-05-22T10:18:28.428585Z",
     "shell.execute_reply": "2024-05-22T10:18:28.427661Z"
    },
    "jupyter": {
     "outputs_hidden": true
    },
    "papermill": {
     "duration": 4.860059,
     "end_time": "2024-05-22T10:18:28.431020",
     "exception": false,
     "start_time": "2024-05-22T10:18:23.570961",
     "status": "completed"
    },
    "tags": []
   },
   "outputs": [
    {
     "name": "stderr",
     "output_type": "stream",
     "text": [
      "                                                                                \r"
     ]
    },
    {
     "name": "stdout",
     "output_type": "stream",
     "text": [
      "+-----------+----+-----------+\n",
      "|PassengerId| Age|DateOfBirth|\n",
      "+-----------+----+-----------+\n",
      "|          1|22.0| 1890-12-15|\n",
      "|          2|38.0| 1874-11-15|\n",
      "|          3|26.0| 1886-11-18|\n",
      "|          4|35.0| 1877-09-24|\n",
      "|          5|35.0| 1878-03-24|\n",
      "|          6|NULL|       NULL|\n",
      "|          7|54.0| 1858-12-18|\n",
      "|          8| 2.0| 1910-08-14|\n",
      "|          9|27.0| 1885-08-08|\n",
      "|         10|14.0| 1898-05-23|\n",
      "|         11| 4.0| 1908-11-23|\n",
      "|         12|58.0| 1854-07-25|\n",
      "|         13|20.0| 1893-02-15|\n",
      "|         14|39.0| 1873-06-13|\n",
      "|         15|14.0| 1898-12-10|\n",
      "|         16|55.0| 1858-01-05|\n",
      "|         17| 2.0| 1910-10-11|\n",
      "|         18|NULL|       NULL|\n",
      "|         19|31.0| 1882-03-28|\n",
      "|         20|NULL|       NULL|\n",
      "+-----------+----+-----------+\n",
      "only showing top 20 rows\n",
      "\n"
     ]
    }
   ],
   "source": [
    "# Add column with date of birth to work with dates later\n",
    "# expr function in PySpark is used to execute SQL expressions and return a new column\n",
    "df = df.withColumn(\n",
    "    \"DateOfBirth\",\n",
    "    expr(\"date_add(to_date('1912-04-15', 'yyyy-MM-dd'), -cast(Age * 365 as int)) + cast(rand() * 365 as int)\")\n",
    ")\n",
    "\n",
    "# Show a few rows to verify\n",
    "df.select(\"PassengerId\", \"Age\", \"DateOfBirth\").show()"
   ]
  },
  {
   "cell_type": "code",
   "execution_count": 9,
   "id": "cd9f856b",
   "metadata": {
    "execution": {
     "iopub.execute_input": "2024-05-22T10:18:28.465694Z",
     "iopub.status.busy": "2024-05-22T10:18:28.465339Z",
     "iopub.status.idle": "2024-05-22T10:18:29.562311Z",
     "shell.execute_reply": "2024-05-22T10:18:29.561180Z"
    },
    "papermill": {
     "duration": 1.118017,
     "end_time": "2024-05-22T10:18:29.565634",
     "exception": false,
     "start_time": "2024-05-22T10:18:28.447617",
     "status": "completed"
    },
    "tags": []
   },
   "outputs": [
    {
     "name": "stdout",
     "output_type": "stream",
     "text": [
      "+----------------+----------------+\n",
      "|min(DateOfBirth)|max(DateOfBirth)|\n",
      "+----------------+----------------+\n",
      "|      1833-01-15|      1912-06-17|\n",
      "+----------------+----------------+\n",
      "\n"
     ]
    }
   ],
   "source": [
    "# find the earliest and latest dates\n",
    "df.select(min('DateOfBirth'),max('DateOfBirth')).show()"
   ]
  },
  {
   "cell_type": "code",
   "execution_count": 10,
   "id": "ef351fd3",
   "metadata": {
    "execution": {
     "iopub.execute_input": "2024-05-22T10:18:29.619552Z",
     "iopub.status.busy": "2024-05-22T10:18:29.619090Z",
     "iopub.status.idle": "2024-05-22T10:18:30.038101Z",
     "shell.execute_reply": "2024-05-22T10:18:30.036835Z"
    },
    "papermill": {
     "duration": 0.449951,
     "end_time": "2024-05-22T10:18:30.041591",
     "exception": false,
     "start_time": "2024-05-22T10:18:29.591640",
     "status": "completed"
    },
    "tags": []
   },
   "outputs": [
    {
     "name": "stdout",
     "output_type": "stream",
     "text": [
      "+-----------------------------+-----------------------------+\n",
      "|date_sub(min(DateOfBirth), 3)|date_add(max(DateOfBirth), 3)|\n",
      "+-----------------------------+-----------------------------+\n",
      "|                   1833-01-12|                   1912-06-20|\n",
      "+-----------------------------+-----------------------------+\n",
      "\n"
     ]
    }
   ],
   "source": [
    "# +3 and -3\n",
    "df.select(date_sub(min('DateOfBirth'),3),date_add(max('DateOfBirth'),3)).show()"
   ]
  },
  {
   "cell_type": "code",
   "execution_count": 11,
   "id": "2a5c8e0c",
   "metadata": {
    "collapsed": true,
    "execution": {
     "iopub.execute_input": "2024-05-22T10:18:30.100546Z",
     "iopub.status.busy": "2024-05-22T10:18:30.100155Z",
     "iopub.status.idle": "2024-05-22T10:18:30.345961Z",
     "shell.execute_reply": "2024-05-22T10:18:30.344843Z"
    },
    "jupyter": {
     "outputs_hidden": true
    },
    "papermill": {
     "duration": 0.276117,
     "end_time": "2024-05-22T10:18:30.348217",
     "exception": false,
     "start_time": "2024-05-22T10:18:30.072100",
     "status": "completed"
    },
    "tags": []
   },
   "outputs": [
    {
     "name": "stdout",
     "output_type": "stream",
     "text": [
      "+---------------------------------------------------+\n",
      "|Name                                               |\n",
      "+---------------------------------------------------+\n",
      "|Braund, Mr. Owen Harris                            |\n",
      "|Cumings, Mrs. John Bradley (Florence Briggs Thayer)|\n",
      "|Heikkinen, Miss. Laina                             |\n",
      "|Futrelle, Mrs. Jacques Heath (Lily May Peel)       |\n",
      "|Allen, Mr. William Henry                           |\n",
      "|Moran, Mr. James                                   |\n",
      "|McCarthy, Mr. Timothy J                            |\n",
      "|Palsson, Master. Gosta Leonard                     |\n",
      "|Johnson, Mrs. Oscar W (Elisabeth Vilhelmina Berg)  |\n",
      "|Nasser, Mrs. Nicholas (Adele Achem)                |\n",
      "+---------------------------------------------------+\n",
      "only showing top 10 rows\n",
      "\n"
     ]
    }
   ],
   "source": [
    "# showing n rows\n",
    "df.select(\"Name\").show(n=10, truncate=False)"
   ]
  },
  {
   "cell_type": "code",
   "execution_count": 12,
   "id": "7f201845",
   "metadata": {
    "execution": {
     "iopub.execute_input": "2024-05-22T10:18:30.385568Z",
     "iopub.status.busy": "2024-05-22T10:18:30.384669Z",
     "iopub.status.idle": "2024-05-22T10:18:30.667278Z",
     "shell.execute_reply": "2024-05-22T10:18:30.666242Z"
    },
    "papermill": {
     "duration": 0.304441,
     "end_time": "2024-05-22T10:18:30.670564",
     "exception": false,
     "start_time": "2024-05-22T10:18:30.366123",
     "status": "completed"
    },
    "tags": []
   },
   "outputs": [
    {
     "name": "stdout",
     "output_type": "stream",
     "text": [
      "+--------------------+--------------------+---------------------+\n",
      "|         upper(Name)|         lower(Name)|substring(Name, 0, 3)|\n",
      "+--------------------+--------------------+---------------------+\n",
      "|BRAUND, MR. OWEN ...|braund, mr. owen ...|                  Bra|\n",
      "|CUMINGS, MRS. JOH...|cumings, mrs. joh...|                  Cum|\n",
      "|HEIKKINEN, MISS. ...|heikkinen, miss. ...|                  Hei|\n",
      "|FUTRELLE, MRS. JA...|futrelle, mrs. ja...|                  Fut|\n",
      "|ALLEN, MR. WILLIA...|allen, mr. willia...|                  All|\n",
      "|    MORAN, MR. JAMES|    moran, mr. james|                  Mor|\n",
      "|MCCARTHY, MR. TIM...|mccarthy, mr. tim...|                  McC|\n",
      "|PALSSON, MASTER. ...|palsson, master. ...|                  Pal|\n",
      "|JOHNSON, MRS. OSC...|johnson, mrs. osc...|                  Joh|\n",
      "|NASSER, MRS. NICH...|nasser, mrs. nich...|                  Nas|\n",
      "+--------------------+--------------------+---------------------+\n",
      "only showing top 10 rows\n",
      "\n"
     ]
    }
   ],
   "source": [
    "# upper, lower and substring functions\n",
    "df.select(upper('Name'), lower('Name'),substring('Name',0,3)).show(10)"
   ]
  },
  {
   "cell_type": "code",
   "execution_count": 13,
   "id": "066e2fd8",
   "metadata": {
    "execution": {
     "iopub.execute_input": "2024-05-22T10:18:30.706936Z",
     "iopub.status.busy": "2024-05-22T10:18:30.705632Z",
     "iopub.status.idle": "2024-05-22T10:18:31.548072Z",
     "shell.execute_reply": "2024-05-22T10:18:31.546839Z"
    },
    "papermill": {
     "duration": 0.863366,
     "end_time": "2024-05-22T10:18:31.551011",
     "exception": false,
     "start_time": "2024-05-22T10:18:30.687645",
     "status": "completed"
    },
    "tags": []
   },
   "outputs": [
    {
     "name": "stdout",
     "output_type": "stream",
     "text": [
      "+--------+\n",
      "|Survived|\n",
      "+--------+\n",
      "|       1|\n",
      "|       0|\n",
      "+--------+\n",
      "\n"
     ]
    }
   ],
   "source": [
    "# check unique values\n",
    "df.select('Survived').distinct().show()"
   ]
  },
  {
   "cell_type": "code",
   "execution_count": 14,
   "id": "bddf7bf7",
   "metadata": {
    "execution": {
     "iopub.execute_input": "2024-05-22T10:18:31.591453Z",
     "iopub.status.busy": "2024-05-22T10:18:31.591072Z",
     "iopub.status.idle": "2024-05-22T10:18:32.186135Z",
     "shell.execute_reply": "2024-05-22T10:18:32.184903Z"
    },
    "papermill": {
     "duration": 0.616647,
     "end_time": "2024-05-22T10:18:32.188941",
     "exception": false,
     "start_time": "2024-05-22T10:18:31.572294",
     "status": "completed"
    },
    "tags": []
   },
   "outputs": [
    {
     "data": {
      "text/plain": [
       "0.3838383838383838"
      ]
     },
     "execution_count": 14,
     "metadata": {},
     "output_type": "execute_result"
    }
   ],
   "source": [
    "# find percentage of survived\n",
    "survived = df.filter(col('Survived') == 1).count() / df.count()\n",
    "survived"
   ]
  },
  {
   "cell_type": "code",
   "execution_count": 15,
   "id": "d14ddf00",
   "metadata": {
    "execution": {
     "iopub.execute_input": "2024-05-22T10:18:32.226109Z",
     "iopub.status.busy": "2024-05-22T10:18:32.225681Z",
     "iopub.status.idle": "2024-05-22T10:18:32.966299Z",
     "shell.execute_reply": "2024-05-22T10:18:32.964838Z"
    },
    "papermill": {
     "duration": 0.762019,
     "end_time": "2024-05-22T10:18:32.969497",
     "exception": false,
     "start_time": "2024-05-22T10:18:32.207478",
     "status": "completed"
    },
    "tags": []
   },
   "outputs": [
    {
     "name": "stdout",
     "output_type": "stream",
     "text": [
      "+----+\n",
      "| Age|\n",
      "+----+\n",
      "|NULL|\n",
      "|24.0|\n",
      "|22.0|\n",
      "+----+\n",
      "only showing top 3 rows\n",
      "\n"
     ]
    }
   ],
   "source": [
    "#find the top 3 ages\n",
    "grouped_df = df.groupBy('Age').agg(count('PassengerId').alias('Passengers_count')).orderBy(col('Passengers_count').desc())\n",
    "grouped_df.select('Age').show(3)"
   ]
  },
  {
   "cell_type": "code",
   "execution_count": 16,
   "id": "04a00201",
   "metadata": {
    "execution": {
     "iopub.execute_input": "2024-05-22T10:18:33.026661Z",
     "iopub.status.busy": "2024-05-22T10:18:33.026060Z",
     "iopub.status.idle": "2024-05-22T10:18:33.285364Z",
     "shell.execute_reply": "2024-05-22T10:18:33.284237Z"
    },
    "papermill": {
     "duration": 0.29093,
     "end_time": "2024-05-22T10:18:33.287668",
     "exception": false,
     "start_time": "2024-05-22T10:18:32.996738",
     "status": "completed"
    },
    "tags": []
   },
   "outputs": [
    {
     "data": {
      "text/plain": [
       "[Row(PassengerId=1, Survived=0, Pclass=3, Name='Braund, Mr. Owen Harris', Sex='male', Age=22.0, SibSp=1, Parch=0, Ticket='A/5 21171', Fare=7.25, Cabin=None, Embarked='S', DateOfBirth=datetime.date(1890, 12, 15)),\n",
       " Row(PassengerId=2, Survived=1, Pclass=1, Name='Cumings, Mrs. John Bradley (Florence Briggs Thayer)', Sex='female', Age=38.0, SibSp=1, Parch=0, Ticket='PC 17599', Fare=71.2833023071289, Cabin='C85', Embarked='C', DateOfBirth=datetime.date(1874, 11, 15)),\n",
       " Row(PassengerId=3, Survived=1, Pclass=3, Name='Heikkinen, Miss. Laina', Sex='female', Age=26.0, SibSp=0, Parch=0, Ticket='STON/O2. 3101282', Fare=7.925000190734863, Cabin=None, Embarked='S', DateOfBirth=datetime.date(1886, 11, 18))]"
      ]
     },
     "execution_count": 16,
     "metadata": {},
     "output_type": "execute_result"
    }
   ],
   "source": [
    "#collecting rows\n",
    "df.take(3)"
   ]
  },
  {
   "cell_type": "code",
   "execution_count": 17,
   "id": "8b9b33cf",
   "metadata": {
    "execution": {
     "iopub.execute_input": "2024-05-22T10:18:33.389440Z",
     "iopub.status.busy": "2024-05-22T10:18:33.388671Z",
     "iopub.status.idle": "2024-05-22T10:18:33.754092Z",
     "shell.execute_reply": "2024-05-22T10:18:33.752867Z"
    },
    "papermill": {
     "duration": 0.451361,
     "end_time": "2024-05-22T10:18:33.757220",
     "exception": false,
     "start_time": "2024-05-22T10:18:33.305859",
     "status": "completed"
    },
    "tags": []
   },
   "outputs": [
    {
     "name": "stdout",
     "output_type": "stream",
     "text": [
      "+-----------+--------+------+--------------------+------+----+-----+-----+----------------+-------+-----+--------+-----------+-----------+\n",
      "|PassengerId|Survived|Pclass|                Name|   Sex| Age|SibSp|Parch|          Ticket|   Fare|Cabin|Embarked|DateOfBirth|not_married|\n",
      "+-----------+--------+------+--------------------+------+----+-----+-----+----------------+-------+-----+--------+-----------+-----------+\n",
      "|          1|       0|     3|Braund, Mr. Owen ...|  male|22.0|    1|    0|       A/5 21171|   7.25| NULL|       S| 1890-12-15|          0|\n",
      "|          2|       1|     1|Cumings, Mrs. Joh...|female|38.0|    1|    0|        PC 17599|71.2833|  C85|       C| 1874-11-15|          0|\n",
      "|          3|       1|     3|Heikkinen, Miss. ...|female|26.0|    0|    0|STON/O2. 3101282|  7.925| NULL|       S| 1886-11-18|          1|\n",
      "|          4|       1|     1|Futrelle, Mrs. Ja...|female|35.0|    1|    0|          113803|   53.1| C123|       S| 1877-09-24|          0|\n",
      "|          5|       0|     3|Allen, Mr. Willia...|  male|35.0|    0|    0|          373450|   8.05| NULL|       S| 1878-03-24|          0|\n",
      "+-----------+--------+------+--------------------+------+----+-----+-----+----------------+-------+-----+--------+-----------+-----------+\n",
      "only showing top 5 rows\n",
      "\n"
     ]
    }
   ],
   "source": [
    "# Create a new column 'not_married' with 1 if 'Name' contains 'miss' or 'Miss', and 0 otherwise\n",
    "df = df.withColumn(\n",
    "    'not_married',\n",
    "    when(col('Name').contains('miss') | col('Name').contains('Miss'), 1).otherwise(0)\n",
    ")\n",
    "df.show(5)"
   ]
  },
  {
   "cell_type": "code",
   "execution_count": 18,
   "id": "4d1bb58a",
   "metadata": {
    "execution": {
     "iopub.execute_input": "2024-05-22T10:18:33.814019Z",
     "iopub.status.busy": "2024-05-22T10:18:33.813475Z",
     "iopub.status.idle": "2024-05-22T10:18:34.087387Z",
     "shell.execute_reply": "2024-05-22T10:18:34.086293Z"
    },
    "papermill": {
     "duration": 0.305719,
     "end_time": "2024-05-22T10:18:34.090642",
     "exception": false,
     "start_time": "2024-05-22T10:18:33.784923",
     "status": "completed"
    },
    "tags": []
   },
   "outputs": [
    {
     "name": "stdout",
     "output_type": "stream",
     "text": [
      "+-----------+--------+------+--------------------+------+----+-----+-----+----------------+-------+-----+--------+-----------+-----------+---+\n",
      "|PassengerId|Survived|Pclass|                Name|   Sex| Age|SibSp|Parch|          Ticket|   Fare|Cabin|Embarked|DateOfBirth|not_married|one|\n",
      "+-----------+--------+------+--------------------+------+----+-----+-----+----------------+-------+-----+--------+-----------+-----------+---+\n",
      "|          1|       0|     3|Braund, Mr. Owen ...|  male|22.0|    1|    0|       A/5 21171|   7.25| NULL|       S| 1890-12-15|          0|  1|\n",
      "|          2|       1|     1|Cumings, Mrs. Joh...|female|38.0|    1|    0|        PC 17599|71.2833|  C85|       C| 1874-11-15|          0|  1|\n",
      "|          3|       1|     3|Heikkinen, Miss. ...|female|26.0|    0|    0|STON/O2. 3101282|  7.925| NULL|       S| 1886-11-18|          1|  1|\n",
      "|          4|       1|     1|Futrelle, Mrs. Ja...|female|35.0|    1|    0|          113803|   53.1| C123|       S| 1877-09-24|          0|  1|\n",
      "|          5|       0|     3|Allen, Mr. Willia...|  male|35.0|    0|    0|          373450|   8.05| NULL|       S| 1878-03-24|          0|  1|\n",
      "+-----------+--------+------+--------------------+------+----+-----+-----+----------------+-------+-----+--------+-----------+-----------+---+\n",
      "only showing top 5 rows\n",
      "\n"
     ]
    }
   ],
   "source": [
    "# Create a new column with a constant value\n",
    "df = df.withColumn(\n",
    "    'one',\n",
    "    lit(1))\n",
    "df.show(5)"
   ]
  },
  {
   "cell_type": "code",
   "execution_count": 19,
   "id": "7adeb802",
   "metadata": {
    "execution": {
     "iopub.execute_input": "2024-05-22T10:18:34.146375Z",
     "iopub.status.busy": "2024-05-22T10:18:34.145887Z",
     "iopub.status.idle": "2024-05-22T10:18:34.361674Z",
     "shell.execute_reply": "2024-05-22T10:18:34.360536Z"
    },
    "papermill": {
     "duration": 0.246813,
     "end_time": "2024-05-22T10:18:34.364389",
     "exception": false,
     "start_time": "2024-05-22T10:18:34.117576",
     "status": "completed"
    },
    "tags": []
   },
   "outputs": [
    {
     "data": {
      "text/plain": [
       "'Heikkinen, Miss. Laina'"
      ]
     },
     "execution_count": 19,
     "metadata": {},
     "output_type": "execute_result"
    }
   ],
   "source": [
    "# Select a specific row and column value\n",
    "value = df.filter(col('PassengerId') == 3).select('Name').collect()[0]['Name']\n",
    "value"
   ]
  },
  {
   "cell_type": "code",
   "execution_count": 20,
   "id": "1e519836",
   "metadata": {
    "execution": {
     "iopub.execute_input": "2024-05-22T10:18:34.423706Z",
     "iopub.status.busy": "2024-05-22T10:18:34.423193Z",
     "iopub.status.idle": "2024-05-22T10:18:34.630804Z",
     "shell.execute_reply": "2024-05-22T10:18:34.629650Z"
    },
    "papermill": {
     "duration": 0.240952,
     "end_time": "2024-05-22T10:18:34.634193",
     "exception": false,
     "start_time": "2024-05-22T10:18:34.393241",
     "status": "completed"
    },
    "tags": []
   },
   "outputs": [
    {
     "name": "stdout",
     "output_type": "stream",
     "text": [
      "+-----------+--------+------+--------------------+\n",
      "|PassengerId|Survived|Pclass|                Name|\n",
      "+-----------+--------+------+--------------------+\n",
      "|          1|       0|     3|Braund, Mr. Owen ...|\n",
      "|          2|       1|     1|Cumings, Mrs. Joh...|\n",
      "|          3|       1|     3|Heikkinen, Miss. ...|\n",
      "|          4|       1|     1|Futrelle, Mrs. Ja...|\n",
      "|          5|       0|     3|Allen, Mr. Willia...|\n",
      "+-----------+--------+------+--------------------+\n",
      "only showing top 5 rows\n",
      "\n"
     ]
    }
   ],
   "source": [
    "# Select columns by position\n",
    "df_selected = df.select(df.columns[0:4])\n",
    "df_selected.show(5)"
   ]
  },
  {
   "cell_type": "code",
   "execution_count": 21,
   "id": "8e477fad",
   "metadata": {
    "execution": {
     "iopub.execute_input": "2024-05-22T10:18:34.693548Z",
     "iopub.status.busy": "2024-05-22T10:18:34.693061Z",
     "iopub.status.idle": "2024-05-22T10:18:35.025050Z",
     "shell.execute_reply": "2024-05-22T10:18:35.023831Z"
    },
    "papermill": {
     "duration": 0.364657,
     "end_time": "2024-05-22T10:18:35.028043",
     "exception": false,
     "start_time": "2024-05-22T10:18:34.663386",
     "status": "completed"
    },
    "tags": []
   },
   "outputs": [
    {
     "data": {
      "text/plain": [
       "(891, 4)"
      ]
     },
     "execution_count": 21,
     "metadata": {},
     "output_type": "execute_result"
    }
   ],
   "source": [
    "#getting shape\n",
    "def get_shape(df):\n",
    "    num_rows = df.count()\n",
    "    num_cols = len(df.columns)\n",
    "    return (num_rows, num_cols)\n",
    "\n",
    "# Get the shape of the DataFrame\n",
    "shape = get_shape(df_selected)\n",
    "shape"
   ]
  },
  {
   "cell_type": "code",
   "execution_count": 22,
   "id": "0ef1e551",
   "metadata": {
    "execution": {
     "iopub.execute_input": "2024-05-22T10:18:35.086968Z",
     "iopub.status.busy": "2024-05-22T10:18:35.086417Z",
     "iopub.status.idle": "2024-05-22T10:18:38.099972Z",
     "shell.execute_reply": "2024-05-22T10:18:38.098788Z"
    },
    "papermill": {
     "duration": 3.048179,
     "end_time": "2024-05-22T10:18:38.103601",
     "exception": false,
     "start_time": "2024-05-22T10:18:35.055422",
     "status": "completed"
    },
    "tags": []
   },
   "outputs": [
    {
     "name": "stderr",
     "output_type": "stream",
     "text": [
      "                                                                                \r"
     ]
    },
    {
     "name": "stdout",
     "output_type": "stream",
     "text": [
      "+-----------+--------+------+--------------------+\n",
      "|PassengerId|Survived|Pclass|                Name|\n",
      "+-----------+--------+------+--------------------+\n",
      "|       1000|       1|     3|                  JJ|\n",
      "|        891|       0|     3| Dooley, Mr. Patrick|\n",
      "|        890|       1|     1|Behr, Mr. Karl Ho...|\n",
      "|        889|       0|     3|\"Johnston, Miss. ...|\n",
      "|        888|       1|     1|Graham, Miss. Mar...|\n",
      "+-----------+--------+------+--------------------+\n",
      "only showing top 5 rows\n",
      "\n"
     ]
    }
   ],
   "source": [
    "# Concatenate DataFrames: add a new row\n",
    "new_row = spark.createDataFrame([Row(PassengerId=1000, Survived=1, Pclass=3, Name='JJ')])\n",
    "df_new = new_row.union(df_selected)\n",
    "df_new.orderBy(\"PassengerId\", ascending=False).show(5)\n"
   ]
  },
  {
   "cell_type": "code",
   "execution_count": 23,
   "id": "d35e4fcb",
   "metadata": {
    "execution": {
     "iopub.execute_input": "2024-05-22T10:18:38.164517Z",
     "iopub.status.busy": "2024-05-22T10:18:38.163588Z",
     "iopub.status.idle": "2024-05-22T10:18:38.487093Z",
     "shell.execute_reply": "2024-05-22T10:18:38.485826Z"
    },
    "papermill": {
     "duration": 0.357662,
     "end_time": "2024-05-22T10:18:38.490704",
     "exception": false,
     "start_time": "2024-05-22T10:18:38.133042",
     "status": "completed"
    },
    "tags": []
   },
   "outputs": [
    {
     "name": "stdout",
     "output_type": "stream",
     "text": [
      "+-----------+--------+------+--------------------+------+----+-----+-----+--------+-------+-----+--------+-----------+-----------+---+\n",
      "|PassengerId|Survived|Pclass|                Name|   Sex| Age|SibSp|Parch|  Ticket|   Fare|Cabin|Embarked|DateOfBirth|not_married|one|\n",
      "+-----------+--------+------+--------------------+------+----+-----+-----+--------+-------+-----+--------+-----------+-----------+---+\n",
      "|         53|       1|     1|Harper, Mrs. Henr...|female|49.0|    1|    0|PC 17572|76.7292|  D33|       C| 1863-07-07|          0|  1|\n",
      "|        137|       1|     1|Newsom, Miss. Hel...|female|19.0|    0|    2|   11752|26.2833|  D47|       S| 1893-10-18|          1|  1|\n",
      "|         56|       1|     1|   Woolner, Mr. Hugh|  male|NULL|    0|    0|   19947|   35.5|  C52|       S|       NULL|          0|  1|\n",
      "|          4|       1|     1|Futrelle, Mrs. Ja...|female|35.0|    1|    0|  113803|   53.1| C123|       S| 1877-09-24|          0|  1|\n",
      "|         62|       1|     1| Icard, Miss. Amelie|female|38.0|    0|    0|  113572|   80.0|  B28|    NULL| 1874-11-25|          1|  1|\n",
      "+-----------+--------+------+--------------------+------+----+-----+-----+--------+-------+-----+--------+-----------+-----------+---+\n",
      "only showing top 5 rows\n",
      "\n"
     ]
    }
   ],
   "source": [
    "# Sort values\n",
    "df = df.orderBy(col('Pclass').asc(), col('Survived').desc())\n",
    "df.show(5)"
   ]
  },
  {
   "cell_type": "code",
   "execution_count": 24,
   "id": "4c1bb583",
   "metadata": {
    "execution": {
     "iopub.execute_input": "2024-05-22T10:18:38.541988Z",
     "iopub.status.busy": "2024-05-22T10:18:38.541528Z",
     "iopub.status.idle": "2024-05-22T10:18:38.554046Z",
     "shell.execute_reply": "2024-05-22T10:18:38.552867Z"
    },
    "papermill": {
     "duration": 0.036615,
     "end_time": "2024-05-22T10:18:38.556584",
     "exception": false,
     "start_time": "2024-05-22T10:18:38.519969",
     "status": "completed"
    },
    "tags": []
   },
   "outputs": [],
   "source": [
    "# Drop duplicates\n",
    "df = df.dropDuplicates(['PassengerId'])"
   ]
  },
  {
   "cell_type": "code",
   "execution_count": 25,
   "id": "76e11c44",
   "metadata": {
    "execution": {
     "iopub.execute_input": "2024-05-22T10:18:38.596538Z",
     "iopub.status.busy": "2024-05-22T10:18:38.595152Z",
     "iopub.status.idle": "2024-05-22T10:18:39.951223Z",
     "shell.execute_reply": "2024-05-22T10:18:39.950034Z"
    },
    "papermill": {
     "duration": 1.37956,
     "end_time": "2024-05-22T10:18:39.954705",
     "exception": false,
     "start_time": "2024-05-22T10:18:38.575145",
     "status": "completed"
    },
    "tags": []
   },
   "outputs": [
    {
     "name": "stdout",
     "output_type": "stream",
     "text": [
      "+-----------+--------+------+------+----+-----+-----+-------+-----+--------+-----------+-----------+---+\n",
      "|PassengerId|Survived|Pclass|   Sex| Age|SibSp|Parch|   Fare|Cabin|Embarked|DateOfBirth|not_married|one|\n",
      "+-----------+--------+------+------+----+-----+-----+-------+-----+--------+-----------+-----------+---+\n",
      "|          1|       0|     3|  male|22.0|    1|    0|   7.25| NULL|       S| 1890-12-15|          0|  1|\n",
      "|          2|       1|     1|female|38.0|    1|    0|71.2833|  C85|       C| 1874-11-15|          0|  1|\n",
      "|          3|       1|     3|female|26.0|    0|    0|  7.925| NULL|       S| 1886-11-18|          1|  1|\n",
      "|          4|       1|     1|female|35.0|    1|    0|   53.1| C123|       S| 1877-09-24|          0|  1|\n",
      "|          5|       0|     3|  male|35.0|    0|    0|   8.05| NULL|       S| 1878-03-24|          0|  1|\n",
      "+-----------+--------+------+------+----+-----+-----+-------+-----+--------+-----------+-----------+---+\n",
      "only showing top 5 rows\n",
      "\n"
     ]
    }
   ],
   "source": [
    "# Drop columns\n",
    "# Remove columns 'a' and 'b'\n",
    "df = df.drop('Name', 'Ticket')\n",
    "df.show(5)"
   ]
  },
  {
   "cell_type": "code",
   "execution_count": 26,
   "id": "90d6a6ed",
   "metadata": {
    "execution": {
     "iopub.execute_input": "2024-05-22T10:18:40.013389Z",
     "iopub.status.busy": "2024-05-22T10:18:40.012744Z",
     "iopub.status.idle": "2024-05-22T10:18:40.659324Z",
     "shell.execute_reply": "2024-05-22T10:18:40.658183Z"
    },
    "papermill": {
     "duration": 0.679629,
     "end_time": "2024-05-22T10:18:40.662558",
     "exception": false,
     "start_time": "2024-05-22T10:18:39.982929",
     "status": "completed"
    },
    "tags": []
   },
   "outputs": [
    {
     "name": "stdout",
     "output_type": "stream",
     "text": [
      "+-----------+--------+-----+------+----+-----+-----+-------+-----+--------+-----------+-----------+---+\n",
      "|PassengerId|Survived|Class|   Sex| Age|SibSp|Parch|   Fare|Cabin|Embarked|DateOfBirth|not_married|one|\n",
      "+-----------+--------+-----+------+----+-----+-----+-------+-----+--------+-----------+-----------+---+\n",
      "|          1|       0|    3|  male|22.0|    1|    0|   7.25| NULL|       S| 1890-12-15|          0|  1|\n",
      "|          2|       1|    1|female|38.0|    1|    0|71.2833|  C85|       C| 1874-11-15|          0|  1|\n",
      "|          3|       1|    3|female|26.0|    0|    0|  7.925| NULL|       S| 1886-11-18|          1|  1|\n",
      "|          4|       1|    1|female|35.0|    1|    0|   53.1| C123|       S| 1877-09-24|          0|  1|\n",
      "|          5|       0|    3|  male|35.0|    0|    0|   8.05| NULL|       S| 1878-03-24|          0|  1|\n",
      "+-----------+--------+-----+------+----+-----+-----+-------+-----+--------+-----------+-----------+---+\n",
      "only showing top 5 rows\n",
      "\n"
     ]
    }
   ],
   "source": [
    "# Rename columns\n",
    "df = df.withColumnRenamed('Pclass', 'Class')\n",
    "df.show(5)"
   ]
  },
  {
   "cell_type": "code",
   "execution_count": 27,
   "id": "a1730265",
   "metadata": {
    "execution": {
     "iopub.execute_input": "2024-05-22T10:18:40.724488Z",
     "iopub.status.busy": "2024-05-22T10:18:40.724133Z",
     "iopub.status.idle": "2024-05-22T10:18:41.670686Z",
     "shell.execute_reply": "2024-05-22T10:18:41.669651Z"
    },
    "papermill": {
     "duration": 0.987373,
     "end_time": "2024-05-22T10:18:41.680209",
     "exception": false,
     "start_time": "2024-05-22T10:18:40.692836",
     "status": "completed"
    },
    "tags": []
   },
   "outputs": [
    {
     "name": "stdout",
     "output_type": "stream",
     "text": [
      "+------+-----+--------+----------------+\n",
      "|   Sex|Class|Survived|Passengers_count|\n",
      "+------+-----+--------+----------------+\n",
      "|female|    1|       0|               3|\n",
      "|female|    2|       0|               6|\n",
      "|  male|    2|       0|              91|\n",
      "|  male|    1|       0|              77|\n",
      "|  male|    3|       0|             300|\n",
      "|female|    3|       0|              72|\n",
      "|  male|    2|       1|              17|\n",
      "|female|    2|       1|              70|\n",
      "|  male|    1|       1|              45|\n",
      "|female|    1|       1|              91|\n",
      "|  male|    3|       1|              47|\n",
      "|female|    3|       1|              72|\n",
      "+------+-----+--------+----------------+\n",
      "\n"
     ]
    }
   ],
   "source": [
    "# Group and aggregate\n",
    "grouped_df = df.groupBy('Sex', 'Class','Survived').agg(count('PassengerId').alias('Passengers_count'))\n",
    "grouped_df.show(50)"
   ]
  },
  {
   "cell_type": "code",
   "execution_count": 28,
   "id": "dfd87461",
   "metadata": {
    "execution": {
     "iopub.execute_input": "2024-05-22T10:18:41.741206Z",
     "iopub.status.busy": "2024-05-22T10:18:41.740638Z",
     "iopub.status.idle": "2024-05-22T10:18:46.884998Z",
     "shell.execute_reply": "2024-05-22T10:18:46.883864Z"
    },
    "papermill": {
     "duration": 5.178874,
     "end_time": "2024-05-22T10:18:46.888614",
     "exception": false,
     "start_time": "2024-05-22T10:18:41.709740",
     "status": "completed"
    },
    "tags": []
   },
   "outputs": [
    {
     "name": "stdout",
     "output_type": "stream",
     "text": [
      "Column 'PassengerId': 0 null values\n",
      "Column 'Survived': 0 null values\n",
      "Column 'Class': 0 null values\n",
      "Column 'Sex': 0 null values\n",
      "Column 'Age': 177 null values\n",
      "Column 'SibSp': 0 null values\n",
      "Column 'Parch': 0 null values\n",
      "Column 'Fare': 0 null values\n",
      "Column 'Cabin': 687 null values\n",
      "Column 'Embarked': 2 null values\n",
      "Column 'DateOfBirth': 177 null values\n",
      "Column 'not_married': 0 null values\n",
      "Column 'one': 0 null values\n"
     ]
    }
   ],
   "source": [
    "#check nulls\n",
    "# Initialize an empty dictionary to store the counts\n",
    "null_counts = {}\n",
    "\n",
    "# Iterate over each column in the DataFrame\n",
    "for col_name in df.columns:\n",
    "    # Count the number of null values in the column\n",
    "    null_count = df.filter(col(col_name).isNull()).count()\n",
    "    # Store the count in the dictionary\n",
    "    null_counts[col_name] = null_count\n",
    "\n",
    "# Print the null counts for each column\n",
    "for col_name, count in null_counts.items():\n",
    "    print(f\"Column '{col_name}': {count} null values\")"
   ]
  },
  {
   "cell_type": "code",
   "execution_count": 29,
   "id": "345b07a4",
   "metadata": {
    "execution": {
     "iopub.execute_input": "2024-05-22T10:18:46.950790Z",
     "iopub.status.busy": "2024-05-22T10:18:46.950310Z",
     "iopub.status.idle": "2024-05-22T10:18:47.396893Z",
     "shell.execute_reply": "2024-05-22T10:18:47.395808Z"
    },
    "papermill": {
     "duration": 0.480612,
     "end_time": "2024-05-22T10:18:47.399665",
     "exception": false,
     "start_time": "2024-05-22T10:18:46.919053",
     "status": "completed"
    },
    "tags": []
   },
   "outputs": [
    {
     "name": "stdout",
     "output_type": "stream",
     "text": [
      "29.69911764704046\n"
     ]
    }
   ],
   "source": [
    "mean_value = df.select(mean(col('Age'))).collect()[0][0]\n",
    "print(mean_value)\n",
    "# Replace null values with the mean value\n",
    "df = df.withColumn('Age', when(col('Age').isNull(), mean_value).otherwise(col('Age')))"
   ]
  },
  {
   "cell_type": "code",
   "execution_count": 30,
   "id": "265e92fa",
   "metadata": {
    "execution": {
     "iopub.execute_input": "2024-05-22T10:18:47.461854Z",
     "iopub.status.busy": "2024-05-22T10:18:47.460936Z",
     "iopub.status.idle": "2024-05-22T10:18:48.358218Z",
     "shell.execute_reply": "2024-05-22T10:18:48.357283Z"
    },
    "papermill": {
     "duration": 0.9327,
     "end_time": "2024-05-22T10:18:48.362428",
     "exception": false,
     "start_time": "2024-05-22T10:18:47.429728",
     "status": "completed"
    },
    "tags": []
   },
   "outputs": [
    {
     "name": "stdout",
     "output_type": "stream",
     "text": [
      "+-----------+--------+-----+------+---+-----+-----+--------+-------+--------+-----------+-----------+---+----+\n",
      "|PassengerId|Survived|Class|   Sex|Age|SibSp|Parch|    Fare|  Cabin|Embarked|DateOfBirth|not_married|one|rank|\n",
      "+-----------+--------+-----+------+---+-----+-----+--------+-------+--------+-----------+-----------+---+----+\n",
      "|        470|       1|    3|female|  0|    2|    1| 19.2583|   NULL|       C| 1911-12-11|          1|  1|   1|\n",
      "|        645|       1|    3|female|  0|    2|    1| 19.2583|   NULL|       C| 1912-06-17|          1|  1|   1|\n",
      "|        173|       1|    3|female|  1|    1|    1| 11.1333|   NULL|       S| 1912-04-11|          1|  1|   3|\n",
      "|        382|       1|    3|female|  1|    0|    2| 15.7417|   NULL|       C| 1912-03-18|          1|  1|   3|\n",
      "|        120|       0|    3|female|  2|    4|    2|  31.275|   NULL|       S| 1910-08-08|          1|  1|   5|\n",
      "|        206|       0|    3|female|  2|    0|    1| 10.4625|     G6|       S| 1910-12-10|          1|  1|   5|\n",
      "|        298|       0|    1|female|  2|    1|    2|  151.55|C22 C26|       S| 1910-10-11|          1|  1|   5|\n",
      "|        480|       1|    3|female|  2|    0|    1| 12.2875|   NULL|       S| 1910-05-21|          1|  1|   5|\n",
      "|        531|       1|    2|female|  2|    1|    1|    26.0|   NULL|       S| 1910-07-14|          1|  1|   5|\n",
      "|        643|       0|    3|female|  2|    3|    2|    27.9|   NULL|       S| 1910-08-26|          1|  1|   5|\n",
      "|         44|       1|    2|female|  3|    1|    2| 41.5792|   NULL|       C| 1910-04-06|          1|  1|  11|\n",
      "|        375|       0|    3|female|  3|    3|    1|  21.075|   NULL|       S| 1909-10-27|          1|  1|  11|\n",
      "|         11|       1|    3|female|  4|    1|    1|    16.7|     G6|       S| 1908-11-23|          1|  1|  13|\n",
      "|        185|       1|    3|female|  4|    0|    2|  22.025|   NULL|       S| 1908-06-02|          1|  1|  13|\n",
      "|        619|       1|    2|female|  4|    2|    1|    39.0|     F4|       S| 1908-07-27|          1|  1|  13|\n",
      "|        692|       1|    3|female|  4|    0|    1| 13.4167|   NULL|       C| 1908-06-22|          1|  1|  13|\n",
      "|        751|       1|    2|female|  4|    1|    1|    23.0|   NULL|       S| 1908-06-19|          1|  1|  13|\n",
      "|         59|       1|    2|female|  5|    1|    2|   27.75|   NULL|       S| 1907-11-26|          1|  1|  18|\n",
      "|        234|       1|    3|female|  5|    4|    2| 31.3875|   NULL|       S| 1907-07-05|          1|  1|  18|\n",
      "|        449|       1|    3|female|  5|    2|    1| 19.2583|   NULL|       C| 1908-01-15|          1|  1|  18|\n",
      "|        778|       1|    3|female|  5|    0|    0|  12.475|   NULL|       S| 1907-09-02|          1|  1|  18|\n",
      "|        721|       1|    2|female|  6|    0|    1|    33.0|   NULL|       S| 1906-09-29|          1|  1|  22|\n",
      "|        814|       0|    3|female|  6|    4|    2|  31.275|   NULL|       S| 1906-12-07|          1|  1|  22|\n",
      "|        536|       1|    2|female|  7|    0|    2|   26.25|   NULL|       S| 1905-09-27|          1|  1|  24|\n",
      "|         25|       0|    3|female|  8|    3|    1|  21.075|   NULL|       S| 1904-04-17|          1|  1|  25|\n",
      "|        238|       1|    2|female|  8|    0|    2|   26.25|   NULL|       S| 1904-11-14|          1|  1|  25|\n",
      "|        148|       0|    3|female|  9|    2|    2|  34.375|   NULL|       S| 1903-07-14|          1|  1|  27|\n",
      "|        542|       0|    3|female|  9|    4|    2|  31.275|   NULL|       S| 1903-09-16|          1|  1|  27|\n",
      "|        635|       0|    3|female|  9|    3|    2|    27.9|   NULL|       S| 1903-05-25|          1|  1|  27|\n",
      "|        853|       0|    3|female|  9|    1|    1| 15.2458|   NULL|       C| 1904-02-08|          1|  1|  27|\n",
      "|        420|       0|    3|female| 10|    0|    2|   24.15|   NULL|       S| 1903-04-03|          1|  1|  31|\n",
      "|        543|       0|    3|female| 11|    4|    2|  31.275|   NULL|       S| 1901-09-18|          1|  1|  32|\n",
      "|        447|       1|    2|female| 13|    0|    1|    19.5|   NULL|       S| 1899-08-08|          1|  1|  33|\n",
      "|        781|       1|    3|female| 13|    0|    0|  7.2292|   NULL|       C| 1900-01-26|          1|  1|  33|\n",
      "|         10|       1|    2|female| 14|    1|    0| 30.0708|   NULL|       C| 1898-05-23|          0|  1|  35|\n",
      "|         15|       0|    3|female| 14|    0|    0|  7.8542|   NULL|       S| 1898-12-10|          1|  1|  35|\n",
      "|         40|       1|    3|female| 14|    1|    0| 11.2417|   NULL|       C| 1899-01-16|          1|  1|  35|\n",
      "|        112|       0|    3|female| 14|    1|    0| 14.4542|   NULL|       C| 1898-06-21|          1|  1|  35|\n",
      "|        436|       1|    1|female| 14|    1|    2|   120.0|B96 B98|       S| 1899-03-26|          1|  1|  35|\n",
      "|         23|       1|    3|female| 15|    0|    0|  8.0292|   NULL|       Q| 1897-07-09|          1|  1|  40|\n",
      "|        690|       1|    1|female| 15|    0|    1|211.3375|     B5|       S| 1897-04-24|          1|  1|  40|\n",
      "|        831|       1|    3|female| 15|    1|    0| 14.4542|   NULL|       C| 1897-11-29|          0|  1|  40|\n",
      "|        876|       1|    3|female| 15|    0|    0|   7.225|   NULL|       C| 1897-06-10|          1|  1|  40|\n",
      "|         72|       0|    3|female| 16|    5|    2|    46.9|   NULL|       S| 1896-04-21|          1|  1|  44|\n",
      "|        157|       1|    3|female| 16|    0|    0|  7.7333|   NULL|       Q| 1897-02-27|          1|  1|  44|\n",
      "|        209|       1|    3|female| 16|    0|    0|    7.75|   NULL|       Q| 1897-03-26|          1|  1|  44|\n",
      "|        330|       1|    1|female| 16|    0|    1| 57.9792|    B18|       C| 1896-05-17|          1|  1|  44|\n",
      "|        505|       1|    1|female| 16|    0|    0|    86.5|    B79|       S| 1897-03-24|          1|  1|  44|\n",
      "|        854|       1|    1|female| 16|    0|    1|    39.4|    D28|       S| 1897-02-20|          1|  1|  44|\n",
      "|         69|       1|    3|female| 17|    4|    2|   7.925|   NULL|       S| 1895-12-09|          1|  1|  50|\n",
      "+-----------+--------+-----+------+---+-----+-----+--------+-------+--------+-----------+-----------+---+----+\n",
      "only showing top 50 rows\n",
      "\n"
     ]
    }
   ],
   "source": [
    "# Calculate ranks with partitions\n",
    "from pyspark.sql.window import Window\n",
    "from pyspark.sql.functions import rank\n",
    "df = df.withColumn('Age', col('Age').cast('integer'))\n",
    "windowSpec = Window.partitionBy(\"Sex\").orderBy(col('Age').asc())\n",
    "df = df.withColumn('rank', rank().over(windowSpec))\n",
    "df.show(50)"
   ]
  },
  {
   "cell_type": "code",
   "execution_count": 31,
   "id": "2ac3a19a",
   "metadata": {
    "execution": {
     "iopub.execute_input": "2024-05-22T10:18:48.427203Z",
     "iopub.status.busy": "2024-05-22T10:18:48.426318Z",
     "iopub.status.idle": "2024-05-22T10:18:49.231191Z",
     "shell.execute_reply": "2024-05-22T10:18:49.230112Z"
    },
    "papermill": {
     "duration": 0.840445,
     "end_time": "2024-05-22T10:18:49.234267",
     "exception": false,
     "start_time": "2024-05-22T10:18:48.393822",
     "status": "completed"
    },
    "tags": []
   },
   "outputs": [
    {
     "name": "stdout",
     "output_type": "stream",
     "text": [
      "+-----------+--------+-----+----+---+-----+-----+-------+-----+--------+-----------+-----------+---+----+---------+\n",
      "|PassengerId|Survived|Class| Sex|Age|SibSp|Parch|   Fare|Cabin|Embarked|DateOfBirth|not_married|one|rank| age_rank|\n",
      "+-----------+--------+-----+----+---+-----+-----+-------+-----+--------+-----------+-----------+---+----+---------+\n",
      "|        631|       1|    1|male| 80|    0|    0|   30.0|  A23|       S| 1833-01-15|          0|  1| 577|not_child|\n",
      "|        852|       0|    3|male| 74|    0|    0|  7.775| NULL|       S| 1838-08-01|          0|  1| 576|not_child|\n",
      "|         97|       0|    1|male| 71|    0|    0|34.6542|   A5|       C| 1842-03-18|          0|  1| 574|not_child|\n",
      "|        494|       0|    1|male| 71|    0|    0|49.5042| NULL|       C| 1841-11-22|          0|  1| 574|not_child|\n",
      "|        117|       0|    3|male| 70|    0|    0|   7.75| NULL|       Q| 1842-01-15|          0|  1| 571|not_child|\n",
      "|        673|       0|    2|male| 70|    0|    0|   10.5| NULL|       S| 1843-01-18|          0|  1| 571|not_child|\n",
      "|        746|       0|    1|male| 70|    1|    1|   71.0|  B22|       S| 1843-02-01|          0|  1| 571|not_child|\n",
      "|         34|       0|    2|male| 66|    0|    0|   10.5| NULL|       S| 1846-08-07|          0|  1| 570|not_child|\n",
      "|        457|       0|    1|male| 65|    0|    0|  26.55|  E38|       S| 1847-08-14|          0|  1| 567|not_child|\n",
      "|         55|       0|    1|male| 65|    0|    1|61.9792|  B30|       C| 1848-01-23|          0|  1| 567|not_child|\n",
      "+-----------+--------+-----+----+---+-----+-----+-------+-----+--------+-----------+-----------+---+----+---------+\n",
      "only showing top 10 rows\n",
      "\n"
     ]
    }
   ],
   "source": [
    "# Apply a condition\n",
    "df = df.withColumn('age_rank', when(col('Age') < 12, 'child').otherwise('not_child'))\n",
    "df.orderBy(col('Age').desc()).show(10)"
   ]
  },
  {
   "cell_type": "code",
   "execution_count": 32,
   "id": "a0dcf0e4",
   "metadata": {
    "execution": {
     "iopub.execute_input": "2024-05-22T10:18:49.282119Z",
     "iopub.status.busy": "2024-05-22T10:18:49.281596Z",
     "iopub.status.idle": "2024-05-22T10:18:50.824104Z",
     "shell.execute_reply": "2024-05-22T10:18:50.823054Z"
    },
    "papermill": {
     "duration": 1.566466,
     "end_time": "2024-05-22T10:18:50.827184",
     "exception": false,
     "start_time": "2024-05-22T10:18:49.260718",
     "status": "completed"
    },
    "tags": []
   },
   "outputs": [
    {
     "name": "stdout",
     "output_type": "stream",
     "text": [
      "+-----+------+----+\n",
      "|Class|female|male|\n",
      "+-----+------+----+\n",
      "|    1|    91|  45|\n",
      "|    3|    72|  47|\n",
      "|    2|    70|  17|\n",
      "+-----+------+----+\n",
      "\n"
     ]
    }
   ],
   "source": [
    "# Create a pivot table\n",
    "pivot_df = df.groupBy('Class').pivot('Sex').agg(sum('Survived'))\n",
    "pivot_df.show(5)"
   ]
  },
  {
   "cell_type": "markdown",
   "id": "cbe68074",
   "metadata": {
    "papermill": {
     "duration": 0.01945,
     "end_time": "2024-05-22T10:18:50.873925",
     "exception": false,
     "start_time": "2024-05-22T10:18:50.854475",
     "status": "completed"
    },
    "tags": []
   },
   "source": [
    "## Joins"
   ]
  },
  {
   "cell_type": "code",
   "execution_count": 33,
   "id": "17dc904c",
   "metadata": {
    "execution": {
     "iopub.execute_input": "2024-05-22T10:18:50.913785Z",
     "iopub.status.busy": "2024-05-22T10:18:50.913418Z",
     "iopub.status.idle": "2024-05-22T10:18:50.917306Z",
     "shell.execute_reply": "2024-05-22T10:18:50.916514Z"
    },
    "papermill": {
     "duration": 0.025634,
     "end_time": "2024-05-22T10:18:50.919069",
     "exception": false,
     "start_time": "2024-05-22T10:18:50.893435",
     "status": "completed"
    },
    "tags": []
   },
   "outputs": [],
   "source": [
    "# pyspark syntax for joins\n"
   ]
  },
  {
   "cell_type": "markdown",
   "id": "e95de93a",
   "metadata": {
    "papermill": {
     "duration": 0.018564,
     "end_time": "2024-05-22T10:18:50.957370",
     "exception": false,
     "start_time": "2024-05-22T10:18:50.938806",
     "status": "completed"
    },
    "tags": []
   },
   "source": [
    "## Dates formatting"
   ]
  },
  {
   "cell_type": "code",
   "execution_count": 34,
   "id": "b539ef37",
   "metadata": {
    "execution": {
     "iopub.execute_input": "2024-05-22T10:18:50.997378Z",
     "iopub.status.busy": "2024-05-22T10:18:50.996989Z",
     "iopub.status.idle": "2024-05-22T10:18:51.554639Z",
     "shell.execute_reply": "2024-05-22T10:18:51.553595Z"
    },
    "papermill": {
     "duration": 0.581166,
     "end_time": "2024-05-22T10:18:51.557500",
     "exception": false,
     "start_time": "2024-05-22T10:18:50.976334",
     "status": "completed"
    },
    "tags": []
   },
   "outputs": [
    {
     "name": "stdout",
     "output_type": "stream",
     "text": [
      "+-------------------+\n",
      "|          Christmas|\n",
      "+-------------------+\n",
      "|2019-12-25 13:30:00|\n",
      "+-------------------+\n",
      "\n"
     ]
    }
   ],
   "source": [
    "# working with dates\n",
    "\n",
    "# Define data\n",
    "data = [('2019-12-25 13:30:00',)]\n",
    "columns = ['Christmas']\n",
    "\n",
    "# Create DataFrame directly from data\n",
    "df_dates = spark.createDataFrame(data, columns)\n",
    "df_dates.show()"
   ]
  },
  {
   "cell_type": "code",
   "execution_count": 35,
   "id": "c1537124",
   "metadata": {
    "execution": {
     "iopub.execute_input": "2024-05-22T10:18:51.622569Z",
     "iopub.status.busy": "2024-05-22T10:18:51.621207Z",
     "iopub.status.idle": "2024-05-22T10:18:52.144301Z",
     "shell.execute_reply": "2024-05-22T10:18:52.143126Z"
    },
    "papermill": {
     "duration": 0.55349,
     "end_time": "2024-05-22T10:18:52.147270",
     "exception": false,
     "start_time": "2024-05-22T10:18:51.593780",
     "status": "completed"
    },
    "tags": []
   },
   "outputs": [
    {
     "name": "stdout",
     "output_type": "stream",
     "text": [
      "+-------------------+----------+-------------------+\n",
      "|          Christmas|      date|         time_stamp|\n",
      "+-------------------+----------+-------------------+\n",
      "|2019-12-25 13:30:00|2019-12-25|2019-12-25 13:30:00|\n",
      "+-------------------+----------+-------------------+\n",
      "\n"
     ]
    }
   ],
   "source": [
    "df_dates=df_dates.withColumn('date',to_date(col('Christmas'),'yyyy-MM-dd HH:mm:ss'))\n",
    "df_dates=df_dates.withColumn('time_stamp',to_timestamp(col('Christmas'),'yyyy-MM-dd HH:mm:ss'))\n",
    "df_dates.show()"
   ]
  },
  {
   "cell_type": "code",
   "execution_count": 36,
   "id": "d138790b",
   "metadata": {
    "execution": {
     "iopub.execute_input": "2024-05-22T10:18:52.197078Z",
     "iopub.status.busy": "2024-05-22T10:18:52.196698Z",
     "iopub.status.idle": "2024-05-22T10:18:52.667400Z",
     "shell.execute_reply": "2024-05-22T10:18:52.666141Z"
    },
    "papermill": {
     "duration": 0.495409,
     "end_time": "2024-05-22T10:18:52.670626",
     "exception": false,
     "start_time": "2024-05-22T10:18:52.175217",
     "status": "completed"
    },
    "tags": []
   },
   "outputs": [
    {
     "name": "stdout",
     "output_type": "stream",
     "text": [
      "+--------------------+\n",
      "|           Christmas|\n",
      "+--------------------+\n",
      "|25/Dec/2019 13:30:00|\n",
      "+--------------------+\n",
      "\n"
     ]
    }
   ],
   "source": [
    "# Define data\n",
    "data = [('25/Dec/2019 13:30:00',)]\n",
    "columns = ['Christmas']\n",
    "\n",
    "# Create DataFrame directly from data\n",
    "df_dates = spark.createDataFrame(data, columns)\n",
    "df_dates.show()"
   ]
  },
  {
   "cell_type": "code",
   "execution_count": 37,
   "id": "7a5fcf1e",
   "metadata": {
    "execution": {
     "iopub.execute_input": "2024-05-22T10:18:52.719852Z",
     "iopub.status.busy": "2024-05-22T10:18:52.719485Z",
     "iopub.status.idle": "2024-05-22T10:18:53.357712Z",
     "shell.execute_reply": "2024-05-22T10:18:53.356285Z"
    },
    "papermill": {
     "duration": 0.661987,
     "end_time": "2024-05-22T10:18:53.361129",
     "exception": false,
     "start_time": "2024-05-22T10:18:52.699142",
     "status": "completed"
    },
    "tags": []
   },
   "outputs": [
    {
     "name": "stdout",
     "output_type": "stream",
     "text": [
      "+--------------------+----------+-------------------+\n",
      "|           Christmas|      date|         time_stamp|\n",
      "+--------------------+----------+-------------------+\n",
      "|25/Dec/2019 13:30:00|2019-12-25|2019-12-25 13:30:00|\n",
      "+--------------------+----------+-------------------+\n",
      "\n"
     ]
    }
   ],
   "source": [
    "df_dates=df_dates.withColumn('date',to_date(col('Christmas'),'dd/MMM/yyyy HH:mm:ss'))\n",
    "df_dates=df_dates.withColumn('time_stamp',to_timestamp(col('Christmas'),'dd/MMM/yyyy HH:mm:ss'))\n",
    "df_dates.show()"
   ]
  },
  {
   "cell_type": "code",
   "execution_count": 38,
   "id": "31c5b71b",
   "metadata": {
    "execution": {
     "iopub.execute_input": "2024-05-22T10:18:53.410492Z",
     "iopub.status.busy": "2024-05-22T10:18:53.409980Z",
     "iopub.status.idle": "2024-05-22T10:18:53.880450Z",
     "shell.execute_reply": "2024-05-22T10:18:53.879051Z"
    },
    "papermill": {
     "duration": 0.493522,
     "end_time": "2024-05-22T10:18:53.883302",
     "exception": false,
     "start_time": "2024-05-22T10:18:53.389780",
     "status": "completed"
    },
    "tags": []
   },
   "outputs": [
    {
     "name": "stdout",
     "output_type": "stream",
     "text": [
      "+----------------------+\n",
      "|Christmas             |\n",
      "+----------------------+\n",
      "|12/25/2019 01:30:00 PM|\n",
      "+----------------------+\n",
      "\n"
     ]
    }
   ],
   "source": [
    "# Define data\n",
    "data = [('12/25/2019 01:30:00 PM',)]\n",
    "columns = ['Christmas']\n",
    "\n",
    "# Create DataFrame directly from data\n",
    "df_dates = spark.createDataFrame(data, columns)\n",
    "df_dates.show(1, truncate=False)"
   ]
  },
  {
   "cell_type": "code",
   "execution_count": 39,
   "id": "9bac0f31",
   "metadata": {
    "execution": {
     "iopub.execute_input": "2024-05-22T10:18:53.930472Z",
     "iopub.status.busy": "2024-05-22T10:18:53.930100Z",
     "iopub.status.idle": "2024-05-22T10:18:54.373477Z",
     "shell.execute_reply": "2024-05-22T10:18:54.371716Z"
    },
    "papermill": {
     "duration": 0.468144,
     "end_time": "2024-05-22T10:18:54.376865",
     "exception": false,
     "start_time": "2024-05-22T10:18:53.908721",
     "status": "completed"
    },
    "tags": []
   },
   "outputs": [
    {
     "name": "stdout",
     "output_type": "stream",
     "text": [
      "+--------------------+----------+-------------------+\n",
      "|           Christmas|      date|         time_stamp|\n",
      "+--------------------+----------+-------------------+\n",
      "|12/25/2019 01:30:...|2019-12-25|2019-12-25 13:30:00|\n",
      "+--------------------+----------+-------------------+\n",
      "\n"
     ]
    }
   ],
   "source": [
    "df_dates=df_dates.withColumn('date',to_date(col('Christmas'),'MM/dd/yyyy hh:mm:ss a'))\n",
    "df_dates=df_dates.withColumn('time_stamp',to_timestamp(col('Christmas'),'MM/dd/yyyy hh:mm:ss a'))\n",
    "df_dates.show()"
   ]
  }
 ],
 "metadata": {
  "kaggle": {
   "accelerator": "none",
   "dataSources": [
    {
     "databundleVersionId": 26502,
     "sourceId": 3136,
     "sourceType": "competition"
    }
   ],
   "dockerImageVersionId": 30698,
   "isGpuEnabled": false,
   "isInternetEnabled": true,
   "language": "python",
   "sourceType": "notebook"
  },
  "kernelspec": {
   "display_name": "Python 3",
   "language": "python",
   "name": "python3"
  },
  "language_info": {
   "codemirror_mode": {
    "name": "ipython",
    "version": 3
   },
   "file_extension": ".py",
   "mimetype": "text/x-python",
   "name": "python",
   "nbconvert_exporter": "python",
   "pygments_lexer": "ipython3",
   "version": "3.10.13"
  },
  "papermill": {
   "default_parameters": {},
   "duration": 107.004674,
   "end_time": "2024-05-22T10:18:57.019801",
   "environment_variables": {},
   "exception": null,
   "input_path": "__notebook__.ipynb",
   "output_path": "__notebook__.ipynb",
   "parameters": {},
   "start_time": "2024-05-22T10:17:10.015127",
   "version": "2.5.0"
  }
 },
 "nbformat": 4,
 "nbformat_minor": 5
}
